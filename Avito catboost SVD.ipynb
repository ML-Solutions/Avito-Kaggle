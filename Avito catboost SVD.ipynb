{
 "cells": [
  {
   "cell_type": "code",
   "execution_count": 1,
   "metadata": {},
   "outputs": [],
   "source": [
    "import pandas as pd\n",
    "pd.options.display.max_columns = 999\n",
    "import numpy as np\n",
    "import re\n",
    "import gc\n",
    "\n",
    "from sklearn.feature_extraction.text import CountVectorizer, TfidfVectorizer\n",
    "from nltk.corpus import stopwords\n",
    "from sklearn.decomposition import TruncatedSVD"
   ]
  },
  {
   "cell_type": "code",
   "execution_count": 2,
   "metadata": {},
   "outputs": [],
   "source": [
    "def downcast_dtypes(df):\n",
    "    '''\n",
    "        Changes column types in the dataframe: \n",
    "                \n",
    "        `float64` type to `float32`\n",
    "        `int64`   type to `int32`\n",
    "    '''\n",
    "    \n",
    "    # Select columns to downcast\n",
    "    float_cols = [c for c in df if df[c].dtype == \"float64\"]\n",
    "    int_cols =   [c for c in df if df[c].dtype == \"int64\"]\n",
    "    \n",
    "    # Downcast\n",
    "    df[float_cols] = df[float_cols].astype(np.float32)\n",
    "    df[int_cols]   = df[int_cols].astype(np.int32)\n",
    "    \n",
    "    return df"
   ]
  },
  {
   "cell_type": "markdown",
   "metadata": {},
   "source": [
    "## Parameters"
   ]
  },
  {
   "cell_type": "code",
   "execution_count": 3,
   "metadata": {},
   "outputs": [],
   "source": [
    "DATA_PATH = 'E://Kaggle//Avito//'\n",
    "DATA_IMAGE_PATH = DATA_PATH + 'images//'"
   ]
  },
  {
   "cell_type": "code",
   "execution_count": 4,
   "metadata": {},
   "outputs": [],
   "source": [
    "seed = 32\n",
    "VALID = True #Whether or not the notebook should run a validation\n",
    "n_components_title = 25 #best between 20 and 30\n",
    "colnames_svdtitle = ['svd_title_'+str(x) for x in range(n_components_title)]\n",
    "\n",
    "n_components_params = 15 #test best\n",
    "colnames_svdparams = ['svd_params_'+str(x) for x in range(n_components_params)]\n",
    "\n",
    "n_components_desc = 45 #best between 35 and 50\n",
    "colnames_svddesc = ['svd_desc_'+str(x) for x in range(n_components_desc)]\n",
    "\n",
    "REMOVE_MISSING_DESC = False"
   ]
  },
  {
   "cell_type": "markdown",
   "metadata": {},
   "source": [
    "Average RMSE 0.22093520452589313 Title comps 15 Desc comps 25\n",
    "\n",
    "Average RMSE 0.22073878443432582 Title comps 30 Desc comps 50\n",
    "\n",
    "Average RMSE 0.2207910681589925 Title comps 45 Desc comps 75\n",
    "\n",
    "Average RMSE 0.22072564018222374 Title comps 60 Desc comps 100"
   ]
  },
  {
   "cell_type": "markdown",
   "metadata": {},
   "source": [
    "## Load data\n",
    "complete_data is a concatenate of both dataset + some translations"
   ]
  },
  {
   "cell_type": "code",
   "execution_count": 5,
   "metadata": {},
   "outputs": [],
   "source": [
    "train = pd.read_csv(DATA_PATH+'train.csv')\n",
    "test = pd.read_csv(DATA_PATH+'test.csv')\n",
    "complete_data = pd.concat([train,test],axis=0,ignore_index=True)"
   ]
  },
  {
   "cell_type": "code",
   "execution_count": 6,
   "metadata": {},
   "outputs": [
    {
     "data": {
      "text/html": [
       "<div>\n",
       "<style scoped>\n",
       "    .dataframe tbody tr th:only-of-type {\n",
       "        vertical-align: middle;\n",
       "    }\n",
       "\n",
       "    .dataframe tbody tr th {\n",
       "        vertical-align: top;\n",
       "    }\n",
       "\n",
       "    .dataframe thead th {\n",
       "        text-align: right;\n",
       "    }\n",
       "</style>\n",
       "<table border=\"1\" class=\"dataframe\">\n",
       "  <thead>\n",
       "    <tr style=\"text-align: right;\">\n",
       "      <th></th>\n",
       "      <th>activation_date</th>\n",
       "      <th>category_name</th>\n",
       "      <th>city</th>\n",
       "      <th>deal_probability</th>\n",
       "      <th>description</th>\n",
       "      <th>image</th>\n",
       "      <th>image_top_1</th>\n",
       "      <th>item_id</th>\n",
       "      <th>item_seq_number</th>\n",
       "      <th>param_1</th>\n",
       "      <th>param_2</th>\n",
       "      <th>param_3</th>\n",
       "      <th>parent_category_name</th>\n",
       "      <th>price</th>\n",
       "      <th>region</th>\n",
       "      <th>title</th>\n",
       "      <th>user_id</th>\n",
       "      <th>user_type</th>\n",
       "    </tr>\n",
       "  </thead>\n",
       "  <tbody>\n",
       "    <tr>\n",
       "      <th>0</th>\n",
       "      <td>2017-03-28</td>\n",
       "      <td>Товары для детей и игрушки</td>\n",
       "      <td>Екатеринбург</td>\n",
       "      <td>0.12789</td>\n",
       "      <td>Кокон для сна малыша,пользовались меньше месяц...</td>\n",
       "      <td>d10c7e016e03247a3bf2d13348fe959fe6f436c1caf64c...</td>\n",
       "      <td>1008.0</td>\n",
       "      <td>b912c3c6a6ad</td>\n",
       "      <td>2</td>\n",
       "      <td>Постельные принадлежности</td>\n",
       "      <td>NaN</td>\n",
       "      <td>NaN</td>\n",
       "      <td>Личные вещи</td>\n",
       "      <td>400.0</td>\n",
       "      <td>Свердловская область</td>\n",
       "      <td>Кокоби(кокон для сна)</td>\n",
       "      <td>e00f8ff2eaf9</td>\n",
       "      <td>Private</td>\n",
       "    </tr>\n",
       "    <tr>\n",
       "      <th>1</th>\n",
       "      <td>2017-03-26</td>\n",
       "      <td>Мебель и интерьер</td>\n",
       "      <td>Самара</td>\n",
       "      <td>0.00000</td>\n",
       "      <td>Стойка для одежды, под вешалки. С бутика.</td>\n",
       "      <td>79c9392cc51a9c81c6eb91eceb8e552171db39d7142700...</td>\n",
       "      <td>692.0</td>\n",
       "      <td>2dac0150717d</td>\n",
       "      <td>19</td>\n",
       "      <td>Другое</td>\n",
       "      <td>NaN</td>\n",
       "      <td>NaN</td>\n",
       "      <td>Для дома и дачи</td>\n",
       "      <td>3000.0</td>\n",
       "      <td>Самарская область</td>\n",
       "      <td>Стойка для Одежды</td>\n",
       "      <td>39aeb48f0017</td>\n",
       "      <td>Private</td>\n",
       "    </tr>\n",
       "    <tr>\n",
       "      <th>2</th>\n",
       "      <td>2017-03-20</td>\n",
       "      <td>Аудио и видео</td>\n",
       "      <td>Ростов-на-Дону</td>\n",
       "      <td>0.43177</td>\n",
       "      <td>В хорошем состоянии, домашний кинотеатр с blu ...</td>\n",
       "      <td>b7f250ee3f39e1fedd77c141f273703f4a9be59db4b48a...</td>\n",
       "      <td>3032.0</td>\n",
       "      <td>ba83aefab5dc</td>\n",
       "      <td>9</td>\n",
       "      <td>Видео, DVD и Blu-ray плееры</td>\n",
       "      <td>NaN</td>\n",
       "      <td>NaN</td>\n",
       "      <td>Бытовая электроника</td>\n",
       "      <td>4000.0</td>\n",
       "      <td>Ростовская область</td>\n",
       "      <td>Philips bluray</td>\n",
       "      <td>91e2f88dd6e3</td>\n",
       "      <td>Private</td>\n",
       "    </tr>\n",
       "    <tr>\n",
       "      <th>3</th>\n",
       "      <td>2017-03-25</td>\n",
       "      <td>Товары для детей и игрушки</td>\n",
       "      <td>Набережные Челны</td>\n",
       "      <td>0.80323</td>\n",
       "      <td>Продам кресло от0-25кг</td>\n",
       "      <td>e6ef97e0725637ea84e3d203e82dadb43ed3cc0a1c8413...</td>\n",
       "      <td>796.0</td>\n",
       "      <td>02996f1dd2ea</td>\n",
       "      <td>286</td>\n",
       "      <td>Автомобильные кресла</td>\n",
       "      <td>NaN</td>\n",
       "      <td>NaN</td>\n",
       "      <td>Личные вещи</td>\n",
       "      <td>2200.0</td>\n",
       "      <td>Татарстан</td>\n",
       "      <td>Автокресло</td>\n",
       "      <td>bf5cccea572d</td>\n",
       "      <td>Company</td>\n",
       "    </tr>\n",
       "    <tr>\n",
       "      <th>4</th>\n",
       "      <td>2017-03-16</td>\n",
       "      <td>Автомобили</td>\n",
       "      <td>Волгоград</td>\n",
       "      <td>0.20797</td>\n",
       "      <td>Все вопросы по телефону.</td>\n",
       "      <td>54a687a3a0fc1d68aed99bdaaf551c5c70b761b16fd0a2...</td>\n",
       "      <td>2264.0</td>\n",
       "      <td>7c90be56d2ab</td>\n",
       "      <td>3</td>\n",
       "      <td>С пробегом</td>\n",
       "      <td>ВАЗ (LADA)</td>\n",
       "      <td>2110</td>\n",
       "      <td>Транспорт</td>\n",
       "      <td>40000.0</td>\n",
       "      <td>Волгоградская область</td>\n",
       "      <td>ВАЗ 2110, 2003</td>\n",
       "      <td>ef50846afc0b</td>\n",
       "      <td>Private</td>\n",
       "    </tr>\n",
       "    <tr>\n",
       "      <th>5</th>\n",
       "      <td>2017-03-28</td>\n",
       "      <td>Товары для детей и игрушки</td>\n",
       "      <td>Чистополь</td>\n",
       "      <td>0.80323</td>\n",
       "      <td>В хорошем состоянии</td>\n",
       "      <td>eb6ad1231c59d3dc7e4020e724ffe8e4d302023ddcbb99...</td>\n",
       "      <td>796.0</td>\n",
       "      <td>51e0962387f7</td>\n",
       "      <td>9</td>\n",
       "      <td>Автомобильные кресла</td>\n",
       "      <td>NaN</td>\n",
       "      <td>NaN</td>\n",
       "      <td>Личные вещи</td>\n",
       "      <td>1300.0</td>\n",
       "      <td>Татарстан</td>\n",
       "      <td>Авто люлька</td>\n",
       "      <td>bbfad0b1ad0a</td>\n",
       "      <td>Private</td>\n",
       "    </tr>\n",
       "    <tr>\n",
       "      <th>6</th>\n",
       "      <td>2017-03-23</td>\n",
       "      <td>Ремонт и строительство</td>\n",
       "      <td>Нижний Новгород</td>\n",
       "      <td>0.00000</td>\n",
       "      <td>Электро водонагреватель накопительный на 100 л...</td>\n",
       "      <td>0330f6ac561f5db1fa8226dd5e7e127b5671d44d075a98...</td>\n",
       "      <td>2823.0</td>\n",
       "      <td>c4f260a2b48a</td>\n",
       "      <td>125</td>\n",
       "      <td>Сантехника и сауна</td>\n",
       "      <td>NaN</td>\n",
       "      <td>NaN</td>\n",
       "      <td>Для дома и дачи</td>\n",
       "      <td>11000.0</td>\n",
       "      <td>Нижегородская область</td>\n",
       "      <td>Водонагреватель 100 литров нержавейка плоский</td>\n",
       "      <td>08f469d2e6f7</td>\n",
       "      <td>Private</td>\n",
       "    </tr>\n",
       "    <tr>\n",
       "      <th>7</th>\n",
       "      <td>2017-03-25</td>\n",
       "      <td>Одежда, обувь, аксессуары</td>\n",
       "      <td>Пермь</td>\n",
       "      <td>0.80323</td>\n",
       "      <td>Бойфренды в хорошем состоянии.</td>\n",
       "      <td>9bab29a519e81c14f4582024adfebd4f11a4ac71d323a6...</td>\n",
       "      <td>567.0</td>\n",
       "      <td>6b71309d6a8a</td>\n",
       "      <td>61</td>\n",
       "      <td>Женская одежда</td>\n",
       "      <td>Джинсы</td>\n",
       "      <td>26</td>\n",
       "      <td>Личные вещи</td>\n",
       "      <td>500.0</td>\n",
       "      <td>Пермский край</td>\n",
       "      <td>Бойфренды colins</td>\n",
       "      <td>fef86baa002c</td>\n",
       "      <td>Private</td>\n",
       "    </tr>\n",
       "    <tr>\n",
       "      <th>8</th>\n",
       "      <td>2017-03-17</td>\n",
       "      <td>Одежда, обувь, аксессуары</td>\n",
       "      <td>Оренбург</td>\n",
       "      <td>0.00000</td>\n",
       "      <td>54 раз мер очень удобное</td>\n",
       "      <td>75ce06d1f939a31dfb2af8ac55f08fa998fa336d13ee05...</td>\n",
       "      <td>415.0</td>\n",
       "      <td>c5b969cb63a2</td>\n",
       "      <td>85</td>\n",
       "      <td>Женская одежда</td>\n",
       "      <td>Платья и юбки</td>\n",
       "      <td>&gt; 50 (XXL)</td>\n",
       "      <td>Личные вещи</td>\n",
       "      <td>500.0</td>\n",
       "      <td>Оренбургская область</td>\n",
       "      <td>Платье</td>\n",
       "      <td>055825270190</td>\n",
       "      <td>Private</td>\n",
       "    </tr>\n",
       "    <tr>\n",
       "      <th>9</th>\n",
       "      <td>2017-03-22</td>\n",
       "      <td>Детская одежда и обувь</td>\n",
       "      <td>Нижний Новгород</td>\n",
       "      <td>0.00000</td>\n",
       "      <td>По стельке 15.5см мерить приокский район. Цвет...</td>\n",
       "      <td>54fb8521135fda77a860bfd2fac6bf46867ab7c06796e3...</td>\n",
       "      <td>46.0</td>\n",
       "      <td>b1570962e68c</td>\n",
       "      <td>136</td>\n",
       "      <td>Для девочек</td>\n",
       "      <td>Обувь</td>\n",
       "      <td>25</td>\n",
       "      <td>Личные вещи</td>\n",
       "      <td>400.0</td>\n",
       "      <td>Нижегородская область</td>\n",
       "      <td>Полу ботиночки замш натур.Бамбини</td>\n",
       "      <td>f9e8f831d94c</td>\n",
       "      <td>Company</td>\n",
       "    </tr>\n",
       "  </tbody>\n",
       "</table>\n",
       "</div>"
      ],
      "text/plain": [
       "  activation_date               category_name              city  \\\n",
       "0      2017-03-28  Товары для детей и игрушки      Екатеринбург   \n",
       "1      2017-03-26           Мебель и интерьер            Самара   \n",
       "2      2017-03-20               Аудио и видео    Ростов-на-Дону   \n",
       "3      2017-03-25  Товары для детей и игрушки  Набережные Челны   \n",
       "4      2017-03-16                  Автомобили         Волгоград   \n",
       "5      2017-03-28  Товары для детей и игрушки         Чистополь   \n",
       "6      2017-03-23      Ремонт и строительство   Нижний Новгород   \n",
       "7      2017-03-25   Одежда, обувь, аксессуары             Пермь   \n",
       "8      2017-03-17   Одежда, обувь, аксессуары          Оренбург   \n",
       "9      2017-03-22      Детская одежда и обувь   Нижний Новгород   \n",
       "\n",
       "   deal_probability                                        description  \\\n",
       "0           0.12789  Кокон для сна малыша,пользовались меньше месяц...   \n",
       "1           0.00000          Стойка для одежды, под вешалки. С бутика.   \n",
       "2           0.43177  В хорошем состоянии, домашний кинотеатр с blu ...   \n",
       "3           0.80323                             Продам кресло от0-25кг   \n",
       "4           0.20797                           Все вопросы по телефону.   \n",
       "5           0.80323                                В хорошем состоянии   \n",
       "6           0.00000  Электро водонагреватель накопительный на 100 л...   \n",
       "7           0.80323                     Бойфренды в хорошем состоянии.   \n",
       "8           0.00000                           54 раз мер очень удобное   \n",
       "9           0.00000  По стельке 15.5см мерить приокский район. Цвет...   \n",
       "\n",
       "                                               image  image_top_1  \\\n",
       "0  d10c7e016e03247a3bf2d13348fe959fe6f436c1caf64c...       1008.0   \n",
       "1  79c9392cc51a9c81c6eb91eceb8e552171db39d7142700...        692.0   \n",
       "2  b7f250ee3f39e1fedd77c141f273703f4a9be59db4b48a...       3032.0   \n",
       "3  e6ef97e0725637ea84e3d203e82dadb43ed3cc0a1c8413...        796.0   \n",
       "4  54a687a3a0fc1d68aed99bdaaf551c5c70b761b16fd0a2...       2264.0   \n",
       "5  eb6ad1231c59d3dc7e4020e724ffe8e4d302023ddcbb99...        796.0   \n",
       "6  0330f6ac561f5db1fa8226dd5e7e127b5671d44d075a98...       2823.0   \n",
       "7  9bab29a519e81c14f4582024adfebd4f11a4ac71d323a6...        567.0   \n",
       "8  75ce06d1f939a31dfb2af8ac55f08fa998fa336d13ee05...        415.0   \n",
       "9  54fb8521135fda77a860bfd2fac6bf46867ab7c06796e3...         46.0   \n",
       "\n",
       "        item_id  item_seq_number                      param_1        param_2  \\\n",
       "0  b912c3c6a6ad                2    Постельные принадлежности            NaN   \n",
       "1  2dac0150717d               19                       Другое            NaN   \n",
       "2  ba83aefab5dc                9  Видео, DVD и Blu-ray плееры            NaN   \n",
       "3  02996f1dd2ea              286         Автомобильные кресла            NaN   \n",
       "4  7c90be56d2ab                3                   С пробегом     ВАЗ (LADA)   \n",
       "5  51e0962387f7                9         Автомобильные кресла            NaN   \n",
       "6  c4f260a2b48a              125           Сантехника и сауна            NaN   \n",
       "7  6b71309d6a8a               61               Женская одежда         Джинсы   \n",
       "8  c5b969cb63a2               85               Женская одежда  Платья и юбки   \n",
       "9  b1570962e68c              136                  Для девочек          Обувь   \n",
       "\n",
       "      param_3 parent_category_name    price                 region  \\\n",
       "0         NaN          Личные вещи    400.0   Свердловская область   \n",
       "1         NaN      Для дома и дачи   3000.0      Самарская область   \n",
       "2         NaN  Бытовая электроника   4000.0     Ростовская область   \n",
       "3         NaN          Личные вещи   2200.0              Татарстан   \n",
       "4        2110            Транспорт  40000.0  Волгоградская область   \n",
       "5         NaN          Личные вещи   1300.0              Татарстан   \n",
       "6         NaN      Для дома и дачи  11000.0  Нижегородская область   \n",
       "7          26          Личные вещи    500.0          Пермский край   \n",
       "8  > 50 (XXL)          Личные вещи    500.0   Оренбургская область   \n",
       "9          25          Личные вещи    400.0  Нижегородская область   \n",
       "\n",
       "                                           title       user_id user_type  \n",
       "0                          Кокоби(кокон для сна)  e00f8ff2eaf9   Private  \n",
       "1                              Стойка для Одежды  39aeb48f0017   Private  \n",
       "2                                 Philips bluray  91e2f88dd6e3   Private  \n",
       "3                                     Автокресло  bf5cccea572d   Company  \n",
       "4                                 ВАЗ 2110, 2003  ef50846afc0b   Private  \n",
       "5                                    Авто люлька  bbfad0b1ad0a   Private  \n",
       "6  Водонагреватель 100 литров нержавейка плоский  08f469d2e6f7   Private  \n",
       "7                               Бойфренды colins  fef86baa002c   Private  \n",
       "8                                         Платье  055825270190   Private  \n",
       "9              Полу ботиночки замш натур.Бамбини  f9e8f831d94c   Company  "
      ]
     },
     "execution_count": 6,
     "metadata": {},
     "output_type": "execute_result"
    }
   ],
   "source": [
    "complete_data.head(10)"
   ]
  },
  {
   "cell_type": "markdown",
   "metadata": {},
   "source": [
    "# Feature Engineering\n",
    "#### Relative to Date\n",
    "\n",
    "Weekday and day could be usefull. I won't add month and week because there is just a minuscule overlap in month and none in weeks. Can be tested if month / day provide any gain in RMSE."
   ]
  },
  {
   "cell_type": "code",
   "execution_count": 7,
   "metadata": {},
   "outputs": [],
   "source": [
    "complete_data['activation_date']=pd.to_datetime(complete_data['activation_date'])\n",
    "complete_data['activation_weekday']=complete_data['activation_date'].dt.weekday\n",
    "complete_data['activation_day']=complete_data['activation_date'].dt.day #Remove \n",
    "complete_data['activation_week']=complete_data['activation_date'].dt.week #Remove \n",
    "#complete_data['activation_month']=complete_data['activation_date'].dt.month #Remove"
   ]
  },
  {
   "cell_type": "markdown",
   "metadata": {},
   "source": [
    "#### Relative to users"
   ]
  },
  {
   "cell_type": "code",
   "execution_count": 8,
   "metadata": {},
   "outputs": [],
   "source": [
    "complete_data['user_counts']=complete_data.groupby(['user_id'])['item_id'].transform('count')\n",
    "complete_data['user_counts_bin']=pd.qcut(complete_data['user_counts'],5,duplicates='drop',labels=range(4)) #one duplicate"
   ]
  },
  {
   "cell_type": "code",
   "execution_count": null,
   "metadata": {},
   "outputs": [],
   "source": [
    "item_count_cutoff = 31\n",
    "common_users = set(train['user_id']).intersection(set(test['user_id']))\n",
    "temp = train.groupby(['user_id'],as_index=False).agg({'item_id':'count'}).rename(columns={'item_id':'count_item'})\n",
    "big_users = set(temp[temp['count_item']>=item_count_cutoff]['user_id'])\n",
    "\n",
    "complete_data['user_id'] = np.where(complete_data['user_id'].isin(common_users),\n",
    "                                    np.where(complete_data['user_id'].isin(big_users),\n",
    "                                             complete_data['user_id'],'SmallUser'),'NotCommonUser') #This is why an embedding of the user is useful"
   ]
  },
  {
   "cell_type": "markdown",
   "metadata": {},
   "source": [
    "User ids that are not in test should not be used. It would create overfitting. Therefore let's clean the user_id by keeping only users that have a minimal presence in test and train. \n",
    "To Do : Try to remove users with less than 2 items in train set\n",
    "\n",
    "This reduces the amount of level of the user_id as a category by a factor 10."
   ]
  },
  {
   "cell_type": "markdown",
   "metadata": {},
   "source": [
    "#### Relative to regions\n",
    "Can use embedding since all region are in both data (need special KFold scheme)"
   ]
  },
  {
   "cell_type": "markdown",
   "metadata": {},
   "source": [
    "#### Relative to cities"
   ]
  },
  {
   "cell_type": "code",
   "execution_count": 10,
   "metadata": {},
   "outputs": [],
   "source": [
    "complete_data['city_counts']=complete_data.groupby(['city'])['item_id'].transform('count')\n",
    "complete_data['city_counts_bin']=pd.qcut(complete_data['city_counts'],5,duplicates='drop',labels=range(5))"
   ]
  },
  {
   "cell_type": "code",
   "execution_count": null,
   "metadata": {},
   "outputs": [],
   "source": [
    "common_cities = set(train['city']).intersection(set(test['city']))\n",
    "temp = train.groupby(['city'],as_index=False).agg({'item_id':'count'}).rename(columns={'item_id':'count_item'})\n",
    "big_cities = set(temp[temp['count_item']>=item_count_cutoff]['city'])\n",
    "\n",
    "complete_data['city'] = np.where(complete_data['city'].isin(common_cities),\n",
    "                                  np.where(complete_data['city'].isin(big_cities),\n",
    "                                           complete_data['city'],'SmallCity'),'NotCommonCity')"
   ]
  },
  {
   "cell_type": "markdown",
   "metadata": {},
   "source": [
    "#### Relative to parent category\n",
    "Can use embeddings (need special KFold scheme)"
   ]
  },
  {
   "cell_type": "code",
   "execution_count": null,
   "metadata": {},
   "outputs": [],
   "source": []
  },
  {
   "cell_type": "markdown",
   "metadata": {},
   "source": [
    "#### Relative to category\n",
    "Can use embeddings (need special KFold scheme)"
   ]
  },
  {
   "cell_type": "code",
   "execution_count": null,
   "metadata": {},
   "outputs": [],
   "source": []
  },
  {
   "cell_type": "markdown",
   "metadata": {},
   "source": [
    "#### Relative to price"
   ]
  },
  {
   "cell_type": "code",
   "execution_count": 11,
   "metadata": {},
   "outputs": [],
   "source": [
    "complete_data['log_price']=np.log(1+complete_data['price'])"
   ]
  },
  {
   "cell_type": "code",
   "execution_count": 12,
   "metadata": {},
   "outputs": [],
   "source": [
    "complete_data['price'].fillna(-999,inplace=True)\n",
    "complete_data['log_price'].fillna(-999,inplace=True)"
   ]
  },
  {
   "cell_type": "code",
   "execution_count": 13,
   "metadata": {},
   "outputs": [],
   "source": [
    "complete_data['price_10']=np.where(complete_data['price']>0, (complete_data['price'].astype(int)//10).astype(str).apply(lambda x: x[-1]),-999)\n",
    "complete_data['price_100']=np.where(complete_data['price']>0, (complete_data['price'].astype(int)//100).astype(str).apply(lambda x: x[-1]),-999)\n",
    "complete_data['price_1000']=np.where(complete_data['price']>0, (complete_data['price'].astype(int)//1000).astype(str).apply(lambda x: x[-1]),-999)\n",
    "complete_data['price_10000']=np.where(complete_data['price']>0, (complete_data['price'].astype(int)//10000).astype(str).apply(lambda x: x[-1]),-999)\n",
    "complete_data['price_100000']=np.where(complete_data['price']>0, (complete_data['price'].astype(int)//100000).astype(str).apply(lambda x: x[-1]),-999)"
   ]
  },
  {
   "cell_type": "markdown",
   "metadata": {},
   "source": [
    "#### Relative to item_seq_number"
   ]
  },
  {
   "cell_type": "code",
   "execution_count": 14,
   "metadata": {},
   "outputs": [],
   "source": [
    "complete_data['log_item_seq']=np.log(1+complete_data['item_seq_number'])"
   ]
  },
  {
   "cell_type": "markdown",
   "metadata": {},
   "source": [
    "#### Relative to user_type\n",
    "Can use embeddings (need special KFold scheme)"
   ]
  },
  {
   "cell_type": "markdown",
   "metadata": {},
   "source": [
    "#### Relative to image_top_1"
   ]
  },
  {
   "cell_type": "code",
   "execution_count": 15,
   "metadata": {},
   "outputs": [],
   "source": [
    "complete_data['image_top_1'].fillna(-999,inplace=True)\n",
    "train['image_top_1'].fillna(-999,inplace=True)\n",
    "test['image_top_1'].fillna(-999,inplace=True)\n",
    "new_image_top = set(test['image_top_1'])-set(train['image_top_1'])\n",
    "complete_data['image_top_1']=np.where(complete_data['image_top_1'].isin(new_image_top),\n",
    "                                      -999,complete_data['image_top_1']) #should actually select the closest image class"
   ]
  },
  {
   "cell_type": "code",
   "execution_count": 16,
   "metadata": {},
   "outputs": [
    {
     "ename": "ValueError",
     "evalue": "Buffer dtype mismatch, expected 'Python object' but got 'long long'",
     "output_type": "error",
     "traceback": [
      "\u001b[1;31m---------------------------------------------------------------------------\u001b[0m",
      "\u001b[1;31mValueError\u001b[0m                                Traceback (most recent call last)",
      "\u001b[1;31mValueError\u001b[0m: Buffer dtype mismatch, expected 'Python object' but got 'long long'"
     ]
    },
    {
     "name": "stderr",
     "output_type": "stream",
     "text": [
      "Exception ignored in: 'pandas._libs.lib.is_bool_array'\n",
      "ValueError: Buffer dtype mismatch, expected 'Python object' but got 'long long'\n"
     ]
    },
    {
     "ename": "ValueError",
     "evalue": "Buffer dtype mismatch, expected 'Python object' but got 'long long'",
     "output_type": "error",
     "traceback": [
      "\u001b[1;31m---------------------------------------------------------------------------\u001b[0m",
      "\u001b[1;31mValueError\u001b[0m                                Traceback (most recent call last)",
      "\u001b[1;31mValueError\u001b[0m: Buffer dtype mismatch, expected 'Python object' but got 'long long'"
     ]
    },
    {
     "name": "stderr",
     "output_type": "stream",
     "text": [
      "Exception ignored in: 'pandas._libs.lib.is_bool_array'\n",
      "ValueError: Buffer dtype mismatch, expected 'Python object' but got 'long long'\n"
     ]
    }
   ],
   "source": [
    "#Use train only\n",
    "heatmatrix = pd.crosstab(train['image_top_1'],train['category_name'])\n",
    "rows = heatmatrix.index\n",
    "columns = heatmatrix.columns\n",
    "heatmatrix = heatmatrix.values / np.sum(heatmatrix.values,axis=1,keepdims=True) #Normalize\n",
    "heatmatrix = pd.DataFrame(heatmatrix,index=rows,columns=columns)\n",
    "values = []\n",
    "for image_top_1 in heatmatrix.index:\n",
    "    for category in heatmatrix.columns:\n",
    "        values.append([image_top_1,category,heatmatrix.loc[image_top_1,category]])\n",
    "matrix_long = pd.DataFrame(values,columns=['image_top_1','category_name','heatmatrix_value'])\n",
    "complete_data = complete_data.merge(matrix_long,how='left',on=['image_top_1','category_name'])\n",
    "complete_data['heatmatrix_value'].fillna(-999,inplace=True)\n",
    "#Number of classes in category\n",
    "class_counts = (heatmatrix>0).sum(axis=0)\n",
    "class_max = heatmatrix.max(axis=0)\n",
    "class_mean = heatmatrix.mean(axis=0)\n",
    "complete_data['class_category_counts'] = complete_data['category_name'].map(class_counts)\n",
    "complete_data['class_category_max'] = complete_data['category_name'].map(class_max)\n",
    "complete_data['class_category_mean'] = complete_data['category_name'].map(class_mean)"
   ]
  },
  {
   "cell_type": "markdown",
   "metadata": {},
   "source": [
    "#### Relative to texts"
   ]
  },
  {
   "cell_type": "code",
   "execution_count": 17,
   "metadata": {},
   "outputs": [],
   "source": [
    "uppercase_regex = re.compile(r'[A-ZА-Я]')\n",
    "symbols_regex = re.compile(r'[^a-zA-ZА-Я0-9а-я]')\n",
    "digits_regex = re.compile(r'[0-9]')"
   ]
  },
  {
   "cell_type": "code",
   "execution_count": 18,
   "metadata": {},
   "outputs": [],
   "source": [
    "complete_data['params'] = complete_data['param_1'].astype(str)+complete_data['param_2'].astype(str)+complete_data['param_3'].astype(str)"
   ]
  },
  {
   "cell_type": "code",
   "execution_count": 19,
   "metadata": {},
   "outputs": [],
   "source": [
    "wordVectParams = TfidfVectorizer(ngram_range=(1,3),\n",
    "                                stop_words = stopwords.words('russian')\n",
    "                               )\n",
    "params_sparse = wordVectParams.fit_transform(complete_data['params'])"
   ]
  },
  {
   "cell_type": "code",
   "execution_count": 21,
   "metadata": {},
   "outputs": [],
   "source": [
    "svd_params = TruncatedSVD(n_components=n_components_params)\n",
    "params_sparse_proj  = svd_params.fit_transform(params_sparse)\n",
    "complete_data = pd.concat([complete_data,pd.DataFrame(params_sparse_proj,columns=colnames_svdparams)],axis=1)\n",
    "del params_sparse_proj"
   ]
  },
  {
   "cell_type": "code",
   "execution_count": 22,
   "metadata": {},
   "outputs": [],
   "source": [
    "#To Do Hyperopt on TFIDF parameters\n",
    "wordVectTitle = TfidfVectorizer(min_df=2, #Reduce some overfitting (to try in hyper opt)\n",
    "                                max_df=0.5,\n",
    "                                ngram_range=(1,3),\n",
    "                                stop_words = stopwords.words('russian')\n",
    "                               )\n",
    "title_sparse = wordVectTitle.fit_transform(complete_data['title'])"
   ]
  },
  {
   "cell_type": "code",
   "execution_count": 23,
   "metadata": {},
   "outputs": [],
   "source": [
    "svd_title = TruncatedSVD(n_components=n_components_title)\n",
    "title_sparse_proj  = svd_title.fit_transform(title_sparse)\n",
    "complete_data = pd.concat([complete_data,pd.DataFrame(title_sparse_proj,columns=colnames_svdtitle)],axis=1)\n",
    "del title_sparse_proj"
   ]
  },
  {
   "cell_type": "code",
   "execution_count": 24,
   "metadata": {},
   "outputs": [],
   "source": [
    "complete_data['title_number_uppercase'] = complete_data['title'].str.count(uppercase_regex)\n",
    "complete_data['title_number_symbols'] = complete_data['title'].str.count(symbols_regex)\n",
    "complete_data['title_number_digits'] = complete_data['title'].str.count(digits_regex)\n",
    "complete_data['title_len_chars']=complete_data['title'].apply(lambda x: len(str(x)))\n",
    "complete_data['title_len_words']=complete_data['title'].str.split().apply(lambda x: len(str(x)))\n",
    "complete_data['title_unique'] = complete_data['title'].str.split().apply(lambda x: len(set(str(x))))\n",
    "complete_data['share_unique_title'] = complete_data['title_unique']/complete_data['title_len_words']"
   ]
  },
  {
   "cell_type": "code",
   "execution_count": 25,
   "metadata": {},
   "outputs": [],
   "source": [
    "#Do that before filling missings\n",
    "complete_data['desc_number_uppercase'] = complete_data['description'].str.count(uppercase_regex)\n",
    "complete_data['desc_number_symbols'] = complete_data['description'].str.count(symbols_regex)\n",
    "complete_data['desc_number_digits'] = complete_data['description'].str.count(digits_regex) #should do similar stuff for param\n",
    "complete_data['desc_len_char']=complete_data['description'].apply(lambda x: len(str(x)))\n",
    "complete_data['desc_len_words']=complete_data['description'].str.split().apply(lambda x: len(str(x)))\n",
    "complete_data['desc_unique'] = complete_data['description'].str.split().apply(lambda x: len(set(str(x))))\n",
    "complete_data['share_unique_desc'] = complete_data['desc_unique']/complete_data['desc_len_words']"
   ]
  },
  {
   "cell_type": "code",
   "execution_count": 26,
   "metadata": {},
   "outputs": [],
   "source": [
    "complete_data['desc_number_uppercase'].fillna(-999,inplace=True)\n",
    "complete_data['desc_number_symbols'].fillna(-999,inplace=True)\n",
    "complete_data['desc_number_digits'].fillna(-999,inplace=True)\n",
    "complete_data['desc_len_char'].fillna(-999,inplace=True)\n",
    "complete_data['desc_len_words'].fillna(-999,inplace=True)\n",
    "complete_data['desc_unique'].fillna(-999,inplace=True)\n",
    "complete_data['share_unique_desc'].fillna(-999,inplace=True)"
   ]
  },
  {
   "cell_type": "code",
   "execution_count": 27,
   "metadata": {},
   "outputs": [],
   "source": [
    "complete_data['description'].fillna('Missing',inplace=True)\n",
    "wordVectDesc = TfidfVectorizer(min_df=2,\n",
    "                                max_df=0.5,\n",
    "                                ngram_range=(1,2),\n",
    "                                stop_words = stopwords.words('russian')\n",
    "                               )\n",
    "desc_sparse = wordVectDesc.fit_transform(complete_data['description'])\n",
    "\n",
    "svd_desc = TruncatedSVD(n_components=n_components_desc)\n",
    "desc_sparse_proj  = svd_desc.fit_transform(desc_sparse)\n",
    "complete_data = pd.concat([complete_data,pd.DataFrame(desc_sparse_proj,columns=colnames_svddesc)],axis=1)\n",
    "del desc_sparse_proj"
   ]
  },
  {
   "cell_type": "code",
   "execution_count": 28,
   "metadata": {},
   "outputs": [],
   "source": [
    "test_title = set(complete_data[complete_data['deal_probability'].isna()]['title'])\n",
    "train_title = set(complete_data[complete_data['deal_probability'].notnull()]['title'])\n",
    "title_to_include = test_title.intersection(train_title)\n",
    "complete_data['title_clean']=np.where(complete_data['title'].isin(title_to_include),complete_data['title'],'Other')"
   ]
  },
  {
   "cell_type": "code",
   "execution_count": 29,
   "metadata": {},
   "outputs": [
    {
     "name": "stdout",
     "output_type": "stream",
     "text": [
      "<class 'pandas.core.frame.DataFrame'>\n",
      "Int64Index: 2011862 entries, 0 to 2011861\n",
      "Columns: 138 entries, activation_date to title_clean\n",
      "dtypes: category(2), datetime64[ns](1), float64(98), int64(16), object(21)\n",
      "memory usage: 2.1+ GB\n"
     ]
    }
   ],
   "source": [
    "complete_data.info()"
   ]
  },
  {
   "cell_type": "code",
   "execution_count": 30,
   "metadata": {},
   "outputs": [],
   "source": [
    "complete_data = downcast_dtypes(complete_data)"
   ]
  },
  {
   "cell_type": "code",
   "execution_count": 31,
   "metadata": {},
   "outputs": [],
   "source": [
    "complete_data.to_csv(DATA_PATH+'complete_data_fe_svd.csv',index=False)"
   ]
  },
  {
   "cell_type": "markdown",
   "metadata": {},
   "source": [
    "## Encode categoricals (Start from here when feature engineering is saved)"
   ]
  },
  {
   "cell_type": "code",
   "execution_count": 1,
   "metadata": {},
   "outputs": [],
   "source": [
    "import pandas as pd\n",
    "pd.options.display.max_columns = 999\n",
    "import numpy as np\n",
    "import gc\n",
    "from time import time\n",
    "\n",
    "import catboost\n",
    "from sklearn.preprocessing import LabelEncoder\n",
    "from sklearn.model_selection import train_test_split, KFold, ShuffleSplit\n",
    "from sklearn.metrics import mean_squared_error\n",
    "import seaborn as sns\n",
    "import matplotlib.pyplot as plt\n",
    "plt.style.use('dark_background')\n",
    "\n",
    "def downcast_dtypes(df):\n",
    "    '''\n",
    "        Changes column types in the dataframe: \n",
    "                \n",
    "        `float64` type to `float32`\n",
    "        `int64`   type to `int32`\n",
    "    '''\n",
    "    \n",
    "    # Select columns to downcast\n",
    "    float_cols = [c for c in df if df[c].dtype == \"float64\"]\n",
    "    int_cols =   [c for c in df if df[c].dtype == \"int64\"]\n",
    "    \n",
    "    # Downcast\n",
    "    df[float_cols] = df[float_cols].astype(np.float32)\n",
    "    df[int_cols]   = df[int_cols].astype(np.int32)\n",
    "    \n",
    "    return df"
   ]
  },
  {
   "cell_type": "code",
   "execution_count": 2,
   "metadata": {},
   "outputs": [],
   "source": [
    "DATA_PATH = 'E://Kaggle//Avito//'\n",
    "DATA_IMAGE_PATH = DATA_PATH + 'images//'\n",
    "seed = 32\n",
    "VALID = True #Whether or not the notebook should run a validation\n",
    "n_components_title = 25 #best between 20 and 30\n",
    "colnames_svdtitle = ['svd_title_'+str(x) for x in range(n_components_title)]\n",
    "\n",
    "n_components_params = 15 #test best\n",
    "colnames_svdparams = ['svd_params_'+str(x) for x in range(n_components_params)]\n",
    "\n",
    "n_components_desc = 40 #best between 35 and 50\n",
    "colnames_svddesc = ['svd_desc_'+str(x) for x in range(n_components_desc)]\n",
    "\n",
    "REMOVE_MISSING_DESC = False"
   ]
  },
  {
   "cell_type": "code",
   "execution_count": 3,
   "metadata": {},
   "outputs": [],
   "source": [
    "complete_data = pd.read_csv(DATA_PATH+'complete_data_fe_svd.csv')"
   ]
  },
  {
   "cell_type": "code",
   "execution_count": 4,
   "metadata": {},
   "outputs": [],
   "source": [
    "#Fill missings in categorical variables (that will be used)\n",
    "categoricals_toencode = ['category_name','parent_category_name',\n",
    "                'city','region',\n",
    "                'user_id','user_id_clean','user_type',\n",
    "                'image_top_1',\n",
    "                'param_1','param_2','param_3','title','title_clean','params']\n",
    "encoder = LabelEncoder() #Encoder also encodes missings\n",
    "for cat in categoricals_toencode:\n",
    "    complete_data[cat] = encoder.fit_transform(complete_data[cat].astype(str))"
   ]
  },
  {
   "cell_type": "code",
   "execution_count": 5,
   "metadata": {},
   "outputs": [
    {
     "data": {
      "text/plain": [
       "activation_date              0\n",
       "category_name                0\n",
       "city                         0\n",
       "deal_probability        508438\n",
       "description                  0\n",
       "image                   155197\n",
       "image_top_1                  0\n",
       "item_id                      0\n",
       "item_seq_number              0\n",
       "param_1                      0\n",
       "param_2                      0\n",
       "param_3                      0\n",
       "parent_category_name         0\n",
       "price                        0\n",
       "region                       0\n",
       "title                        0\n",
       "user_id                      0\n",
       "user_type                    0\n",
       "activation_weekday           0\n",
       "activation_day               0\n",
       "activation_week              0\n",
       "user_counts                  0\n",
       "user_counts_bin              0\n",
       "user_id_clean                0\n",
       "city_counts                  0\n",
       "city_counts_bin              0\n",
       "log_price                    0\n",
       "price_10                     0\n",
       "price_100                    0\n",
       "price_1000                   0\n",
       "                         ...  \n",
       "svd_desc_16                  0\n",
       "svd_desc_17                  0\n",
       "svd_desc_18                  0\n",
       "svd_desc_19                  0\n",
       "svd_desc_20                  0\n",
       "svd_desc_21                  0\n",
       "svd_desc_22                  0\n",
       "svd_desc_23                  0\n",
       "svd_desc_24                  0\n",
       "svd_desc_25                  0\n",
       "svd_desc_26                  0\n",
       "svd_desc_27                  0\n",
       "svd_desc_28                  0\n",
       "svd_desc_29                  0\n",
       "svd_desc_30                  0\n",
       "svd_desc_31                  0\n",
       "svd_desc_32                  0\n",
       "svd_desc_33                  0\n",
       "svd_desc_34                  0\n",
       "svd_desc_35                  0\n",
       "svd_desc_36                  0\n",
       "svd_desc_37                  0\n",
       "svd_desc_38                  0\n",
       "svd_desc_39                  0\n",
       "svd_desc_40                  0\n",
       "svd_desc_41                  0\n",
       "svd_desc_42                  0\n",
       "svd_desc_43                  0\n",
       "svd_desc_44                  0\n",
       "title_clean                  0\n",
       "Length: 138, dtype: int64"
      ]
     },
     "execution_count": 5,
     "metadata": {},
     "output_type": "execute_result"
    }
   ],
   "source": [
    "#Sanity check\n",
    "complete_data.isnull().sum()"
   ]
  },
  {
   "cell_type": "code",
   "execution_count": 6,
   "metadata": {},
   "outputs": [],
   "source": [
    "complete_data = downcast_dtypes(complete_data)"
   ]
  },
  {
   "cell_type": "markdown",
   "metadata": {},
   "source": [
    "## Split back"
   ]
  },
  {
   "cell_type": "code",
   "execution_count": 7,
   "metadata": {},
   "outputs": [
    {
     "data": {
      "text/plain": [
       "46"
      ]
     },
     "execution_count": 7,
     "metadata": {},
     "output_type": "execute_result"
    }
   ],
   "source": [
    "train = complete_data[complete_data['deal_probability'].notnull()].copy()\n",
    "test = complete_data[complete_data['deal_probability'].isna()].copy()\n",
    "del complete_data\n",
    "if REMOVE_MISSING_DESC:\n",
    "    train = train[train['description']!='Missing']\n",
    "gc.collect()"
   ]
  },
  {
   "cell_type": "markdown",
   "metadata": {},
   "source": [
    "## Declaring Variables"
   ]
  },
  {
   "cell_type": "code",
   "execution_count": 8,
   "metadata": {},
   "outputs": [],
   "source": [
    "target = 'deal_probability'\n",
    "\n",
    "numericals = ['price','log_price','item_seq_number','log_item_seq','user_counts','city_counts']\n",
    "numericals += ['title_number_uppercase','title_len_chars','title_len_words','title_unique','share_unique_title']+colnames_svdtitle\n",
    "numericals += ['desc_number_uppercase','desc_len_char','desc_len_words','desc_unique','share_unique_desc']+colnames_svddesc\n",
    "numericals += colnames_svdparams\n",
    "numericals += ['heatmatrix_value','class_category_counts','class_category_max','class_category_mean']\n",
    "numericals += ['price_10','price_100','price_1000','price_10000','price_100000']\n",
    "\n",
    "categoricals = ['category_name','parent_category_name','city','image_top_1','param_1','param_2','param_3',\n",
    "                'activation_weekday',\n",
    "                'region','user_type','user_counts_bin','city_counts_bin',\n",
    "               'user_id_clean','title_clean','params']\n",
    "#Removed user_id, title => These cause problems for catboost\n",
    "features = numericals+categoricals\n",
    "index_cat = list(range(len(numericals),len(features)))"
   ]
  },
  {
   "cell_type": "code",
   "execution_count": 9,
   "metadata": {},
   "outputs": [],
   "source": [
    "X = train[features].values\n",
    "y = train[target].values\n",
    "X_board = test[features].values"
   ]
  },
  {
   "cell_type": "markdown",
   "metadata": {},
   "source": [
    "## Feature Importance \n",
    "Catboost issue with large GBDT when calculating feature importance"
   ]
  },
  {
   "cell_type": "code",
   "execution_count": 10,
   "metadata": {},
   "outputs": [],
   "source": [
    "cat_params = {'eval_metric':'RMSE',\n",
    "              'logging_level':'Silent',\n",
    "              \n",
    "              'depth':12,\n",
    "              'iterations':350,\n",
    "              'learning_rate':0.2,\n",
    "              'one_hot_max_size':5,\n",
    "              \n",
    "              'used_ram_limit':20*1024*1024*1024,\n",
    "              'task_type':'GPU'}\n",
    "cat_model = catboost.CatBoostRegressor(**cat_params)"
   ]
  },
  {
   "cell_type": "code",
   "execution_count": 11,
   "metadata": {},
   "outputs": [
    {
     "data": {
      "text/plain": [
       "<catboost.core.CatBoostRegressor at 0x2b714c3d9b0>"
      ]
     },
     "execution_count": 11,
     "metadata": {},
     "output_type": "execute_result"
    }
   ],
   "source": [
    "cat_model.fit(X=X,y=y,verbose=False,cat_features = index_cat)"
   ]
  },
  {
   "cell_type": "code",
   "execution_count": 12,
   "metadata": {},
   "outputs": [
    {
     "data": {
      "image/png": "[encoded data removed]",
      "text/plain": [
       "<Figure size 864x1512 with 1 Axes>"
      ]
     },
     "metadata": {},
     "output_type": "display_data"
    }
   ],
   "source": [
    "plt.figure(figsize=(12,21))\n",
    "sns.barplot(x=cat_model.feature_importances_, y=features)\n",
    "plt.show()"
   ]
  },
  {
   "cell_type": "markdown",
   "metadata": {},
   "source": [
    "## Model"
   ]
  },
  {
   "cell_type": "code",
   "execution_count": 13,
   "metadata": {},
   "outputs": [],
   "source": [
    "cat_params = {'eval_metric':'RMSE',\n",
    "              'logging_level':'Silent',\n",
    "              \n",
    "              'depth':12,\n",
    "              'iterations':1200,\n",
    "              'learning_rate':0.10,\n",
    "              'one_hot_max_size':5,\n",
    "              \n",
    "              'used_ram_limit':20*1024*1024*1024,\n",
    "              'gpu_ram_part':0.8,\n",
    "              'random_seed':seed,\n",
    "              'task_type':'GPU',\n",
    "              'od_type':\"Iter\",\n",
    "              'calc_feature_importance':False,\n",
    "              'od_wait':60}\n",
    "cat_model = catboost.CatBoostRegressor(**cat_params)"
   ]
  },
  {
   "cell_type": "markdown",
   "metadata": {},
   "source": [
    "## Validation Scheme"
   ]
  },
  {
   "cell_type": "code",
   "execution_count": 14,
   "metadata": {},
   "outputs": [],
   "source": [
    "kf = KFold(5,shuffle=True,random_state=seed)\n",
    "sf = ShuffleSplit(3,test_size=0.1)"
   ]
  },
  {
   "cell_type": "code",
   "execution_count": 15,
   "metadata": {},
   "outputs": [
    {
     "name": "stdout",
     "output_type": "stream",
     "text": [
      "Fold 0 RMSE is 0.22064287311811812\n",
      "817\n",
      "10.0 Minutes\n",
      "Fold 1 RMSE is 0.22075877905089605\n",
      "857\n",
      "10.0 Minutes\n",
      "Fold 2 RMSE is 0.22043371043337273\n",
      "935\n",
      "10.0 Minutes\n",
      "Fold 3 RMSE is 0.22031545931675806\n",
      "837\n",
      "10.0 Minutes\n",
      "Fold 4 RMSE is 0.22048752232759447\n",
      "810\n",
      "10.0 Minutes\n",
      "Average RMSE 0.22052766884934788\n"
     ]
    }
   ],
   "source": [
    "if VALID:\n",
    "    i=0\n",
    "    rmse=[]\n",
    "    n_trees =[]\n",
    "    for train_idx, test_idx in kf.split(X,y):\n",
    "        start = time()\n",
    "        cat_model.fit(X=X[train_idx],y=y[train_idx],eval_set=(X[test_idx],y[test_idx]),cat_features = index_cat, \n",
    "                      verbose=False,use_best_model=True)\n",
    "\n",
    "        rmse.append(mean_squared_error(y[test_idx],cat_model.predict(X[test_idx]).clip(0.0,1.0))**0.5)\n",
    "        n_trees.append(cat_model.tree_count_)\n",
    "        print('Fold',str(i),'RMSE is',rmse[i])\n",
    "        print(cat_model.tree_count_)\n",
    "        i+=1\n",
    "        print((time()-start)//60,'Minutes')\n",
    "\n",
    "    print('Average RMSE',sum(rmse)/len(rmse))"
   ]
  },
  {
   "cell_type": "markdown",
   "metadata": {},
   "source": [
    "## Predictions"
   ]
  },
  {
   "cell_type": "code",
   "execution_count": 16,
   "metadata": {},
   "outputs": [
    {
     "data": {
      "text/plain": [
       "<catboost.core.CatBoostRegressor at 0x2b752fc5240>"
      ]
     },
     "execution_count": 16,
     "metadata": {},
     "output_type": "execute_result"
    }
   ],
   "source": [
    "cat_params_predict = cat_params.copy()\n",
    "#cat_params_predict['calc_feature_importance']=True\n",
    "\n",
    "if VALID:\n",
    "    cat_params_predict['iterations']=sum(n_trees)//len(n_trees)\n",
    "del cat_model\n",
    "gc.collect()\n",
    "cat_model = catboost.CatBoostRegressor(**cat_params_predict)\n",
    "cat_model.fit(X=X,y=y,verbose=False,cat_features = index_cat)"
   ]
  },
  {
   "cell_type": "code",
   "execution_count": 17,
   "metadata": {},
   "outputs": [],
   "source": [
    "predicted_values = cat_model.predict(X_board)"
   ]
  },
  {
   "cell_type": "code",
   "execution_count": 18,
   "metadata": {},
   "outputs": [],
   "source": [
    "test['deal_probability']=predicted_values.clip(0.0,1.0)\n",
    "test[['item_id','deal_probability']].to_csv(DATA_PATH+'Predictions_Cat_Text_svd.csv',index=False)"
   ]
  },
  {
   "cell_type": "code",
   "execution_count": null,
   "metadata": {},
   "outputs": [],
   "source": []
  },
  {
   "cell_type": "code",
   "execution_count": 19,
   "metadata": {},
   "outputs": [],
   "source": [
    "test['deal_probability']=np.where(test['deal_probability']<=0.95,test['deal_probability'].clip(0,0.9),\n",
    "                                 1.0)\n",
    "test[['item_id','deal_probability']].to_csv(DATA_PATH+'Predictions_Cat_Text_svd_romainIdea.csv',index=False)"
   ]
  },
  {
   "cell_type": "code",
   "execution_count": null,
   "metadata": {},
   "outputs": [],
   "source": []
  },
  {
   "cell_type": "code",
   "execution_count": null,
   "metadata": {},
   "outputs": [],
   "source": []
  },
  {
   "cell_type": "code",
   "execution_count": 21,
   "metadata": {},
   "outputs": [
    {
     "name": "stdout",
     "output_type": "stream",
     "text": [
      "Fold 0 RMSE is 0.2205909934759234\n",
      "837\n",
      "7.0 Minutes\n",
      "Fold 1 RMSE is 0.2206964149997498\n",
      "804\n",
      "7.0 Minutes\n",
      "Fold 2 RMSE is 0.22055450281402728\n",
      "832\n",
      "7.0 Minutes\n",
      "Fold 3 RMSE is 0.22037767058609473\n",
      "848\n",
      "7.0 Minutes\n",
      "Fold 4 RMSE is 0.22048752232759447\n",
      "810\n",
      "7.0 Minutes\n",
      "Average RMSE 0.2205414208406779\n"
     ]
    }
   ],
   "source": [
    "if VALID:\n",
    "    i=0\n",
    "    rmse=[]\n",
    "    n_trees =[]\n",
    "    fold_predictions = []\n",
    "    for train_idx, test_idx in kf.split(X,y):\n",
    "        start = time()\n",
    "        cat_model.fit(X=X[train_idx],y=y[train_idx],eval_set=(X[test_idx],y[test_idx]),cat_features = index_cat, \n",
    "                      verbose=False,use_best_model=True)\n",
    "\n",
    "        rmse.append(mean_squared_error(y[test_idx],cat_model.predict(X[test_idx]).clip(0.0,1.0))**0.5)\n",
    "        n_trees.append(cat_model.tree_count_)\n",
    "        print('Fold',str(i),'RMSE is',rmse[i])\n",
    "        print(cat_model.tree_count_)\n",
    "        i+=1\n",
    "        print((time()-start)//60,'Minutes')\n",
    "        \n",
    "        predicted_values = cat_model.predict(X_board)\n",
    "        fold_predictions.append(predicted_values.clip(0.0,1.0))\n",
    "        \n",
    "    print('Average RMSE',sum(rmse)/len(rmse))\n",
    "    fold_predictions = np.mean(np.stack(fold_predictions),axis=0)\n",
    "    test['deal_probability']=fold_predictions\n",
    "    test[['item_id','deal_probability']].to_csv(DATA_PATH+'Predictions_FOLD_Cat_svd.csv',index=False)"
   ]
  },
  {
   "cell_type": "code",
   "execution_count": null,
   "metadata": {},
   "outputs": [],
   "source": []
  },
  {
   "cell_type": "code",
   "execution_count": null,
   "metadata": {},
   "outputs": [],
   "source": []
  },
  {
   "cell_type": "code",
   "execution_count": null,
   "metadata": {},
   "outputs": [],
   "source": []
  }
 ],
 "metadata": {
  "kernelspec": {
   "display_name": "Python 3",
   "language": "python",
   "name": "python3"
  },
  "language_info": {
   "codemirror_mode": {
    "name": "ipython",
    "version": 3
   },
   "file_extension": ".py",
   "mimetype": "text/x-python",
   "name": "python",
   "nbconvert_exporter": "python",
   "pygments_lexer": "ipython3",
   "version": "3.6.5"
  }
 },
 "nbformat": 4,
 "nbformat_minor": 2
}
