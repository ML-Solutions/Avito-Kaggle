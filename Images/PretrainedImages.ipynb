{
 "cells": [
  {
   "cell_type": "code",
   "execution_count": 4,
   "metadata": {},
   "outputs": [],
   "source": [
    "import os\n",
    "\n",
    "import numpy as np\n",
    "import pandas as pd\n",
    "from keras.preprocessing import image\n",
    "import keras.applications.resnet50 as resnet50\n",
    "import keras.applications.xception as xception\n",
    "import keras.applications.inception_v3 as inception_v3\n",
    "\n",
    "from collections import Counter\n",
    "from pprint import pprint\n",
    "\n",
    "import pandas as pd\n",
    "import numpy as np\n",
    "\n",
    "import matplotlib.pyplot as plt\n",
    "%matplotlib inline"
   ]
  },
  {
   "cell_type": "code",
   "execution_count": 5,
   "metadata": {},
   "outputs": [],
   "source": [
    "import tqdm"
   ]
  },
  {
   "cell_type": "code",
   "execution_count": 6,
   "metadata": {},
   "outputs": [],
   "source": [
    "import tensorflow as tf\n",
    "from keras.backend.tensorflow_backend import set_session\n",
    "config = tf.ConfigProto()\n",
    "config.gpu_options.per_process_gpu_memory_fraction = 0.2\n",
    "set_session(tf.Session(config=config))"
   ]
  },
  {
   "cell_type": "code",
   "execution_count": 7,
   "metadata": {},
   "outputs": [],
   "source": [
    "resnet_model = resnet50.ResNet50(weights='imagenet')\n",
    "inception_model = inception_v3.InceptionV3(weights='imagenet')\n",
    "xception_model = xception.Xception(weights='imagenet')"
   ]
  },
  {
   "cell_type": "code",
   "execution_count": 8,
   "metadata": {},
   "outputs": [],
   "source": [
    "from PIL import Image\n",
    "import cv2\n",
    "\n",
    "def image_classify(model, pak, img, top_n=5):\n",
    "    \"\"\"Classify image and return top matches.\"\"\"\n",
    "    target_size = (224, 224)\n",
    "    if img.size != target_size:\n",
    "        img = img.resize(target_size)\n",
    "    x = image.img_to_array(img)\n",
    "    x = np.expand_dims(x, axis=0)\n",
    "    x = pak.preprocess_input(x)\n",
    "    preds = model.predict(x)\n",
    "    return pak.decode_predictions(preds, top=top_n)\n",
    "\n",
    "\n",
    "def classify_and_plot(image_path):\n",
    "    \"\"\"Classify an image with different models.\n",
    "    Plot it and its predicitons.\n",
    "    \"\"\"\n",
    "    img = cv2.imread(image_path)\n",
    "    try:\n",
    "        gray= cv2.cvtColor(img,cv2.COLOR_BGR2GRAY)\n",
    "        sift = cv2.xfeatures2d.SIFT_create()\n",
    "        kp = sift.detect(gray,None)\n",
    "    except:\n",
    "        print('Cant SIFT')\n",
    "        kp = []\n",
    "    img = Image.fromarray(img)\n",
    "    image_classify(resnet_model, resnet50, img)\n",
    "    resnet_preds = image_classify(resnet_model, resnet50, img)\n",
    "    xception_preds = image_classify(xception_model, xception, img)\n",
    "    inception_preds = image_classify(inception_model, inception_v3, img)\n",
    "    preds_arr = [('Resnet50', resnet_preds), ('xception', xception_preds), ('Inception', inception_preds)]\n",
    "    return (img, preds_arr,len(kp))\n",
    "\n",
    "def get_data_from_image(dat):\n",
    "    res_labels = [i[1] for i in dat[1][0][1][0]]\n",
    "    res_scores = [i[2] for i in dat[1][0][1][0]]\n",
    "    xcp_labels = [i[1] for i in dat[1][1][1][0]]\n",
    "    xcp_scores = [i[2] for i in dat[1][1][1][0]]\n",
    "    inc_labels = [i[1] for i in dat[1][2][1][0]]\n",
    "    inc_scores = [i[2] for i in dat[1][2][1][0]]\n",
    "    df = res_labels + res_scores + xcp_labels + xcp_scores + inc_labels + inc_scores + [dat[2]] #len(kp)\n",
    "    return df"
   ]
  },
  {
   "cell_type": "code",
   "execution_count": null,
   "metadata": {},
   "outputs": [],
   "source": [
    "path = 'E:/Kaggle/Avito/Images1\\\\00002f9ed7909130971b635ba54d3c5b3b96ba9349af2de15da6a101f1ec2299.jpg'\n",
    "dat = classify_and_plot(path)\n",
    "df = get_data_from_image(dat)\n",
    "print(df)"
   ]
  },
  {
   "cell_type": "code",
   "execution_count": null,
   "metadata": {},
   "outputs": [],
   "source": [
    "image_files = [x.path for x in os.scandir('E:/Kaggle/Avito/Images0')]"
   ]
  },
  {
   "cell_type": "code",
   "execution_count": null,
   "metadata": {},
   "outputs": [],
   "source": [
    "%%time\n",
    "predictions = []\n",
    "for i in tqdm.trange(len(image_files)):\n",
    "    try:\n",
    "        dat = classify_and_plot(image_files[i])\n",
    "        df = [image_files[i][24:-4]]+get_data_from_image(dat)\n",
    "        predictions.append(df)\n",
    "    except:\n",
    "        print('Issue')\n",
    "        predictions.append([image_files[i][24:-4]]+\n",
    "                           [None,None,None,None,None,None,None,None,None,None,None,None,None,None,None,None,None,None,\n",
    "                           None,None,None,None,None,None,None,None,None,None,None,None,None])"
   ]
  },
  {
   "cell_type": "code",
   "execution_count": null,
   "metadata": {},
   "outputs": [],
   "source": [
    "df = pd.DataFrame(predictions,columns=['image','Res50_label1','Res50_label2','Res50_label3','Res50_label4','Res50_label5',\n",
    "                                       'Res50_score1','Res50_score2','Res50_score3','Res50_score4','Res50_score5',\n",
    "                                       'Xcept_label1','Xcept_label2','Xcept_label3','Xcept_label4','Xcept_label5',\n",
    "                                       'Xcept_score1','Xcept_score2','Xcept_score3','Xcept_score4','Xcept_score5',\n",
    "                                       'Incept_label1','Incept_label2','Incept_label3','Incept_label4','Incept_label5',\n",
    "                                       'Incept_score1','Incept_score2','Incept_score3','Incept_score4','Incept_score5','KP_len'])"
   ]
  },
  {
   "cell_type": "code",
   "execution_count": null,
   "metadata": {},
   "outputs": [],
   "source": [
    "df.to_csv('E:/Kaggle/Avito/Image_preds0.csv',index=False)"
   ]
  },
  {
   "cell_type": "code",
   "execution_count": null,
   "metadata": {},
   "outputs": [],
   "source": []
  },
  {
   "cell_type": "code",
   "execution_count": null,
   "metadata": {},
   "outputs": [],
   "source": [
    "image_files = [x.path for x in os.scandir('E:/Kaggle/Avito/Images1')]"
   ]
  },
  {
   "cell_type": "code",
   "execution_count": null,
   "metadata": {},
   "outputs": [],
   "source": [
    "%%time\n",
    "predictions = []\n",
    "for i in tqdm.trange(len(image_files)):\n",
    "    try:\n",
    "        dat = classify_and_plot(image_files[i])\n",
    "        df = [image_files[i][24:-4]]+get_data_from_image(dat)\n",
    "        predictions.append(df)\n",
    "    except:\n",
    "        print('Issue')\n",
    "        predictions.append([image_files[i][24:-4]]+\n",
    "                           [None,None,None,None,None,None,None,None,None,None,None,None,None,None,None,None,None,None,\n",
    "                           None,None,None,None,None,None,None,None,None,None,None,None,None])\n",
    "df = pd.DataFrame(predictions,columns=['image','Res50_label1','Res50_label2','Res50_label3','Res50_label4','Res50_label5',\n",
    "                                       'Res50_score1','Res50_score2','Res50_score3','Res50_score4','Res50_score5',\n",
    "                                       'Xcept_label1','Xcept_label2','Xcept_label3','Xcept_label4','Xcept_label5',\n",
    "                                       'Xcept_score1','Xcept_score2','Xcept_score3','Xcept_score4','Xcept_score5',\n",
    "                                       'Incept_label1','Incept_label2','Incept_label3','Incept_label4','Incept_label5',\n",
    "                                       'Incept_score1','Incept_score2','Incept_score3','Incept_score4','Incept_score5','KP_len'])\n",
    "df.to_csv('E:/Kaggle/Avito/Image_preds1.csv',index=False)"
   ]
  },
  {
   "cell_type": "code",
   "execution_count": null,
   "metadata": {},
   "outputs": [],
   "source": []
  },
  {
   "cell_type": "code",
   "execution_count": null,
   "metadata": {},
   "outputs": [],
   "source": [
    "image_files = [x.path for x in os.scandir('E:/Kaggle/Avito/Images2')]"
   ]
  },
  {
   "cell_type": "code",
   "execution_count": null,
   "metadata": {},
   "outputs": [],
   "source": [
    "%%time\n",
    "predictions = []\n",
    "for i in tqdm.trange(len(image_files)):\n",
    "    try:\n",
    "        dat = classify_and_plot(image_files[i])\n",
    "        df = [image_files[i][24:-4]]+get_data_from_image(dat)\n",
    "        predictions.append(df)\n",
    "    except:\n",
    "        print('Issue')\n",
    "        predictions.append([image_files[i][24:-4]]+\n",
    "                           [None,None,None,None,None,None,None,None,None,None,None,None,None,None,None,None,None,None,\n",
    "                           None,None,None,None,None,None,None,None,None,None,None,None,None])\n",
    "df = pd.DataFrame(predictions,columns=['image','Res50_label1','Res50_label2','Res50_label3','Res50_label4','Res50_label5',\n",
    "                                       'Res50_score1','Res50_score2','Res50_score3','Res50_score4','Res50_score5',\n",
    "                                       'Xcept_label1','Xcept_label2','Xcept_label3','Xcept_label4','Xcept_label5',\n",
    "                                       'Xcept_score1','Xcept_score2','Xcept_score3','Xcept_score4','Xcept_score5',\n",
    "                                       'Incept_label1','Incept_label2','Incept_label3','Incept_label4','Incept_label5',\n",
    "                                       'Incept_score1','Incept_score2','Incept_score3','Incept_score4','Incept_score5','KP_len'])\n",
    "df.to_csv('E:/Kaggle/Avito/Image_preds2.csv',index=False)"
   ]
  },
  {
   "cell_type": "code",
   "execution_count": null,
   "metadata": {},
   "outputs": [],
   "source": []
  },
  {
   "cell_type": "code",
   "execution_count": null,
   "metadata": {},
   "outputs": [],
   "source": [
    "image_files = [x.path for x in os.scandir('E:/Kaggle/Avito/Images3')]"
   ]
  },
  {
   "cell_type": "code",
   "execution_count": null,
   "metadata": {},
   "outputs": [],
   "source": [
    "%%time\n",
    "predictions = []\n",
    "for i in tqdm.trange(len(image_files)):\n",
    "    try:\n",
    "        dat = classify_and_plot(image_files[i])\n",
    "        df = [image_files[i][24:-4]]+get_data_from_image(dat)\n",
    "        predictions.append(df)\n",
    "    except:\n",
    "        print('Issue')\n",
    "        predictions.append([image_files[i][24:-4]]+\n",
    "                           [None,None,None,None,None,None,None,None,None,None,None,None,None,None,None,None,None,None,\n",
    "                           None,None,None,None,None,None,None,None,None,None,None,None,None])\n",
    "df = pd.DataFrame(predictions,columns=['image','Res50_label1','Res50_label2','Res50_label3','Res50_label4','Res50_label5',\n",
    "                                       'Res50_score1','Res50_score2','Res50_score3','Res50_score4','Res50_score5',\n",
    "                                       'Xcept_label1','Xcept_label2','Xcept_label3','Xcept_label4','Xcept_label5',\n",
    "                                       'Xcept_score1','Xcept_score2','Xcept_score3','Xcept_score4','Xcept_score5',\n",
    "                                       'Incept_label1','Incept_label2','Incept_label3','Incept_label4','Incept_label5',\n",
    "                                       'Incept_score1','Incept_score2','Incept_score3','Incept_score4','Incept_score5','KP_len'])\n",
    "df.to_csv('E:/Kaggle/Avito/Image_preds3.csv',index=False)"
   ]
  },
  {
   "cell_type": "code",
   "execution_count": null,
   "metadata": {},
   "outputs": [],
   "source": []
  },
  {
   "cell_type": "code",
   "execution_count": null,
   "metadata": {},
   "outputs": [],
   "source": [
    "image_files = [x.path for x in os.scandir('E:/Kaggle/Avito/Images4')]"
   ]
  },
  {
   "cell_type": "code",
   "execution_count": null,
   "metadata": {},
   "outputs": [],
   "source": [
    "%%time\n",
    "predictions = []\n",
    "for i in tqdm.trange(len(image_files)):\n",
    "    try:\n",
    "        dat = classify_and_plot(image_files[i])\n",
    "        df = [image_files[i][24:-4]]+get_data_from_image(dat)\n",
    "        predictions.append(df)\n",
    "    except:\n",
    "        print('Issue')\n",
    "        predictions.append([image_files[i][24:-4]]+\n",
    "                           [None,None,None,None,None,None,None,None,None,None,None,None,None,None,None,None,None,None,\n",
    "                           None,None,None,None,None,None,None,None,None,None,None,None,None])\n",
    "df = pd.DataFrame(predictions,columns=['image','Res50_label1','Res50_label2','Res50_label3','Res50_label4','Res50_label5',\n",
    "                                       'Res50_score1','Res50_score2','Res50_score3','Res50_score4','Res50_score5',\n",
    "                                       'Xcept_label1','Xcept_label2','Xcept_label3','Xcept_label4','Xcept_label5',\n",
    "                                       'Xcept_score1','Xcept_score2','Xcept_score3','Xcept_score4','Xcept_score5',\n",
    "                                       'Incept_label1','Incept_label2','Incept_label3','Incept_label4','Incept_label5',\n",
    "                                       'Incept_score1','Incept_score2','Incept_score3','Incept_score4','Incept_score5','KP_len'])\n",
    "df.to_csv('E:/Kaggle/Avito/Image_preds4.csv',index=False)"
   ]
  },
  {
   "cell_type": "code",
   "execution_count": null,
   "metadata": {},
   "outputs": [],
   "source": []
  },
  {
   "cell_type": "code",
   "execution_count": null,
   "metadata": {},
   "outputs": [],
   "source": [
    "image_files = [x.path for x in os.scandir('E:/Kaggle/Avito/imagestest/data/competition_files/test_jpg')]"
   ]
  },
  {
   "cell_type": "code",
   "execution_count": null,
   "metadata": {},
   "outputs": [],
   "source": [
    "%%time\n",
    "predictions = []\n",
    "for i in tqdm.trange(len(image_files)):\n",
    "    try:\n",
    "        dat = classify_and_plot(image_files[i])\n",
    "        df = [image_files[i][59:-4]]+get_data_from_image(dat)\n",
    "        predictions.append(df)\n",
    "    except:\n",
    "        print('Issue')\n",
    "        predictions.append([image_files[i][24:-4]]+\n",
    "                           [None,None,None,None,None,None,None,None,None,None,None,None,None,None,None,None,None,None,\n",
    "                           None,None,None,None,None,None,None,None,None,None,None,None,None])\n",
    "df = pd.DataFrame(predictions,columns=['image','Res50_label1','Res50_label2','Res50_label3','Res50_label4','Res50_label5',\n",
    "                                       'Res50_score1','Res50_score2','Res50_score3','Res50_score4','Res50_score5',\n",
    "                                       'Xcept_label1','Xcept_label2','Xcept_label3','Xcept_label4','Xcept_label5',\n",
    "                                       'Xcept_score1','Xcept_score2','Xcept_score3','Xcept_score4','Xcept_score5',\n",
    "                                       'Incept_label1','Incept_label2','Incept_label3','Incept_label4','Incept_label5',\n",
    "                                       'Incept_score1','Incept_score2','Incept_score3','Incept_score4','Incept_score5','KP_len'])\n",
    "df.to_csv('E:/Kaggle/Avito/Image_predstest.csv',index=False)"
   ]
  },
  {
   "cell_type": "code",
   "execution_count": null,
   "metadata": {},
   "outputs": [],
   "source": []
  }
 ],
 "metadata": {
  "kernelspec": {
   "display_name": "Python 3",
   "language": "python",
   "name": "python3"
  },
  "language_info": {
   "codemirror_mode": {
    "name": "ipython",
    "version": 3
   },
   "file_extension": ".py",
   "mimetype": "text/x-python",
   "name": "python",
   "nbconvert_exporter": "python",
   "pygments_lexer": "ipython3",
   "version": "3.6.5"
  }
 },
 "nbformat": 4,
 "nbformat_minor": 2
}
