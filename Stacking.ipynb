{
 "cells": [
  {
   "cell_type": "code",
   "execution_count": 1,
   "metadata": {},
   "outputs": [],
   "source": [
    "import numpy as np\n",
    "import pandas as pd\n",
    "\n",
    "from sklearn.model_selection import KFold\n",
    "from sklearn.metrics import mean_squared_error\n",
    "from sklearn.linear_model import LinearRegression\n",
    "\n",
    "import lightgbm as lgb\n",
    "import hyperopt"
   ]
  },
  {
   "cell_type": "code",
   "execution_count": 2,
   "metadata": {},
   "outputs": [],
   "source": [
    "DATA_PATH = 'E:/Kaggle/Avito/'\n",
    "seed = 32"
   ]
  },
  {
   "cell_type": "code",
   "execution_count": 3,
   "metadata": {},
   "outputs": [],
   "source": [
    "train_files = ['Meta_LGB1.csv','Meta_LGBSVD1.csv','Meta_LGBRidge.csv','Meta_LGB106205.csv','Meta_LGB106204.csv',\n",
    "               'Meta_LGB106203.csv','Meta_LGB106202.csv','Meta_LGB10620.csv','Meta_LGBImages_v3.csv']\n",
    "test_files = ['0.2155_Predictions_LGB_v2.csv',\n",
    "              '0.2156_Predictions_LGBSVD_v2.csv',\n",
    "              '0.2163_Predictions_LGBRidge.csv',\n",
    "              '0.21514_Predictions_LGB_v206205.csv',\n",
    "              '0.2152_Predictions_LGB_v206204.csv',\n",
    "              '0.2151_Predictions_LGB_v206203.csv',\n",
    "              '0.2152_Predictions_LGB_v206202.csv',\n",
    "              '0.2153_Predictions_LGB_v20620.csv',\n",
    "              '0.21512_Predictions_LGBImages_v3.csv']"
   ]
  },
  {
   "cell_type": "code",
   "execution_count": 4,
   "metadata": {},
   "outputs": [],
   "source": [
    "train = pd.read_csv(DATA_PATH+'train.csv')\n",
    "test = pd.read_csv(DATA_PATH+'test.csv')\n",
    "y = train['deal_probability']"
   ]
  },
  {
   "cell_type": "code",
   "execution_count": 5,
   "metadata": {},
   "outputs": [],
   "source": [
    "frames = []\n",
    "for f in train_files:\n",
    "    frames.append(pd.read_csv(DATA_PATH+'Stacking/'+f)[:len(train)].iloc[:,1:2].values)"
   ]
  },
  {
   "cell_type": "code",
   "execution_count": 6,
   "metadata": {},
   "outputs": [],
   "source": [
    "X_meta = np.concatenate(frames,axis=1)"
   ]
  },
  {
   "cell_type": "code",
   "execution_count": 7,
   "metadata": {},
   "outputs": [],
   "source": [
    "frames = []\n",
    "for f in test_files:\n",
    "    frames.append(pd.read_csv(DATA_PATH+'Stacking/'+f)[:len(train)].iloc[:,1:2].values)"
   ]
  },
  {
   "cell_type": "code",
   "execution_count": 8,
   "metadata": {},
   "outputs": [],
   "source": [
    "X_test = np.concatenate(frames,axis=1)"
   ]
  },
  {
   "cell_type": "code",
   "execution_count": 9,
   "metadata": {},
   "outputs": [
    {
     "data": {
      "text/html": [
       "<div>\n",
       "<style scoped>\n",
       "    .dataframe tbody tr th:only-of-type {\n",
       "        vertical-align: middle;\n",
       "    }\n",
       "\n",
       "    .dataframe tbody tr th {\n",
       "        vertical-align: top;\n",
       "    }\n",
       "\n",
       "    .dataframe thead th {\n",
       "        text-align: right;\n",
       "    }\n",
       "</style>\n",
       "<table border=\"1\" class=\"dataframe\">\n",
       "  <thead>\n",
       "    <tr style=\"text-align: right;\">\n",
       "      <th></th>\n",
       "      <th>0</th>\n",
       "      <th>1</th>\n",
       "      <th>2</th>\n",
       "      <th>3</th>\n",
       "      <th>4</th>\n",
       "      <th>5</th>\n",
       "      <th>6</th>\n",
       "      <th>7</th>\n",
       "      <th>8</th>\n",
       "    </tr>\n",
       "  </thead>\n",
       "  <tbody>\n",
       "    <tr>\n",
       "      <th>0</th>\n",
       "      <td>1.000000</td>\n",
       "      <td>0.984227</td>\n",
       "      <td>0.966973</td>\n",
       "      <td>0.984309</td>\n",
       "      <td>0.986109</td>\n",
       "      <td>0.986171</td>\n",
       "      <td>0.986365</td>\n",
       "      <td>0.987286</td>\n",
       "      <td>0.986377</td>\n",
       "    </tr>\n",
       "    <tr>\n",
       "      <th>1</th>\n",
       "      <td>0.984227</td>\n",
       "      <td>1.000000</td>\n",
       "      <td>0.965924</td>\n",
       "      <td>0.982783</td>\n",
       "      <td>0.984204</td>\n",
       "      <td>0.983849</td>\n",
       "      <td>0.984478</td>\n",
       "      <td>0.985146</td>\n",
       "      <td>0.982572</td>\n",
       "    </tr>\n",
       "    <tr>\n",
       "      <th>2</th>\n",
       "      <td>0.966973</td>\n",
       "      <td>0.965924</td>\n",
       "      <td>1.000000</td>\n",
       "      <td>0.966835</td>\n",
       "      <td>0.967076</td>\n",
       "      <td>0.966802</td>\n",
       "      <td>0.967330</td>\n",
       "      <td>0.967356</td>\n",
       "      <td>0.966495</td>\n",
       "    </tr>\n",
       "    <tr>\n",
       "      <th>3</th>\n",
       "      <td>0.984309</td>\n",
       "      <td>0.982783</td>\n",
       "      <td>0.966835</td>\n",
       "      <td>1.000000</td>\n",
       "      <td>0.988887</td>\n",
       "      <td>0.988818</td>\n",
       "      <td>0.988332</td>\n",
       "      <td>0.987636</td>\n",
       "      <td>0.985232</td>\n",
       "    </tr>\n",
       "    <tr>\n",
       "      <th>4</th>\n",
       "      <td>0.986109</td>\n",
       "      <td>0.984204</td>\n",
       "      <td>0.967076</td>\n",
       "      <td>0.988887</td>\n",
       "      <td>1.000000</td>\n",
       "      <td>0.991313</td>\n",
       "      <td>0.988786</td>\n",
       "      <td>0.988367</td>\n",
       "      <td>0.985890</td>\n",
       "    </tr>\n",
       "    <tr>\n",
       "      <th>5</th>\n",
       "      <td>0.986171</td>\n",
       "      <td>0.983849</td>\n",
       "      <td>0.966802</td>\n",
       "      <td>0.988818</td>\n",
       "      <td>0.991313</td>\n",
       "      <td>1.000000</td>\n",
       "      <td>0.988896</td>\n",
       "      <td>0.988597</td>\n",
       "      <td>0.986044</td>\n",
       "    </tr>\n",
       "    <tr>\n",
       "      <th>6</th>\n",
       "      <td>0.986365</td>\n",
       "      <td>0.984478</td>\n",
       "      <td>0.967330</td>\n",
       "      <td>0.988332</td>\n",
       "      <td>0.988786</td>\n",
       "      <td>0.988896</td>\n",
       "      <td>1.000000</td>\n",
       "      <td>0.988976</td>\n",
       "      <td>0.986219</td>\n",
       "    </tr>\n",
       "    <tr>\n",
       "      <th>7</th>\n",
       "      <td>0.987286</td>\n",
       "      <td>0.985146</td>\n",
       "      <td>0.967356</td>\n",
       "      <td>0.987636</td>\n",
       "      <td>0.988367</td>\n",
       "      <td>0.988597</td>\n",
       "      <td>0.988976</td>\n",
       "      <td>1.000000</td>\n",
       "      <td>0.986476</td>\n",
       "    </tr>\n",
       "    <tr>\n",
       "      <th>8</th>\n",
       "      <td>0.986377</td>\n",
       "      <td>0.982572</td>\n",
       "      <td>0.966495</td>\n",
       "      <td>0.985232</td>\n",
       "      <td>0.985890</td>\n",
       "      <td>0.986044</td>\n",
       "      <td>0.986219</td>\n",
       "      <td>0.986476</td>\n",
       "      <td>1.000000</td>\n",
       "    </tr>\n",
       "  </tbody>\n",
       "</table>\n",
       "</div>"
      ],
      "text/plain": [
       "          0         1         2         3         4         5         6  \\\n",
       "0  1.000000  0.984227  0.966973  0.984309  0.986109  0.986171  0.986365   \n",
       "1  0.984227  1.000000  0.965924  0.982783  0.984204  0.983849  0.984478   \n",
       "2  0.966973  0.965924  1.000000  0.966835  0.967076  0.966802  0.967330   \n",
       "3  0.984309  0.982783  0.966835  1.000000  0.988887  0.988818  0.988332   \n",
       "4  0.986109  0.984204  0.967076  0.988887  1.000000  0.991313  0.988786   \n",
       "5  0.986171  0.983849  0.966802  0.988818  0.991313  1.000000  0.988896   \n",
       "6  0.986365  0.984478  0.967330  0.988332  0.988786  0.988896  1.000000   \n",
       "7  0.987286  0.985146  0.967356  0.987636  0.988367  0.988597  0.988976   \n",
       "8  0.986377  0.982572  0.966495  0.985232  0.985890  0.986044  0.986219   \n",
       "\n",
       "          7         8  \n",
       "0  0.987286  0.986377  \n",
       "1  0.985146  0.982572  \n",
       "2  0.967356  0.966495  \n",
       "3  0.987636  0.985232  \n",
       "4  0.988367  0.985890  \n",
       "5  0.988597  0.986044  \n",
       "6  0.988976  0.986219  \n",
       "7  1.000000  0.986476  \n",
       "8  0.986476  1.000000  "
      ]
     },
     "execution_count": 9,
     "metadata": {},
     "output_type": "execute_result"
    }
   ],
   "source": [
    "pd.DataFrame(X_meta).corr()"
   ]
  },
  {
   "cell_type": "code",
   "execution_count": 10,
   "metadata": {},
   "outputs": [
    {
     "name": "stdout",
     "output_type": "stream",
     "text": [
      "0.21448328095727134\n"
     ]
    }
   ],
   "source": [
    "lin_meta = LinearRegression()\n",
    "rmse = []\n",
    "X_meta2 = np.zeros((len(X_meta),5))\n",
    "X_test2 = np.zeros((len(X_test),5))\n",
    "predict_test_kfolds = []\n",
    "for tr_idx, val_idx in KFold(10,random_state=seed,shuffle=True).split(X_meta):\n",
    "    lin_meta.fit(X_meta[tr_idx],y[tr_idx])\n",
    "    predictions = lin_meta.predict(X_meta[val_idx]).clip(0.0,1.0)\n",
    "    r = mean_squared_error(y[val_idx],predictions)**0.5\n",
    "    rmse.append(r)\n",
    "    X_meta2[val_idx,0]=predictions\n",
    "    predict_test = lin_meta.predict(X_test).clip(0.0,1.0)\n",
    "    predict_test_kfolds.append(predict_test)\n",
    "avg_rmse = sum(rmse)/len(rmse)\n",
    "print(avg_rmse)"
   ]
  },
  {
   "cell_type": "code",
   "execution_count": 11,
   "metadata": {},
   "outputs": [],
   "source": [
    "kfold_predictions = np.stack(predict_test_kfolds).mean(axis=0)\n",
    "test['deal_probability'] = kfold_predictions\n",
    "test[['item_id','deal_probability']].to_csv(DATA_PATH+f'{avg_rmse:.4f}_'+'stack_avg_lm.csv',index=False)\n",
    "X_test2[:,0] = kfold_predictions"
   ]
  },
  {
   "cell_type": "code",
   "execution_count": 12,
   "metadata": {},
   "outputs": [
    {
     "data": {
      "text/plain": [
       "array([-0.03550026,  0.07920942,  0.20101695,  0.18661057,  0.10741262,\n",
       "        0.12893479,  0.06830707,  0.03643806,  0.27265837])"
      ]
     },
     "execution_count": 12,
     "metadata": {},
     "output_type": "execute_result"
    }
   ],
   "source": [
    "lin_meta.coef_"
   ]
  },
  {
   "cell_type": "code",
   "execution_count": 13,
   "metadata": {},
   "outputs": [
    {
     "name": "stdout",
     "output_type": "stream",
     "text": [
      "Training until validation scores don't improve for 10 rounds.\n",
      "[200]\ttrain's rmse: 0.215222\tvalid's rmse: 0.215112\n",
      "[400]\ttrain's rmse: 0.214205\tvalid's rmse: 0.214237\n",
      "Early stopping, best iteration is:\n",
      "[494]\ttrain's rmse: 0.214153\tvalid's rmse: 0.214225\n",
      "Training until validation scores don't improve for 10 rounds.\n",
      "[200]\ttrain's rmse: 0.215151\tvalid's rmse: 0.215774\n",
      "[400]\ttrain's rmse: 0.214132\tvalid's rmse: 0.21487\n",
      "Early stopping, best iteration is:\n",
      "[560]\ttrain's rmse: 0.214052\tvalid's rmse: 0.214853\n",
      "Training until validation scores don't improve for 10 rounds.\n",
      "[200]\ttrain's rmse: 0.215196\tvalid's rmse: 0.215439\n",
      "[400]\ttrain's rmse: 0.214178\tvalid's rmse: 0.214512\n",
      "Early stopping, best iteration is:\n",
      "[503]\ttrain's rmse: 0.214119\tvalid's rmse: 0.214496\n",
      "Training until validation scores don't improve for 10 rounds.\n",
      "[200]\ttrain's rmse: 0.215173\tvalid's rmse: 0.215736\n",
      "[400]\ttrain's rmse: 0.214157\tvalid's rmse: 0.214684\n",
      "[600]\ttrain's rmse: 0.214063\tvalid's rmse: 0.214645\n",
      "Early stopping, best iteration is:\n",
      "[608]\ttrain's rmse: 0.21406\tvalid's rmse: 0.214644\n",
      "Training until validation scores don't improve for 10 rounds.\n",
      "[200]\ttrain's rmse: 0.215244\tvalid's rmse: 0.215054\n",
      "[400]\ttrain's rmse: 0.214226\tvalid's rmse: 0.214044\n",
      "[600]\ttrain's rmse: 0.214129\tvalid's rmse: 0.214016\n",
      "Early stopping, best iteration is:\n",
      "[616]\ttrain's rmse: 0.214125\tvalid's rmse: 0.214015\n",
      "Training until validation scores don't improve for 10 rounds.\n",
      "[200]\ttrain's rmse: 0.21518\tvalid's rmse: 0.21559\n",
      "[400]\ttrain's rmse: 0.214161\tvalid's rmse: 0.214625\n",
      "Early stopping, best iteration is:\n",
      "[554]\ttrain's rmse: 0.21408\tvalid's rmse: 0.214603\n",
      "Training until validation scores don't improve for 10 rounds.\n",
      "[200]\ttrain's rmse: 0.215215\tvalid's rmse: 0.21517\n",
      "[400]\ttrain's rmse: 0.214197\tvalid's rmse: 0.214277\n",
      "Early stopping, best iteration is:\n",
      "[491]\ttrain's rmse: 0.214145\tvalid's rmse: 0.214264\n",
      "Training until validation scores don't improve for 10 rounds.\n",
      "[200]\ttrain's rmse: 0.21522\tvalid's rmse: 0.215214\n",
      "[400]\ttrain's rmse: 0.214205\tvalid's rmse: 0.214255\n",
      "Early stopping, best iteration is:\n",
      "[572]\ttrain's rmse: 0.214119\tvalid's rmse: 0.214233\n",
      "Training until validation scores don't improve for 10 rounds.\n",
      "[200]\ttrain's rmse: 0.215158\tvalid's rmse: 0.215717\n",
      "[400]\ttrain's rmse: 0.214138\tvalid's rmse: 0.214805\n",
      "Early stopping, best iteration is:\n",
      "[494]\ttrain's rmse: 0.214083\tvalid's rmse: 0.214793\n",
      "Training until validation scores don't improve for 10 rounds.\n",
      "[200]\ttrain's rmse: 0.215275\tvalid's rmse: 0.21459\n",
      "[400]\ttrain's rmse: 0.214253\tvalid's rmse: 0.213763\n",
      "Early stopping, best iteration is:\n",
      "[443]\ttrain's rmse: 0.214224\tvalid's rmse: 0.21376\n",
      "0.2143885070013038\n"
     ]
    }
   ],
   "source": [
    "rmse = []\n",
    "predict_test_kfolds = []\n",
    "\n",
    "lgb_params = {'learning_rate':0.01,\n",
    "              'task':'train',\n",
    "              'boosting_type':'gbdt',\n",
    "              'metric':'rmse',\n",
    "              'objective':'regression',\n",
    "              'num_leaves':30,\n",
    "              'max_depth':5,\n",
    "              'min_data_in_leaf':20, #Defaut 20\n",
    "              'feature_fraction': 1,\n",
    "              'feature_fraction_seed':0,\n",
    "              'bagging_fraction': 1,\n",
    "              #'bagging_freq': 2,\n",
    "              'bagging_seed':0,\n",
    "              'verbose':1,\n",
    "              'num_threads':4 #Put to 4 if you are leaving computer\n",
    "              }\n",
    "\n",
    "for tr_idx, val_idx in KFold(10,random_state=seed,shuffle=True).split(X_meta):\n",
    "    lgtrain = lgb.Dataset(X_meta[tr_idx],y[tr_idx])\n",
    "    lgvalid = lgb.Dataset(X_meta[val_idx],y[val_idx])\n",
    "\n",
    "    lgb_meta = lgb.train(lgb_params,lgtrain,valid_sets=[lgtrain, lgvalid],valid_names=['train','valid'],\n",
    "                          verbose_eval=200,num_boost_round=5000,early_stopping_rounds=10)\n",
    "    predictions = lgb_meta.predict(X_meta[val_idx]).clip(0.0,1.0)\n",
    "    r = mean_squared_error(y[val_idx],predictions)**0.5\n",
    "    rmse.append(r)\n",
    "    X_meta2[val_idx,1]=predictions\n",
    "    \n",
    "    predict_test = lgb_meta.predict(X_test).clip(0.0,1.0)\n",
    "    predict_test_kfolds.append(predict_test)\n",
    "    \n",
    "avg_rmse = sum(rmse)/len(rmse)\n",
    "print(avg_rmse)"
   ]
  },
  {
   "cell_type": "code",
   "execution_count": 14,
   "metadata": {},
   "outputs": [
    {
     "data": {
      "text/plain": [
       "array([ 826, 1320, 2853, 1474, 1066, 1116,  967, 1072, 1928])"
      ]
     },
     "execution_count": 14,
     "metadata": {},
     "output_type": "execute_result"
    }
   ],
   "source": [
    "lgb_meta.feature_importance()"
   ]
  },
  {
   "cell_type": "code",
   "execution_count": 15,
   "metadata": {},
   "outputs": [],
   "source": [
    "kfold_predictions = np.stack(predict_test_kfolds).mean(axis=0)\n",
    "test['deal_probability'] = kfold_predictions\n",
    "test[['item_id','deal_probability']].to_csv(DATA_PATH+f'{avg_rmse:.5f}_'+'Stack_LGB_10Fold.csv',index=False)\n",
    "X_test2[:,1] = kfold_predictions"
   ]
  },
  {
   "cell_type": "code",
   "execution_count": 16,
   "metadata": {},
   "outputs": [
    {
     "name": "stderr",
     "output_type": "stream",
     "text": [
      "E:\\Anaconda3\\lib\\site-packages\\h5py\\__init__.py:36: FutureWarning: Conversion of the second argument of issubdtype from `float` to `np.floating` is deprecated. In future, it will be treated as `np.float64 == np.dtype(float).type`.\n",
      "  from ._conv import register_converters as _register_converters\n",
      "Using TensorFlow backend.\n"
     ]
    }
   ],
   "source": [
    "import keras\n",
    "def rms(y, y_pred):\n",
    "    return keras.backend.sqrt(keras.backend.mean(keras.backend.square(y_pred - y)))*10"
   ]
  },
  {
   "cell_type": "code",
   "execution_count": 17,
   "metadata": {},
   "outputs": [],
   "source": [
    "from keras.layers import Input, Dense, Dropout\n",
    "from keras.models import Model\n",
    "from keras_tqdm import TQDMNotebookCallback\n",
    "\n",
    "def make_nn():\n",
    "    \n",
    "    inp=Input((X_meta.shape[1],))\n",
    "    main = Dense(16,activation='tanh')(inp)\n",
    "    main = Dropout(0.2)(main)\n",
    "    main = Dense(8,activation='tanh')(main)\n",
    "    y_hat = Dense(1,activation='sigmoid')(main)\n",
    "\n",
    "    nn_model = Model(inputs=inp,outputs=y_hat)\n",
    "    return nn_model"
   ]
  },
  {
   "cell_type": "code",
   "execution_count": 18,
   "metadata": {},
   "outputs": [
    {
     "data": {
      "application/vnd.jupyter.widget-view+json": {
       "model_id": "6f975bffb29a457bb98273ced6b6b8c9",
       "version_major": 2,
       "version_minor": 0
      },
      "text/plain": [
       "HBox(children=(IntProgress(value=0, description='Training', max=2), HTML(value='')))"
      ]
     },
     "metadata": {},
     "output_type": "display_data"
    },
    {
     "data": {
      "application/vnd.jupyter.widget-view+json": {
       "model_id": "942ea75126674ca9af8b39075b98c31d",
       "version_major": 2,
       "version_minor": 0
      },
      "text/plain": [
       "HBox(children=(IntProgress(value=0, description='Epoch 0', max=1353081), HTML(value='')))"
      ]
     },
     "metadata": {},
     "output_type": "display_data"
    },
    {
     "data": {
      "application/vnd.jupyter.widget-view+json": {
       "model_id": "7ffd8aa0734241aa8b1251ad3aa344e6",
       "version_major": 2,
       "version_minor": 0
      },
      "text/plain": [
       "HBox(children=(IntProgress(value=0, description='Epoch 1', max=1353081), HTML(value='')))"
      ]
     },
     "metadata": {},
     "output_type": "display_data"
    },
    {
     "name": "stdout",
     "output_type": "stream",
     "text": [
      "\n"
     ]
    },
    {
     "data": {
      "application/vnd.jupyter.widget-view+json": {
       "model_id": "5f9ea95f00354532a80d885a3ce34c9f",
       "version_major": 2,
       "version_minor": 0
      },
      "text/plain": [
       "HBox(children=(IntProgress(value=0, description='Training', max=2), HTML(value='')))"
      ]
     },
     "metadata": {},
     "output_type": "display_data"
    },
    {
     "data": {
      "application/vnd.jupyter.widget-view+json": {
       "model_id": "71fe8b6eada94b739d5600904504dab2",
       "version_major": 2,
       "version_minor": 0
      },
      "text/plain": [
       "HBox(children=(IntProgress(value=0, description='Epoch 0', max=1353081), HTML(value='')))"
      ]
     },
     "metadata": {},
     "output_type": "display_data"
    },
    {
     "data": {
      "application/vnd.jupyter.widget-view+json": {
       "model_id": "f10f25e3be3c4a49a7780a0f3058e4f6",
       "version_major": 2,
       "version_minor": 0
      },
      "text/plain": [
       "HBox(children=(IntProgress(value=0, description='Epoch 1', max=1353081), HTML(value='')))"
      ]
     },
     "metadata": {},
     "output_type": "display_data"
    },
    {
     "name": "stdout",
     "output_type": "stream",
     "text": [
      "\n"
     ]
    },
    {
     "data": {
      "application/vnd.jupyter.widget-view+json": {
       "model_id": "c9d834b62c97406cabbd74a5faf802f5",
       "version_major": 2,
       "version_minor": 0
      },
      "text/plain": [
       "HBox(children=(IntProgress(value=0, description='Training', max=2), HTML(value='')))"
      ]
     },
     "metadata": {},
     "output_type": "display_data"
    },
    {
     "data": {
      "application/vnd.jupyter.widget-view+json": {
       "model_id": "cc5ef91cdfb04b22bf2b39ada8e6210f",
       "version_major": 2,
       "version_minor": 0
      },
      "text/plain": [
       "HBox(children=(IntProgress(value=0, description='Epoch 0', max=1353081), HTML(value='')))"
      ]
     },
     "metadata": {},
     "output_type": "display_data"
    },
    {
     "data": {
      "application/vnd.jupyter.widget-view+json": {
       "model_id": "1c5271b1b4bf4c5f806f4894212dc589",
       "version_major": 2,
       "version_minor": 0
      },
      "text/plain": [
       "HBox(children=(IntProgress(value=0, description='Epoch 1', max=1353081), HTML(value='')))"
      ]
     },
     "metadata": {},
     "output_type": "display_data"
    },
    {
     "name": "stdout",
     "output_type": "stream",
     "text": [
      "\n"
     ]
    },
    {
     "data": {
      "application/vnd.jupyter.widget-view+json": {
       "model_id": "caae54ab2ad44d85945c63972119d224",
       "version_major": 2,
       "version_minor": 0
      },
      "text/plain": [
       "HBox(children=(IntProgress(value=0, description='Training', max=2), HTML(value='')))"
      ]
     },
     "metadata": {},
     "output_type": "display_data"
    },
    {
     "data": {
      "application/vnd.jupyter.widget-view+json": {
       "model_id": "f022516077f54232892f9661e27df1c1",
       "version_major": 2,
       "version_minor": 0
      },
      "text/plain": [
       "HBox(children=(IntProgress(value=0, description='Epoch 0', max=1353081), HTML(value='')))"
      ]
     },
     "metadata": {},
     "output_type": "display_data"
    },
    {
     "data": {
      "application/vnd.jupyter.widget-view+json": {
       "model_id": "1fb8f60fff49473da7ff53d987ccf2b5",
       "version_major": 2,
       "version_minor": 0
      },
      "text/plain": [
       "HBox(children=(IntProgress(value=0, description='Epoch 1', max=1353081), HTML(value='')))"
      ]
     },
     "metadata": {},
     "output_type": "display_data"
    },
    {
     "name": "stdout",
     "output_type": "stream",
     "text": [
      "\n"
     ]
    },
    {
     "data": {
      "application/vnd.jupyter.widget-view+json": {
       "model_id": "d39cae1da640484aaa1e513c87342a85",
       "version_major": 2,
       "version_minor": 0
      },
      "text/plain": [
       "HBox(children=(IntProgress(value=0, description='Training', max=2), HTML(value='')))"
      ]
     },
     "metadata": {},
     "output_type": "display_data"
    },
    {
     "data": {
      "application/vnd.jupyter.widget-view+json": {
       "model_id": "943b34f85081495fa0b1b702d69919c1",
       "version_major": 2,
       "version_minor": 0
      },
      "text/plain": [
       "HBox(children=(IntProgress(value=0, description='Epoch 0', max=1353082), HTML(value='')))"
      ]
     },
     "metadata": {},
     "output_type": "display_data"
    },
    {
     "data": {
      "application/vnd.jupyter.widget-view+json": {
       "model_id": "406becfd0d4743a79c8c523d6924265b",
       "version_major": 2,
       "version_minor": 0
      },
      "text/plain": [
       "HBox(children=(IntProgress(value=0, description='Epoch 1', max=1353082), HTML(value='')))"
      ]
     },
     "metadata": {},
     "output_type": "display_data"
    },
    {
     "name": "stdout",
     "output_type": "stream",
     "text": [
      "\n"
     ]
    },
    {
     "data": {
      "application/vnd.jupyter.widget-view+json": {
       "model_id": "06c6546935374d199dd51eabd9eff589",
       "version_major": 2,
       "version_minor": 0
      },
      "text/plain": [
       "HBox(children=(IntProgress(value=0, description='Training', max=2), HTML(value='')))"
      ]
     },
     "metadata": {},
     "output_type": "display_data"
    },
    {
     "data": {
      "application/vnd.jupyter.widget-view+json": {
       "model_id": "2d4542583bf946f7abf8ae1764d978d8",
       "version_major": 2,
       "version_minor": 0
      },
      "text/plain": [
       "HBox(children=(IntProgress(value=0, description='Epoch 0', max=1353082), HTML(value='')))"
      ]
     },
     "metadata": {},
     "output_type": "display_data"
    },
    {
     "data": {
      "application/vnd.jupyter.widget-view+json": {
       "model_id": "d01617eb3daa4181be36bbbebe6e8fda",
       "version_major": 2,
       "version_minor": 0
      },
      "text/plain": [
       "HBox(children=(IntProgress(value=0, description='Epoch 1', max=1353082), HTML(value='')))"
      ]
     },
     "metadata": {},
     "output_type": "display_data"
    },
    {
     "name": "stdout",
     "output_type": "stream",
     "text": [
      "\n"
     ]
    },
    {
     "data": {
      "application/vnd.jupyter.widget-view+json": {
       "model_id": "b96c919f95a64ac892afb55be4645f0d",
       "version_major": 2,
       "version_minor": 0
      },
      "text/plain": [
       "HBox(children=(IntProgress(value=0, description='Training', max=2), HTML(value='')))"
      ]
     },
     "metadata": {},
     "output_type": "display_data"
    },
    {
     "data": {
      "application/vnd.jupyter.widget-view+json": {
       "model_id": "5586785250b7456e93e4392b4fb5448e",
       "version_major": 2,
       "version_minor": 0
      },
      "text/plain": [
       "HBox(children=(IntProgress(value=0, description='Epoch 0', max=1353082), HTML(value='')))"
      ]
     },
     "metadata": {},
     "output_type": "display_data"
    },
    {
     "data": {
      "application/vnd.jupyter.widget-view+json": {
       "model_id": "d6483d1504304d22a92ce349811504c3",
       "version_major": 2,
       "version_minor": 0
      },
      "text/plain": [
       "HBox(children=(IntProgress(value=0, description='Epoch 1', max=1353082), HTML(value='')))"
      ]
     },
     "metadata": {},
     "output_type": "display_data"
    },
    {
     "name": "stdout",
     "output_type": "stream",
     "text": [
      "\n"
     ]
    },
    {
     "data": {
      "application/vnd.jupyter.widget-view+json": {
       "model_id": "ce042ce51edf464a80ddae75eb6a01af",
       "version_major": 2,
       "version_minor": 0
      },
      "text/plain": [
       "HBox(children=(IntProgress(value=0, description='Training', max=2), HTML(value='')))"
      ]
     },
     "metadata": {},
     "output_type": "display_data"
    },
    {
     "data": {
      "application/vnd.jupyter.widget-view+json": {
       "model_id": "4f2a135530314de9ab95a45879794b1b",
       "version_major": 2,
       "version_minor": 0
      },
      "text/plain": [
       "HBox(children=(IntProgress(value=0, description='Epoch 0', max=1353082), HTML(value='')))"
      ]
     },
     "metadata": {},
     "output_type": "display_data"
    },
    {
     "data": {
      "application/vnd.jupyter.widget-view+json": {
       "model_id": "51a230bd5e7a4c3ba1c8632cc8cb3828",
       "version_major": 2,
       "version_minor": 0
      },
      "text/plain": [
       "HBox(children=(IntProgress(value=0, description='Epoch 1', max=1353082), HTML(value='')))"
      ]
     },
     "metadata": {},
     "output_type": "display_data"
    },
    {
     "name": "stdout",
     "output_type": "stream",
     "text": [
      "\n"
     ]
    },
    {
     "data": {
      "application/vnd.jupyter.widget-view+json": {
       "model_id": "bca7491d8a9e456595ca74d9ee23093a",
       "version_major": 2,
       "version_minor": 0
      },
      "text/plain": [
       "HBox(children=(IntProgress(value=0, description='Training', max=2), HTML(value='')))"
      ]
     },
     "metadata": {},
     "output_type": "display_data"
    },
    {
     "data": {
      "application/vnd.jupyter.widget-view+json": {
       "model_id": "8017d15734754513989b51090397ee6d",
       "version_major": 2,
       "version_minor": 0
      },
      "text/plain": [
       "HBox(children=(IntProgress(value=0, description='Epoch 0', max=1353082), HTML(value='')))"
      ]
     },
     "metadata": {},
     "output_type": "display_data"
    },
    {
     "data": {
      "application/vnd.jupyter.widget-view+json": {
       "model_id": "9683b63b56954552848eb33100af2aff",
       "version_major": 2,
       "version_minor": 0
      },
      "text/plain": [
       "HBox(children=(IntProgress(value=0, description='Epoch 1', max=1353082), HTML(value='')))"
      ]
     },
     "metadata": {},
     "output_type": "display_data"
    },
    {
     "name": "stdout",
     "output_type": "stream",
     "text": [
      "\n"
     ]
    },
    {
     "data": {
      "application/vnd.jupyter.widget-view+json": {
       "model_id": "aa46ff0a77ee4d2c8511347ab6d52398",
       "version_major": 2,
       "version_minor": 0
      },
      "text/plain": [
       "HBox(children=(IntProgress(value=0, description='Training', max=2), HTML(value='')))"
      ]
     },
     "metadata": {},
     "output_type": "display_data"
    },
    {
     "data": {
      "application/vnd.jupyter.widget-view+json": {
       "model_id": "be4061db752a4152bf824ecfd6e2c81d",
       "version_major": 2,
       "version_minor": 0
      },
      "text/plain": [
       "HBox(children=(IntProgress(value=0, description='Epoch 0', max=1353082), HTML(value='')))"
      ]
     },
     "metadata": {},
     "output_type": "display_data"
    },
    {
     "data": {
      "application/vnd.jupyter.widget-view+json": {
       "model_id": "7b5cdddb6cb34ccaa91be257ace22af7",
       "version_major": 2,
       "version_minor": 0
      },
      "text/plain": [
       "HBox(children=(IntProgress(value=0, description='Epoch 1', max=1353082), HTML(value='')))"
      ]
     },
     "metadata": {},
     "output_type": "display_data"
    },
    {
     "name": "stdout",
     "output_type": "stream",
     "text": [
      "\n"
     ]
    }
   ],
   "source": [
    "epochs = 2\n",
    "rmse = []\n",
    "predict_test_kfolds = []\n",
    "for tr_idx, val_idx in KFold(10,random_state=seed,shuffle=True).split(X_meta):\n",
    "    keras.backend.clear_session() #Reset   \n",
    "    nn_model = make_nn()\n",
    "    nn_model.compile('Adam',loss='mean_squared_error',metrics=[rms])\n",
    "    nn_model.fit(X_meta[tr_idx],y[tr_idx],epochs=epochs,validation_data=(X_meta[val_idx],y[val_idx]),\n",
    "                batch_size=512,verbose = 0,callbacks=[TQDMNotebookCallback(leave_inner=True)])\n",
    "    predictions = nn_model.predict(X_meta[val_idx]).clip(0.0,1.0)\n",
    "    r = mean_squared_error(y[val_idx],predictions)**0.5\n",
    "    rmse.append(r)\n",
    "    X_meta2[val_idx,2]=predictions.flatten()\n",
    "    predict_test = nn_model.predict(X_test).clip(0.0,1.0)\n",
    "    predict_test_kfolds.append(predict_test)"
   ]
  },
  {
   "cell_type": "code",
   "execution_count": 19,
   "metadata": {},
   "outputs": [
    {
     "name": "stdout",
     "output_type": "stream",
     "text": [
      "0.21467797982009534\n"
     ]
    }
   ],
   "source": [
    "avg_rmse = sum(rmse)/len(rmse)\n",
    "print(avg_rmse)\n",
    "kfold_predictions = np.stack(predict_test_kfolds).mean(axis=0)\n",
    "test['deal_probability'] = kfold_predictions\n",
    "test[['item_id','deal_probability']].to_csv(DATA_PATH+f'{avg_rmse:.4f}_'+'stack_avg_nn.csv',index=False)\n",
    "X_test2[:,2] = kfold_predictions.flatten()"
   ]
  },
  {
   "cell_type": "code",
   "execution_count": 20,
   "metadata": {},
   "outputs": [
    {
     "name": "stdout",
     "output_type": "stream",
     "text": [
      "Training until validation scores don't improve for 10 rounds.\n",
      "[200]\ttrain's rmse: 0.214015\tvalid's rmse: 0.214336\n",
      "Early stopping, best iteration is:\n",
      "[336]\ttrain's rmse: 0.213683\tvalid's rmse: 0.214237\n",
      "Training until validation scores don't improve for 10 rounds.\n",
      "[200]\ttrain's rmse: 0.213941\tvalid's rmse: 0.214985\n",
      "Early stopping, best iteration is:\n",
      "[296]\ttrain's rmse: 0.213668\tvalid's rmse: 0.214878\n",
      "Training until validation scores don't improve for 10 rounds.\n",
      "[200]\ttrain's rmse: 0.213985\tvalid's rmse: 0.214632\n",
      "Early stopping, best iteration is:\n",
      "[282]\ttrain's rmse: 0.21374\tvalid's rmse: 0.214532\n",
      "Training until validation scores don't improve for 10 rounds.\n",
      "[200]\ttrain's rmse: 0.213961\tvalid's rmse: 0.214844\n",
      "Early stopping, best iteration is:\n",
      "[367]\ttrain's rmse: 0.213595\tvalid's rmse: 0.214681\n",
      "Training until validation scores don't improve for 10 rounds.\n",
      "[200]\ttrain's rmse: 0.214038\tvalid's rmse: 0.214162\n",
      "Early stopping, best iteration is:\n",
      "[329]\ttrain's rmse: 0.213718\tvalid's rmse: 0.214018\n",
      "Training until validation scores don't improve for 10 rounds.\n",
      "[200]\ttrain's rmse: 0.213967\tvalid's rmse: 0.214762\n",
      "Early stopping, best iteration is:\n",
      "[299]\ttrain's rmse: 0.213682\tvalid's rmse: 0.214647\n",
      "Training until validation scores don't improve for 10 rounds.\n",
      "[200]\ttrain's rmse: 0.214011\tvalid's rmse: 0.214381\n",
      "Early stopping, best iteration is:\n",
      "[345]\ttrain's rmse: 0.213668\tvalid's rmse: 0.214274\n",
      "Training until validation scores don't improve for 10 rounds.\n",
      "[200]\ttrain's rmse: 0.21402\tvalid's rmse: 0.21437\n",
      "Early stopping, best iteration is:\n",
      "[389]\ttrain's rmse: 0.213616\tvalid's rmse: 0.214248\n",
      "Training until validation scores don't improve for 10 rounds.\n",
      "[200]\ttrain's rmse: 0.213958\tvalid's rmse: 0.21492\n",
      "Early stopping, best iteration is:\n",
      "[326]\ttrain's rmse: 0.213636\tvalid's rmse: 0.214811\n",
      "Training until validation scores don't improve for 10 rounds.\n",
      "[200]\ttrain's rmse: 0.214068\tvalid's rmse: 0.213837\n",
      "Early stopping, best iteration is:\n",
      "[272]\ttrain's rmse: 0.213838\tvalid's rmse: 0.213763\n",
      "0.21440884326305093\n"
     ]
    }
   ],
   "source": [
    "rmse = []\n",
    "predict_test_kfolds = []\n",
    "\n",
    "lgb_params = {'learning_rate':0.015,\n",
    "              'task':'train',\n",
    "              'boosting_type':'gbdt',\n",
    "              'metric':'rmse',\n",
    "              'objective':'regression',\n",
    "              'num_leaves':100,\n",
    "              'max_depth':7,\n",
    "              'min_data_in_leaf':20, #Defaut 20\n",
    "              'feature_fraction': 1,\n",
    "              'feature_fraction_seed':1,\n",
    "              'bagging_fraction': 1,\n",
    "              #'bagging_freq': 2,\n",
    "              'bagging_seed':0,\n",
    "              'verbose':1,\n",
    "              'num_threads':4 #Put to 4 if you are leaving computer\n",
    "              }\n",
    "\n",
    "for tr_idx, val_idx in KFold(10,random_state=seed,shuffle=True).split(X_meta):\n",
    "    lgtrain = lgb.Dataset(X_meta[tr_idx],y[tr_idx])\n",
    "    lgvalid = lgb.Dataset(X_meta[val_idx],y[val_idx])\n",
    "\n",
    "    lgb_meta = lgb.train(lgb_params,lgtrain,valid_sets=[lgtrain, lgvalid],valid_names=['train','valid'],\n",
    "                          verbose_eval=200,num_boost_round=5000,early_stopping_rounds=10)\n",
    "    predictions = lgb_meta.predict(X_meta[val_idx]).clip(0.0,1.0)\n",
    "    r = mean_squared_error(y[val_idx],predictions)**0.5\n",
    "    rmse.append(r)\n",
    "    X_meta2[val_idx,3]=predictions\n",
    "    \n",
    "    predict_test = lgb_meta.predict(X_test).clip(0.0,1.0)\n",
    "    predict_test_kfolds.append(predict_test)\n",
    "    \n",
    "avg_rmse = sum(rmse)/len(rmse)\n",
    "print(avg_rmse)\n",
    "\n",
    "kfold_predictions = np.stack(predict_test_kfolds).mean(axis=0)\n",
    "test['deal_probability'] = kfold_predictions\n",
    "test[['item_id','deal_probability']].to_csv(DATA_PATH+f'{avg_rmse:.4f}_'+'stack_avg_lgb2.csv',index=False)\n",
    "X_test2[:,3] = kfold_predictions"
   ]
  },
  {
   "cell_type": "code",
   "execution_count": 21,
   "metadata": {},
   "outputs": [],
   "source": [
    "rmse = []\n",
    "predict_test_kfolds = []\n",
    "\n",
    "lgb_params = {'learning_rate':0.005,\n",
    "              'task':'train',\n",
    "              'boosting_type':'gbdt',\n",
    "              'metric':'rmse',\n",
    "              'objective':'regression',\n",
    "              'num_leaves':300,\n",
    "              'max_depth':7,\n",
    "              'min_data_in_leaf':15, #Defaut 20\n",
    "              'feature_fraction': 1,\n",
    "              'feature_fraction_seed':1,\n",
    "              'bagging_fraction': 1,\n",
    "              #'bagging_freq': 2,\n",
    "              'bagging_seed':0,\n",
    "              'verbose':1,\n",
    "              'num_threads':4 #Put to 4 if you are leaving computer\n",
    "              }\n",
    "\n",
    "for tr_idx, val_idx in KFold(10,random_state=seed,shuffle=True).split(X_meta):\n",
    "    lgtrain = lgb.Dataset(X_meta[tr_idx],y[tr_idx])\n",
    "    lgvalid = lgb.Dataset(X_meta[val_idx],y[val_idx])\n",
    "\n",
    "    lgb_meta = lgb.train(lgb_params,lgtrain,valid_sets=[lgtrain, lgvalid],valid_names=['train','valid'],\n",
    "                          verbose_eval=200,num_boost_round=5000,early_stopping_rounds=10)\n",
    "    predictions = lgb_meta.predict(X_meta[val_idx]).clip(0.0,1.0)\n",
    "    r = mean_squared_error(y[val_idx],predictions)**0.5\n",
    "    rmse.append(r)\n",
    "    X_meta2[val_idx,4]=predictions\n",
    "    \n",
    "    predict_test = lgb_meta.predict(X_test).clip(0.0,1.0)\n",
    "    predict_test_kfolds.append(predict_test)\n",
    "    \n",
    "avg_rmse = sum(rmse)/len(rmse)\n",
    "print(avg_rmse)\n",
    "\n",
    "kfold_predictions = np.stack(predict_test_kfolds).mean(axis=0)\n",
    "test['deal_probability'] = kfold_predictions\n",
    "test[['item_id','deal_probability']].to_csv(DATA_PATH+f'{avg_rmse:.4f}_'+'stack_avg_lgb3.csv',index=False)\n",
    "X_test2[:,4] = kfold_predictions"
   ]
  },
  {
   "cell_type": "markdown",
   "metadata": {},
   "source": [
    "## Meta level 2"
   ]
  },
  {
   "cell_type": "code",
   "execution_count": 23,
   "metadata": {},
   "outputs": [
    {
     "name": "stdout",
     "output_type": "stream",
     "text": [
      "0.21437074253284544\n"
     ]
    }
   ],
   "source": [
    "lin_meta2 = LinearRegression()\n",
    "predict_test_kfolds = []\n",
    "rmse = []\n",
    "for tr_idx, val_idx in KFold(5,random_state=seed,shuffle=True).split(X_meta2):\n",
    "    lin_meta2.fit(X_meta2[tr_idx],y[tr_idx])\n",
    "    predictions = lin_meta2.predict(X_meta2[val_idx]).clip(0.0,1.0)\n",
    "    r = mean_squared_error(y[val_idx],predictions)**0.5\n",
    "    rmse.append(r)\n",
    "    predict_test = lin_meta2.predict(X_test2).clip(0.0,1.0)\n",
    "    predict_test_kfolds.append(predict_test)\n",
    "avg_rmse = sum(rmse)/len(rmse)\n",
    "print(avg_rmse)"
   ]
  },
  {
   "cell_type": "code",
   "execution_count": 24,
   "metadata": {},
   "outputs": [],
   "source": [
    "kfold_predictions = np.stack(predict_test_kfolds).mean(axis=0)\n",
    "test['deal_probability'] = kfold_predictions\n",
    "test[['item_id','deal_probability']].to_csv(DATA_PATH+f'{avg_rmse:.5f}_'+'stack_avg_lm_level2.csv',index=False)"
   ]
  },
  {
   "cell_type": "code",
   "execution_count": 25,
   "metadata": {},
   "outputs": [
    {
     "data": {
      "text/plain": [
       "array([0.25986902, 0.38675334, 0.11587541, 0.10167575, 0.14756954])"
      ]
     },
     "execution_count": 25,
     "metadata": {},
     "output_type": "execute_result"
    }
   ],
   "source": [
    "lin_meta2.coef_"
   ]
  },
  {
   "cell_type": "code",
   "execution_count": null,
   "metadata": {},
   "outputs": [],
   "source": []
  },
  {
   "cell_type": "code",
   "execution_count": 26,
   "metadata": {},
   "outputs": [
    {
     "name": "stdout",
     "output_type": "stream",
     "text": [
      "Training until validation scores don't improve for 10 rounds.\n",
      "[200]\ttrain's rmse: 0.21521\tvalid's rmse: 0.215451\n",
      "[400]\ttrain's rmse: 0.214266\tvalid's rmse: 0.214575\n",
      "Early stopping, best iteration is:\n",
      "[536]\ttrain's rmse: 0.214222\tvalid's rmse: 0.214561\n",
      "Training until validation scores don't improve for 10 rounds.\n",
      "[200]\ttrain's rmse: 0.215194\tvalid's rmse: 0.215566\n",
      "[400]\ttrain's rmse: 0.214252\tvalid's rmse: 0.214619\n",
      "Early stopping, best iteration is:\n",
      "[570]\ttrain's rmse: 0.214198\tvalid's rmse: 0.214601\n",
      "Training until validation scores don't improve for 10 rounds.\n",
      "[200]\ttrain's rmse: 0.215257\tvalid's rmse: 0.215297\n",
      "[400]\ttrain's rmse: 0.214317\tvalid's rmse: 0.214357\n",
      "Early stopping, best iteration is:\n",
      "[538]\ttrain's rmse: 0.214271\tvalid's rmse: 0.214338\n",
      "Training until validation scores don't improve for 10 rounds.\n",
      "[200]\ttrain's rmse: 0.215278\tvalid's rmse: 0.215147\n",
      "[400]\ttrain's rmse: 0.214339\tvalid's rmse: 0.214277\n",
      "Early stopping, best iteration is:\n",
      "[511]\ttrain's rmse: 0.214302\tvalid's rmse: 0.214266\n",
      "Training until validation scores don't improve for 10 rounds.\n",
      "[200]\ttrain's rmse: 0.215272\tvalid's rmse: 0.215111\n",
      "[400]\ttrain's rmse: 0.214328\tvalid's rmse: 0.214295\n",
      "Early stopping, best iteration is:\n",
      "[492]\ttrain's rmse: 0.214295\tvalid's rmse: 0.214288\n",
      "0.2144108589928137\n"
     ]
    }
   ],
   "source": [
    "rmse = []\n",
    "predict_test_kfolds = []\n",
    "\n",
    "lgb_params = {'learning_rate':0.01,\n",
    "              'task':'train',\n",
    "              'boosting_type':'gbdt',\n",
    "              'metric':'rmse',\n",
    "              'objective':'regression',\n",
    "              'num_leaves':30,\n",
    "              'max_depth':5,\n",
    "              'min_data_in_leaf':20, #Defaut 20\n",
    "              'feature_fraction': 1,\n",
    "              'feature_fraction_seed':0,\n",
    "              'bagging_fraction': 1,\n",
    "              #'bagging_freq': 2,\n",
    "              'bagging_seed':0,\n",
    "              'verbose':1,\n",
    "              'num_threads':4 #Put to 4 if you are leaving computer\n",
    "              }\n",
    "\n",
    "for tr_idx, val_idx in KFold(5,random_state=seed,shuffle=True).split(X_meta2):\n",
    "    lgtrain = lgb.Dataset(X_meta2[tr_idx],y[tr_idx])\n",
    "    lgvalid = lgb.Dataset(X_meta2[val_idx],y[val_idx])\n",
    "\n",
    "    lgb_meta2 = lgb.train(lgb_params,lgtrain,valid_sets=[lgtrain, lgvalid],valid_names=['train','valid'],\n",
    "                          verbose_eval=200,num_boost_round=5000,early_stopping_rounds=10)\n",
    "    predictions = lgb_meta2.predict(X_meta2[val_idx]).clip(0.0,1.0)\n",
    "    r = mean_squared_error(y[val_idx],predictions)**0.5\n",
    "    rmse.append(r)\n",
    "    predict_test = lgb_meta2.predict(X_test2).clip(0.0,1.0)\n",
    "    predict_test_kfolds.append(predict_test)\n",
    "    \n",
    "avg_rmse = sum(rmse)/len(rmse)\n",
    "print(avg_rmse)"
   ]
  },
  {
   "cell_type": "code",
   "execution_count": 27,
   "metadata": {},
   "outputs": [],
   "source": [
    "kfold_predictions = np.stack(predict_test_kfolds).mean(axis=0)\n",
    "test['deal_probability'] = kfold_predictions\n",
    "test[['item_id','deal_probability']].to_csv(DATA_PATH+f'{avg_rmse:.5f}_'+'stack_avg_lgb_level2.csv',index=False)"
   ]
  },
  {
   "cell_type": "code",
   "execution_count": null,
   "metadata": {},
   "outputs": [],
   "source": []
  }
 ],
 "metadata": {
  "kernelspec": {
   "display_name": "Python 3",
   "language": "python",
   "name": "python3"
  },
  "language_info": {
   "codemirror_mode": {
    "name": "ipython",
    "version": 3
   },
   "file_extension": ".py",
   "mimetype": "text/x-python",
   "name": "python",
   "nbconvert_exporter": "python",
   "pygments_lexer": "ipython3",
   "version": "3.6.5"
  }
 },
 "nbformat": 4,
 "nbformat_minor": 2
}
