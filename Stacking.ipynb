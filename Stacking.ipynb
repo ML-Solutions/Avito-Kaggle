{
 "cells": [
  {
   "cell_type": "code",
   "execution_count": 1,
   "metadata": {},
   "outputs": [],
   "source": [
    "import numpy as np\n",
    "import pandas as pd\n",
    "\n",
    "from sklearn.model_selection import KFold\n",
    "from sklearn.metrics import mean_squared_error\n",
    "from sklearn.linear_model import LinearRegression\n",
    "\n",
    "import lightgbm as lgb"
   ]
  },
  {
   "cell_type": "code",
   "execution_count": 2,
   "metadata": {},
   "outputs": [],
   "source": [
    "DATA_PATH = 'E:/Kaggle/Avito/'\n",
    "seed = 32"
   ]
  },
  {
   "cell_type": "code",
   "execution_count": 3,
   "metadata": {},
   "outputs": [],
   "source": [
    "train_files = ['Meta_LGB1.csv','Meta_LGBSVD1.csv','Meta_LGBRidge.csv']\n",
    "test_files = ['0.2155_Predictions_LGB_v2.csv','0.2156_Predictions_LGBSVD_v2.csv',\n",
    "              '0.2163_Predictions_LGBRidge.csv']"
   ]
  },
  {
   "cell_type": "code",
   "execution_count": 4,
   "metadata": {},
   "outputs": [],
   "source": [
    "train = pd.read_csv(DATA_PATH+'train.csv')\n",
    "test = pd.read_csv(DATA_PATH+'test.csv')\n",
    "y = train['deal_probability']"
   ]
  },
  {
   "cell_type": "code",
   "execution_count": 5,
   "metadata": {},
   "outputs": [],
   "source": [
    "frames = []\n",
    "for f in train_files:\n",
    "    frames.append(pd.read_csv(DATA_PATH+'Stacking/'+f)[:len(train)].iloc[:,1:2].values)"
   ]
  },
  {
   "cell_type": "code",
   "execution_count": 6,
   "metadata": {},
   "outputs": [],
   "source": [
    "X_meta = np.concatenate(frames,axis=1)"
   ]
  },
  {
   "cell_type": "code",
   "execution_count": 7,
   "metadata": {},
   "outputs": [],
   "source": [
    "frames = []\n",
    "for f in test_files:\n",
    "    frames.append(pd.read_csv(DATA_PATH+'Stacking/'+f)[:len(train)].iloc[:,1:2].values)"
   ]
  },
  {
   "cell_type": "code",
   "execution_count": 8,
   "metadata": {},
   "outputs": [],
   "source": [
    "X_test = np.concatenate(frames,axis=1)"
   ]
  },
  {
   "cell_type": "code",
   "execution_count": 9,
   "metadata": {},
   "outputs": [
    {
     "data": {
      "text/html": [
       "<div>\n",
       "<style scoped>\n",
       "    .dataframe tbody tr th:only-of-type {\n",
       "        vertical-align: middle;\n",
       "    }\n",
       "\n",
       "    .dataframe tbody tr th {\n",
       "        vertical-align: top;\n",
       "    }\n",
       "\n",
       "    .dataframe thead th {\n",
       "        text-align: right;\n",
       "    }\n",
       "</style>\n",
       "<table border=\"1\" class=\"dataframe\">\n",
       "  <thead>\n",
       "    <tr style=\"text-align: right;\">\n",
       "      <th></th>\n",
       "      <th>0</th>\n",
       "      <th>1</th>\n",
       "      <th>2</th>\n",
       "    </tr>\n",
       "  </thead>\n",
       "  <tbody>\n",
       "    <tr>\n",
       "      <th>0</th>\n",
       "      <td>1.000000</td>\n",
       "      <td>0.984227</td>\n",
       "      <td>0.966973</td>\n",
       "    </tr>\n",
       "    <tr>\n",
       "      <th>1</th>\n",
       "      <td>0.984227</td>\n",
       "      <td>1.000000</td>\n",
       "      <td>0.965924</td>\n",
       "    </tr>\n",
       "    <tr>\n",
       "      <th>2</th>\n",
       "      <td>0.966973</td>\n",
       "      <td>0.965924</td>\n",
       "      <td>1.000000</td>\n",
       "    </tr>\n",
       "  </tbody>\n",
       "</table>\n",
       "</div>"
      ],
      "text/plain": [
       "          0         1         2\n",
       "0  1.000000  0.984227  0.966973\n",
       "1  0.984227  1.000000  0.965924\n",
       "2  0.966973  0.965924  1.000000"
      ]
     },
     "execution_count": 9,
     "metadata": {},
     "output_type": "execute_result"
    }
   ],
   "source": [
    "pd.DataFrame(X_meta).corr()"
   ]
  },
  {
   "cell_type": "code",
   "execution_count": 10,
   "metadata": {},
   "outputs": [
    {
     "name": "stdout",
     "output_type": "stream",
     "text": [
      "0.21483301634798035\n"
     ]
    }
   ],
   "source": [
    "lin_meta = LinearRegression()\n",
    "rmse = []\n",
    "X_meta2 = np.zeros((len(X_meta),2))\n",
    "X_test2 = np.zeros((len(X_test),2))\n",
    "predict_test_kfolds = []\n",
    "for tr_idx, val_idx in KFold(10,random_state=seed,shuffle=True).split(X_meta):\n",
    "    lin_meta.fit(X_meta[tr_idx],y[tr_idx])\n",
    "    predictions = lin_meta.predict(X_meta[val_idx]).clip(0.0,1.0)\n",
    "    r = mean_squared_error(y[val_idx],predictions)**0.5\n",
    "    rmse.append(r)\n",
    "    X_meta2[val_idx,0]=predictions\n",
    "    predict_test = lin_meta.predict(X_test).clip(0.0,1.0)\n",
    "    predict_test_kfolds.append(predict_test)\n",
    "avg_rmse = sum(rmse)/len(rmse)\n",
    "print(avg_rmse)"
   ]
  },
  {
   "cell_type": "code",
   "execution_count": 11,
   "metadata": {},
   "outputs": [],
   "source": [
    "kfold_predictions = np.stack(predict_test_kfolds).mean(axis=0)\n",
    "test['deal_probability'] = kfold_predictions\n",
    "test[['item_id','deal_probability']].to_csv(DATA_PATH+f'{avg_rmse:.4f}_'+'stack_avg_lm.csv',index=False)\n",
    "X_test2[:,0] = kfold_predictions"
   ]
  },
  {
   "cell_type": "code",
   "execution_count": 12,
   "metadata": {},
   "outputs": [
    {
     "data": {
      "text/plain": [
       "array([0.36895613, 0.3650739 , 0.30453523])"
      ]
     },
     "execution_count": 12,
     "metadata": {},
     "output_type": "execute_result"
    }
   ],
   "source": [
    "lin_meta.coef_"
   ]
  },
  {
   "cell_type": "code",
   "execution_count": 13,
   "metadata": {},
   "outputs": [
    {
     "name": "stdout",
     "output_type": "stream",
     "text": [
      "Training until validation scores don't improve for 10 rounds.\n",
      "[200]\ttrain's rmse: 0.215618\tvalid's rmse: 0.215622\n",
      "[400]\ttrain's rmse: 0.214655\tvalid's rmse: 0.214741\n",
      "Early stopping, best iteration is:\n",
      "[497]\ttrain's rmse: 0.21462\tvalid's rmse: 0.214732\n",
      "Training until validation scores don't improve for 10 rounds.\n",
      "[200]\ttrain's rmse: 0.215549\tvalid's rmse: 0.216277\n",
      "[400]\ttrain's rmse: 0.214587\tvalid's rmse: 0.215361\n",
      "Early stopping, best iteration is:\n",
      "[541]\ttrain's rmse: 0.214539\tvalid's rmse: 0.215345\n",
      "Training until validation scores don't improve for 10 rounds.\n",
      "[200]\ttrain's rmse: 0.215607\tvalid's rmse: 0.215733\n",
      "[400]\ttrain's rmse: 0.214643\tvalid's rmse: 0.214835\n",
      "Early stopping, best iteration is:\n",
      "[491]\ttrain's rmse: 0.214609\tvalid's rmse: 0.214825\n",
      "Training until validation scores don't improve for 10 rounds.\n",
      "[200]\ttrain's rmse: 0.215582\tvalid's rmse: 0.216083\n",
      "[400]\ttrain's rmse: 0.214618\tvalid's rmse: 0.215063\n",
      "[600]\ttrain's rmse: 0.214562\tvalid's rmse: 0.215035\n",
      "Early stopping, best iteration is:\n",
      "[663]\ttrain's rmse: 0.214552\tvalid's rmse: 0.215033\n",
      "Training until validation scores don't improve for 10 rounds.\n",
      "[200]\ttrain's rmse: 0.215655\tvalid's rmse: 0.215397\n",
      "[400]\ttrain's rmse: 0.214693\tvalid's rmse: 0.214421\n",
      "Early stopping, best iteration is:\n",
      "[545]\ttrain's rmse: 0.214647\tvalid's rmse: 0.2144\n",
      "Training until validation scores don't improve for 10 rounds.\n",
      "[200]\ttrain's rmse: 0.215595\tvalid's rmse: 0.215909\n",
      "[400]\ttrain's rmse: 0.21463\tvalid's rmse: 0.21496\n",
      "Early stopping, best iteration is:\n",
      "[490]\ttrain's rmse: 0.214594\tvalid's rmse: 0.214946\n",
      "Training until validation scores don't improve for 10 rounds.\n",
      "[200]\ttrain's rmse: 0.215633\tvalid's rmse: 0.215461\n",
      "[400]\ttrain's rmse: 0.214668\tvalid's rmse: 0.214597\n",
      "Early stopping, best iteration is:\n",
      "[478]\ttrain's rmse: 0.214636\tvalid's rmse: 0.214592\n",
      "Training until validation scores don't improve for 10 rounds.\n",
      "[200]\ttrain's rmse: 0.215635\tvalid's rmse: 0.215501\n",
      "[400]\ttrain's rmse: 0.214671\tvalid's rmse: 0.214582\n",
      "Early stopping, best iteration is:\n",
      "[505]\ttrain's rmse: 0.214633\tvalid's rmse: 0.214571\n",
      "Training until validation scores don't improve for 10 rounds.\n",
      "[200]\ttrain's rmse: 0.215568\tvalid's rmse: 0.216132\n",
      "[400]\ttrain's rmse: 0.214601\tvalid's rmse: 0.215212\n",
      "Early stopping, best iteration is:\n",
      "[533]\ttrain's rmse: 0.214557\tvalid's rmse: 0.215194\n",
      "Training until validation scores don't improve for 10 rounds.\n",
      "[200]\ttrain's rmse: 0.215677\tvalid's rmse: 0.215019\n",
      "[400]\ttrain's rmse: 0.214712\tvalid's rmse: 0.214189\n",
      "Early stopping, best iteration is:\n",
      "[426]\ttrain's rmse: 0.214699\tvalid's rmse: 0.214186\n",
      "0.21478232016986026\n"
     ]
    }
   ],
   "source": [
    "rmse = []\n",
    "predict_test_kfolds = []\n",
    "\n",
    "lgb_params = {'learning_rate':0.01,\n",
    "              'task':'train',\n",
    "              'boosting_type':'gbdt',\n",
    "              'metric':'rmse',\n",
    "              'objective':'regression',\n",
    "              'num_leaves':30,\n",
    "              'max_depth':5,\n",
    "              'min_data_in_leaf':20, #Defaut 20\n",
    "              'feature_fraction': 1,\n",
    "              'feature_fraction_seed':0,\n",
    "              'bagging_fraction': 1,\n",
    "              #'bagging_freq': 2,\n",
    "              'bagging_seed':0,\n",
    "              'verbose':1,\n",
    "              'num_threads':4 #Put to 4 if you are leaving computer\n",
    "              }\n",
    "\n",
    "for tr_idx, val_idx in KFold(10,random_state=seed,shuffle=True).split(X_meta):\n",
    "    lgtrain = lgb.Dataset(X_meta[tr_idx],y[tr_idx])\n",
    "    lgvalid = lgb.Dataset(X_meta[val_idx],y[val_idx])\n",
    "\n",
    "    lgb_meta = lgb.train(lgb_params,lgtrain,valid_sets=[lgtrain, lgvalid],valid_names=['train','valid'],\n",
    "                          verbose_eval=200,num_boost_round=5000,early_stopping_rounds=10)\n",
    "    predictions = lgb_meta.predict(X_meta[val_idx]).clip(0.0,1.0)\n",
    "    r = mean_squared_error(y[val_idx],predictions)**0.5\n",
    "    rmse.append(r)\n",
    "    X_meta2[val_idx,1]=predictions\n",
    "    \n",
    "    predict_test = lgb_meta.predict(X_test).clip(0.0,1.0)\n",
    "    predict_test_kfolds.append(predict_test)\n",
    "    \n",
    "avg_rmse = sum(rmse)/len(rmse)\n",
    "print(avg_rmse)"
   ]
  },
  {
   "cell_type": "code",
   "execution_count": 14,
   "metadata": {},
   "outputs": [
    {
     "data": {
      "text/plain": [
       "array([3854, 3767, 4587])"
      ]
     },
     "execution_count": 14,
     "metadata": {},
     "output_type": "execute_result"
    }
   ],
   "source": [
    "lgb_meta.feature_importance()"
   ]
  },
  {
   "cell_type": "code",
   "execution_count": 15,
   "metadata": {},
   "outputs": [],
   "source": [
    "kfold_predictions = np.stack(predict_test_kfolds).mean(axis=0)\n",
    "test['deal_probability'] = kfold_predictions\n",
    "test[['item_id','deal_probability']].to_csv(DATA_PATH+f'{avg_rmse:.5f}_'+'Stack_LGB_10Fold.csv',index=False)\n",
    "X_test2[:,1] = kfold_predictions"
   ]
  },
  {
   "cell_type": "markdown",
   "metadata": {},
   "source": [
    "## Meta level 2"
   ]
  },
  {
   "cell_type": "code",
   "execution_count": 16,
   "metadata": {},
   "outputs": [
    {
     "name": "stdout",
     "output_type": "stream",
     "text": [
      "0.21475979383930838\n"
     ]
    }
   ],
   "source": [
    "lin_meta2 = LinearRegression()\n",
    "predict_test_kfolds = []\n",
    "rmse = []\n",
    "for tr_idx, val_idx in KFold(5,random_state=seed,shuffle=True).split(X_meta):\n",
    "    lin_meta2.fit(X_meta2[tr_idx],y[tr_idx])\n",
    "    predictions = lin_meta2.predict(X_meta2[val_idx]).clip(0.0,1.0)\n",
    "    r = mean_squared_error(y[val_idx],predictions)**0.5\n",
    "    rmse.append(r)\n",
    "    predict_test = lin_meta2.predict(X_test2).clip(0.0,1.0)\n",
    "    predict_test_kfolds.append(predict_test)\n",
    "avg_rmse = sum(rmse)/len(rmse)\n",
    "print(avg_rmse)"
   ]
  },
  {
   "cell_type": "code",
   "execution_count": 17,
   "metadata": {},
   "outputs": [],
   "source": [
    "kfold_predictions = np.stack(predict_test_kfolds).mean(axis=0)\n",
    "test['deal_probability'] = kfold_predictions\n",
    "test[['item_id','deal_probability']].to_csv(DATA_PATH+f'{avg_rmse:.5f}_'+'stack_avg_lm_level2.csv',index=False)"
   ]
  },
  {
   "cell_type": "code",
   "execution_count": 18,
   "metadata": {},
   "outputs": [
    {
     "data": {
      "text/plain": [
       "array([0.36319288, 0.64295954])"
      ]
     },
     "execution_count": 18,
     "metadata": {},
     "output_type": "execute_result"
    }
   ],
   "source": [
    "lin_meta2.coef_"
   ]
  },
  {
   "cell_type": "code",
   "execution_count": null,
   "metadata": {},
   "outputs": [],
   "source": []
  }
 ],
 "metadata": {
  "kernelspec": {
   "display_name": "Python 3",
   "language": "python",
   "name": "python3"
  },
  "language_info": {
   "codemirror_mode": {
    "name": "ipython",
    "version": 3
   },
   "file_extension": ".py",
   "mimetype": "text/x-python",
   "name": "python",
   "nbconvert_exporter": "python",
   "pygments_lexer": "ipython3",
   "version": "3.6.5"
  }
 },
 "nbformat": 4,
 "nbformat_minor": 2
}
