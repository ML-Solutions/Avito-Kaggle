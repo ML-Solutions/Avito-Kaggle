{
 "cells": [
  {
   "cell_type": "markdown",
   "metadata": {},
   "source": [
    "Changes:\n",
    "* All categoricals as embedding\n",
    "\n",
    "Things to add :\n",
    "1. Add categoricals\n",
    "    * First as one encoding\n",
    "    * Second as vectorized version based on other variables like price\n",
    "    * Third try to do also encoding of the target (Beware of cross validation)\n",
    "2. Add dense features (This is where to put encodings)\n",
    "    * Dont forget to scale (with train+test)\n",
    "3. Add title features\n",
    "4. Add Regularization !\n",
    "5. Add Emoji detection (character tokenizer)\n",
    "6. Use desc/title features as extra variables in a tree\n",
    "6. Add extra features found in other notebooks\n",
    "\n",
    "Don't forget to normalize.\n",
    "Try SnowballStemmer in Russian\n",
    "\n",
    "CNN 10 epochs:\n",
    "* desc : 0.235\n",
    "* desc + region + pcn : 0.233\n",
    "* desc + region + pcn + cn : 0.231\n",
    "* desc + region + pcn + cn + ut : 0.230\n",
    "* desc + region + pcn + cn + ut + title : 0.227\n",
    "* desc + region + pcn + cn + ut + title + image_top + city : 0.224\n",
    "* desc + region + pcn + cn + ut + title + image_top + city + logprice + price_char : 0.223\n",
    "* desc + region + pcn + cn + ut + title + image_top + city + logprice + price_char + Params : 0.221\n",
    "* desc + region + pcn + cn + ut + title + image_top + city + logprice + price_char + Params + User_id + Weekday : 0.2206\n",
    "* ###1### = desc + region + pcn + cn + ut + title + image_top + city + logprice + price_char + Params + User_id + Param_1 + logItem_seq : 0.2194\n",
    "* ###1### + Encodings : "
   ]
  },
  {
   "cell_type": "code",
   "execution_count": 1,
   "metadata": {},
   "outputs": [
    {
     "name": "stderr",
     "output_type": "stream",
     "text": [
      "E:\\Anaconda3\\lib\\site-packages\\h5py\\__init__.py:36: FutureWarning: Conversion of the second argument of issubdtype from `float` to `np.floating` is deprecated. In future, it will be treated as `np.float64 == np.dtype(float).type`.\n",
      "  from ._conv import register_converters as _register_converters\n",
      "Using TensorFlow backend.\n",
      "E:\\Anaconda3\\lib\\site-packages\\gensim\\utils.py:1197: UserWarning: detected Windows; aliasing chunkize to chunkize_serial\n",
      "  warnings.warn(\"detected Windows; aliasing chunkize to chunkize_serial\")\n"
     ]
    }
   ],
   "source": [
    "import pandas as pd\n",
    "import numpy as np\n",
    "import keras\n",
    "from keras_tqdm import TQDMNotebookCallback\n",
    "import gensim\n",
    "import re\n",
    "from tqdm import tqdm,tqdm_notebook,tqdm_pandas\n",
    "import gc\n",
    "\n",
    "from nltk.corpus import stopwords\n",
    "from nltk.stem.snowball import RussianStemmer\n",
    "import seaborn as sns\n",
    "import matplotlib.pyplot as plt\n",
    "\n",
    "from sklearn.model_selection import train_test_split, KFold\n",
    "from sklearn.preprocessing import OneHotEncoder, LabelEncoder, MinMaxScaler"
   ]
  },
  {
   "cell_type": "code",
   "execution_count": 2,
   "metadata": {},
   "outputs": [],
   "source": [
    "DATA_PATH = 'E:/Kaggle/Avito/'\n",
    "REMOVE_NA_DESC = False"
   ]
  },
  {
   "cell_type": "code",
   "execution_count": 3,
   "metadata": {},
   "outputs": [],
   "source": [
    "num_words = 100000\n",
    "max_len = 150\n",
    "seed = 32"
   ]
  },
  {
   "cell_type": "markdown",
   "metadata": {},
   "source": [
    "## Load word2vec dictionary"
   ]
  },
  {
   "cell_type": "code",
   "execution_count": 4,
   "metadata": {},
   "outputs": [],
   "source": [
    "word2vec = gensim.models.Word2Vec.load(DATA_PATH+'avito300_sg.w2v')"
   ]
  },
  {
   "cell_type": "markdown",
   "metadata": {},
   "source": [
    "## Load Data"
   ]
  },
  {
   "cell_type": "code",
   "execution_count": 5,
   "metadata": {},
   "outputs": [],
   "source": [
    "train = pd.read_csv(DATA_PATH+'train.csv')\n",
    "test = pd.read_csv(DATA_PATH+'test.csv')\n",
    "if REMOVE_NA_DESC:\n",
    "    train=train[train['description'].notnull()]"
   ]
  },
  {
   "cell_type": "code",
   "execution_count": 6,
   "metadata": {},
   "outputs": [],
   "source": [
    "complete_data = pd.concat([train,test],axis=0,ignore_index=True)"
   ]
  },
  {
   "cell_type": "markdown",
   "metadata": {},
   "source": [
    "## Feature Engineering"
   ]
  },
  {
   "cell_type": "code",
   "execution_count": 7,
   "metadata": {},
   "outputs": [],
   "source": [
    "for col_text in ['title','description']:\n",
    "    complete_data[col_text].fillna('thisismissing',inplace=True)\n",
    "    complete_data[col_text] = complete_data[col_text].astype(str)"
   ]
  },
  {
   "cell_type": "markdown",
   "metadata": {},
   "source": [
    "#### Categoricals as One Hot\n",
    "* Need to deal with missing values better.\n",
    "* Deal with low frequency categories and categories not in test set. Either impute it by something close that exists in train or by a new class\n",
    "* Try form of embedding instead"
   ]
  },
  {
   "cell_type": "code",
   "execution_count": 8,
   "metadata": {},
   "outputs": [],
   "source": [
    "categoricals_embs = ['parent_category_name','category_name','image_top_1']"
   ]
  },
  {
   "cell_type": "code",
   "execution_count": 9,
   "metadata": {},
   "outputs": [],
   "source": [
    "catembs = []\n",
    "le=LabelEncoder()\n",
    "for cat in categoricals_embs: #Must deal with cities not in train set\n",
    "    complete_data[cat].fillna(-999,inplace=True)\n",
    "    complete_data[cat] = le.fit_transform(complete_data[cat].astype(str))\n",
    "    catembs.append(complete_data[cat].max()+1)\n",
    "X_categoricals = complete_data[categoricals_embs].values.astype('float32')"
   ]
  },
  {
   "cell_type": "code",
   "execution_count": 10,
   "metadata": {},
   "outputs": [
    {
     "name": "stdout",
     "output_type": "stream",
     "text": [
      "[9, 47, 3064]\n"
     ]
    }
   ],
   "source": [
    "print(catembs) "
   ]
  },
  {
   "cell_type": "markdown",
   "metadata": {},
   "source": [
    "#### Text stuff"
   ]
  },
  {
   "cell_type": "code",
   "execution_count": 11,
   "metadata": {},
   "outputs": [],
   "source": [
    "english_stopwords = set(stopwords.words('english'))\n",
    "russian_stopwords = set(stopwords.words('russian'))\n",
    "russian_stopwords = russian_stopwords.union(english_stopwords)\n",
    "def preprocess(x,stop_words=None):\n",
    "    x = keras.preprocessing.text.text_to_word_sequence(x)\n",
    "    if stop_words:\n",
    "        return [word for word in x if word not in russian_stopwords]\n",
    "    else:\n",
    "        return x"
   ]
  },
  {
   "cell_type": "code",
   "execution_count": 12,
   "metadata": {},
   "outputs": [],
   "source": [
    "def make_token_matrix(data,text_col,num_words,max_len,stop_words=None):\n",
    "    \n",
    "    print('Create Tokenizer...',end=' ')\n",
    "    \n",
    "    texts = data[text_col].astype(str)\n",
    "    tokenizer = keras.preprocessing.text.Tokenizer(num_words=num_words,lower=True)\n",
    "    tokenizer.fit_on_texts(texts)\n",
    "    \n",
    "    print('Preprocess Text...',end=' ')\n",
    "    texts = texts.apply(lambda x: preprocess(x,stop_words))\n",
    "    \n",
    "    print('Create Matrix...',end=' ')\n",
    "    X = tokenizer.texts_to_sequences(texts)\n",
    "    X = keras.preprocessing.sequence.pad_sequences(X,padding='pre',truncating='post',maxlen=max_len)\n",
    "    \n",
    "    print('Done !')\n",
    "    return X,tokenizer"
   ]
  },
  {
   "cell_type": "code",
   "execution_count": 13,
   "metadata": {},
   "outputs": [],
   "source": [
    "complete_data['description'] = complete_data['description'].astype(str)"
   ]
  },
  {
   "cell_type": "code",
   "execution_count": 14,
   "metadata": {},
   "outputs": [
    {
     "name": "stdout",
     "output_type": "stream",
     "text": [
      "Create Tokenizer... Preprocess Text... Create Matrix... Done !\n"
     ]
    }
   ],
   "source": [
    "X_desc, tokenizer_desc = make_token_matrix(complete_data,'description',num_words,max_len,stop_words=russian_stopwords)\n",
    "word2idx = tokenizer_desc.word_index"
   ]
  },
  {
   "cell_type": "code",
   "execution_count": 15,
   "metadata": {},
   "outputs": [],
   "source": [
    "word2idx = tokenizer_desc.word_index\n",
    "idx2word = {i:w for w,i in word2idx.items()}"
   ]
  },
  {
   "cell_type": "code",
   "execution_count": 16,
   "metadata": {},
   "outputs": [
    {
     "name": "stdout",
     "output_type": "stream",
     "text": [
      "кокон сна малыша пользовались меньше месяца цвет серый "
     ]
    },
    {
     "data": {
      "text/plain": [
       "'Кокон для сна малыша,пользовались меньше месяца.цвет серый'"
      ]
     },
     "execution_count": 16,
     "metadata": {},
     "output_type": "execute_result"
    }
   ],
   "source": [
    "for i in X_desc[0]:\n",
    "    if i!=0:\n",
    "        print(idx2word[i],end=' ')\n",
    "complete_data.iloc[0]['description']"
   ]
  },
  {
   "cell_type": "code",
   "execution_count": 17,
   "metadata": {},
   "outputs": [
    {
     "name": "stdout",
     "output_type": "stream",
     "text": [
      "Create Tokenizer... Preprocess Text... Create Matrix... Done !\n"
     ]
    }
   ],
   "source": [
    "X_title, tokenizer_title = make_token_matrix(complete_data,'title',num_words,max_len,stop_words=russian_stopwords)    \n",
    "word2idx_title = tokenizer_title.word_index"
   ]
  },
  {
   "cell_type": "markdown",
   "metadata": {},
   "source": [
    "## Concatenate and Splits"
   ]
  },
  {
   "cell_type": "code",
   "execution_count": 18,
   "metadata": {},
   "outputs": [],
   "source": [
    "slices = [0, \n",
    "          max_len, #Description\n",
    "          max_len+max_len, #Title\n",
    "          *[max_len+max_len+i+1 for i in range(len(catembs))]] #Categoricals as embeding layer \n",
    "\n",
    "slices_bounds = [(slices[i],slices[i+1]) for i,s in enumerate(slices) if i<len(slices)-1]"
   ]
  },
  {
   "cell_type": "code",
   "execution_count": 19,
   "metadata": {},
   "outputs": [
    {
     "data": {
      "text/plain": [
       "[(0, 150), (150, 300), (300, 301), (301, 302), (302, 303)]"
      ]
     },
     "execution_count": 19,
     "metadata": {},
     "output_type": "execute_result"
    }
   ],
   "source": [
    "slices_bounds"
   ]
  },
  {
   "cell_type": "code",
   "execution_count": 20,
   "metadata": {},
   "outputs": [],
   "source": [
    "X = np.concatenate([X_desc,X_title,X_categoricals],axis=1)"
   ]
  },
  {
   "cell_type": "code",
   "execution_count": 21,
   "metadata": {},
   "outputs": [],
   "source": [
    "test_index = complete_data['param_1'].isna()\n",
    "train_index = ~test_index\n",
    "\n",
    "X_tr = X[train_index].astype('float32')\n",
    "X_board = X[test_index].astype('float32')\n",
    "\n",
    "y = complete_data[train_index]['param_1']"
   ]
  },
  {
   "cell_type": "code",
   "execution_count": 22,
   "metadata": {},
   "outputs": [],
   "source": [
    "y = le.fit_transform(y)"
   ]
  },
  {
   "cell_type": "markdown",
   "metadata": {},
   "source": [
    "## Make model"
   ]
  },
  {
   "cell_type": "code",
   "execution_count": 23,
   "metadata": {},
   "outputs": [],
   "source": [
    "def make_pretrain_embedding(w2idx,word2vec,embed_dim,num_words):\n",
    "    unknown_words = []\n",
    "    embeddings = np.zeros((num_words+1,embed_dim))  #0 is a special token\n",
    "    for word,idx in w2idx.items(): #starts at 1    \n",
    "        if idx>num_words:\n",
    "            break \n",
    "        try:\n",
    "            vect = word2vec[word]\n",
    "            embeddings[idx]=vect/np.linalg.norm(vect)\n",
    "        except KeyError:\n",
    "            unknown_words.append(word)\n",
    "    print('Number of words with no embeddings',len(unknown_words))\n",
    "    \n",
    "    return embeddings, unknown_words"
   ]
  },
  {
   "cell_type": "code",
   "execution_count": 24,
   "metadata": {},
   "outputs": [
    {
     "name": "stderr",
     "output_type": "stream",
     "text": [
      "E:\\Anaconda3\\lib\\site-packages\\ipykernel_launcher.py:8: DeprecationWarning: Call to deprecated `__getitem__` (Method will be removed in 4.0.0, use self.wv.__getitem__() instead).\n",
      "  \n"
     ]
    },
    {
     "name": "stdout",
     "output_type": "stream",
     "text": [
      "Number of words with no embeddings 211\n",
      "Number of words with no embeddings 7831\n"
     ]
    }
   ],
   "source": [
    "pretrained_desc, unknown_words1 = make_pretrain_embedding(word2idx,word2vec,300,num_words)\n",
    "pretrained_title, unknown_words2 = make_pretrain_embedding(word2idx_title,word2vec,300,num_words)\n",
    "#pretrained_params = make_pretrain_embedding(word2idx_params,word2vec,300,num_words)"
   ]
  },
  {
   "cell_type": "code",
   "execution_count": 27,
   "metadata": {},
   "outputs": [
    {
     "data": {
      "text/plain": [
       "370"
      ]
     },
     "execution_count": 27,
     "metadata": {},
     "output_type": "execute_result"
    }
   ],
   "source": [
    "y.max()"
   ]
  },
  {
   "cell_type": "code",
   "execution_count": 30,
   "metadata": {},
   "outputs": [],
   "source": [
    "def make_cnn_model(desc_len,\n",
    "                   catembs,\n",
    "                   embed_dim,\n",
    "                   pretrained_desc,pretrained_title,#pretrained_params,\n",
    "                   dropout=0,\n",
    "                   trainable_embeddings=False,\n",
    "                   conv_size=128):\n",
    "    \n",
    "    desc_input = keras.layers.Input(shape=(desc_len,))\n",
    "    title_input = keras.layers.Input(shape=(desc_len,))\n",
    "    \n",
    "    #Description part\n",
    "    embedded = keras.layers.Embedding(input_dim=pretrained_desc.shape[0],\n",
    "                                      output_dim=embed_dim,\n",
    "                                      input_length=max_len,\n",
    "                                      weights=[pretrained_desc],\n",
    "                                      trainable=trainable_embeddings)(desc_input)\n",
    "    \n",
    "    embedded = keras.layers.SpatialDropout1D(dropout+0.1)(embedded)\n",
    "    desc_features = keras.layers.CuDNNGRU(64,return_sequences=False)(embedded)\n",
    "    \n",
    "    #Title\n",
    "    embedded_title = keras.layers.Embedding(input_dim=pretrained_title.shape[0],\n",
    "                                      output_dim=embed_dim,\n",
    "                                      input_length=max_len,\n",
    "                                      weights=[pretrained_title],\n",
    "                                      trainable=trainable_embeddings)(title_input)\n",
    "    \n",
    "    embedded_title = keras.layers.SpatialDropout1D(dropout+0.1)(embedded_title)\n",
    "    title_features = keras.layers.CuDNNGRU(64,return_sequences=False)(embedded_title)\n",
    "    \n",
    "    #Categoricals    \n",
    "    cat_embs_inputs = []\n",
    "    cat_embs_embeded = []\n",
    "    for i in range(len(catembs)):\n",
    "        cat_embs_inputs.append(keras.layers.Input(shape=(1,)))\n",
    "        cat_embs_embeded.append(keras.layers.Embedding(input_dim=catembs[i],\n",
    "                                                      output_dim=16,\n",
    "                                                      input_length=1,trainable=True)(cat_embs_inputs[i]))\n",
    "    \n",
    "    cat_emb_features = keras.layers.Concatenate()(cat_embs_embeded)\n",
    "    cat_emb_features = keras.layers.Flatten()(cat_emb_features)\n",
    "    cat_emb_features = keras.layers.Dropout(dropout)(cat_emb_features)\n",
    "    cat_emb_features = keras.layers.Dense(128,activation='relu')(cat_emb_features)\n",
    "    cat_emb_features = keras.layers.Dropout(dropout)(cat_emb_features)\n",
    "    cat_emb_features = keras.layers.Dense(32,activation='relu')(cat_emb_features)\n",
    "    \n",
    "    #Concatenate Features\n",
    "    X = keras.layers.Concatenate()([cat_emb_features,desc_features,title_features])\n",
    "    X = keras.layers.Dropout(dropout+0.1)(X)\n",
    "    X = keras.layers.Dense(256,activation='relu')(X)\n",
    "    X = keras.layers.Dropout(dropout)(X)\n",
    "    X = keras.layers.Dense(128,activation='relu')(X)\n",
    "    X = keras.layers.BatchNormalization()(X)\n",
    "    \n",
    "    y_hat = keras.layers.Dense(371,activation='softmax')(X)\n",
    "    \n",
    "    cnn_model = keras.Model(inputs=[desc_input,title_input,*cat_embs_inputs],outputs=y_hat)\n",
    "    \n",
    "    return cnn_model"
   ]
  },
  {
   "cell_type": "code",
   "execution_count": 32,
   "metadata": {},
   "outputs": [
    {
     "data": {
      "application/vnd.jupyter.widget-view+json": {
       "model_id": "366e7103a5e94c1faf8ea877a3daa567",
       "version_major": 2,
       "version_minor": 0
      },
      "text/plain": [
       "HBox(children=(IntProgress(value=0, description='Training', max=10), HTML(value='')))"
      ]
     },
     "metadata": {},
     "output_type": "display_data"
    },
    {
     "data": {
      "application/vnd.jupyter.widget-view+json": {
       "model_id": "14aa7d139e6446bbbae2f7129e5f3660",
       "version_major": 2,
       "version_minor": 0
      },
      "text/plain": [
       "HBox(children=(IntProgress(value=0, description='Epoch 0', max=1927376), HTML(value='')))"
      ]
     },
     "metadata": {},
     "output_type": "display_data"
    },
    {
     "data": {
      "application/vnd.jupyter.widget-view+json": {
       "model_id": "cb10765e666b4ace85980a2a869b4cc0",
       "version_major": 2,
       "version_minor": 0
      },
      "text/plain": [
       "HBox(children=(IntProgress(value=0, description='Epoch 1', max=1927376), HTML(value='')))"
      ]
     },
     "metadata": {},
     "output_type": "display_data"
    },
    {
     "data": {
      "application/vnd.jupyter.widget-view+json": {
       "model_id": "60ba5d6fafeb406ebffba6ce317a277f",
       "version_major": 2,
       "version_minor": 0
      },
      "text/plain": [
       "HBox(children=(IntProgress(value=0, description='Epoch 2', max=1927376), HTML(value='')))"
      ]
     },
     "metadata": {},
     "output_type": "display_data"
    },
    {
     "data": {
      "application/vnd.jupyter.widget-view+json": {
       "model_id": "b34f27e3c83f4224ab27393b3bebe6df",
       "version_major": 2,
       "version_minor": 0
      },
      "text/plain": [
       "HBox(children=(IntProgress(value=0, description='Epoch 3', max=1927376), HTML(value='')))"
      ]
     },
     "metadata": {},
     "output_type": "display_data"
    },
    {
     "data": {
      "application/vnd.jupyter.widget-view+json": {
       "model_id": "02212caa79f54363a21a9bdc167da309",
       "version_major": 2,
       "version_minor": 0
      },
      "text/plain": [
       "HBox(children=(IntProgress(value=0, description='Epoch 4', max=1927376), HTML(value='')))"
      ]
     },
     "metadata": {},
     "output_type": "display_data"
    },
    {
     "data": {
      "application/vnd.jupyter.widget-view+json": {
       "model_id": "e7c0854c3e1f42e3933dafdf66f42b48",
       "version_major": 2,
       "version_minor": 0
      },
      "text/plain": [
       "HBox(children=(IntProgress(value=0, description='Epoch 5', max=1927376), HTML(value='')))"
      ]
     },
     "metadata": {},
     "output_type": "display_data"
    },
    {
     "data": {
      "application/vnd.jupyter.widget-view+json": {
       "model_id": "82f12c5937c24e3e98c9ac24c70c1a63",
       "version_major": 2,
       "version_minor": 0
      },
      "text/plain": [
       "HBox(children=(IntProgress(value=0, description='Epoch 6', max=1927376), HTML(value='')))"
      ]
     },
     "metadata": {},
     "output_type": "display_data"
    },
    {
     "data": {
      "application/vnd.jupyter.widget-view+json": {
       "model_id": "e53643e3eaa7456e9d7c088cdf839933",
       "version_major": 2,
       "version_minor": 0
      },
      "text/plain": [
       "HBox(children=(IntProgress(value=0, description='Epoch 7', max=1927376), HTML(value='')))"
      ]
     },
     "metadata": {},
     "output_type": "display_data"
    },
    {
     "data": {
      "application/vnd.jupyter.widget-view+json": {
       "model_id": "b4fb08ce2f424dce8222d6d0b8884934",
       "version_major": 2,
       "version_minor": 0
      },
      "text/plain": [
       "HBox(children=(IntProgress(value=0, description='Epoch 8', max=1927376), HTML(value='')))"
      ]
     },
     "metadata": {},
     "output_type": "display_data"
    },
    {
     "data": {
      "application/vnd.jupyter.widget-view+json": {
       "model_id": "61147372ae2f4cd8b383722128b9ce3b",
       "version_major": 2,
       "version_minor": 0
      },
      "text/plain": [
       "HBox(children=(IntProgress(value=0, description='Epoch 9', max=1927376), HTML(value='')))"
      ]
     },
     "metadata": {},
     "output_type": "display_data"
    },
    {
     "name": "stdout",
     "output_type": "stream",
     "text": [
      "\n"
     ]
    }
   ],
   "source": [
    "gc.collect()\n",
    "np.random.seed(seed)\n",
    "VALID=False\n",
    "if VALID:\n",
    "    X_tr_tr, X_val, y_tr, y_val = train_test_split(X_tr,y,test_size=0.1,random_state=seed)\n",
    "    keras.backend.clear_session() #Reset   \n",
    "    cnn_model = make_cnn_model(max_len,\n",
    "                               catembs,\n",
    "                               300,\n",
    "                               pretrained_desc,pretrained_title,\n",
    "                               dropout=0.2,\n",
    "                               trainable_embeddings=False, conv_size=128) #If allows train of embedding words, will have to restrict vocab to the train set\n",
    "    Adam = keras.optimizers.Adam(0.001)\n",
    "    cnn_model.compile(optimizer=Adam,loss=keras.losses.sparse_categorical_crossentropy,metrics=['accuracy'])\n",
    "    epochs = 10 #Beware of overfit\n",
    "    cnn_model.fit([X_tr_tr[:,s[0]:s[1]] for s in slices_bounds],\n",
    "              y_tr,\n",
    "              validation_data=([X_val[:,s[0]:s[1]] for s in slices_bounds], y_val),\n",
    "              batch_size=512,epochs=epochs,verbose = 0,callbacks=[TQDMNotebookCallback(leave_inner=True)],)\n",
    "    predictions = cnn_model.predict([X_val[:,s[0]:s[1]] for s in slices_bounds]).flatten()\n",
    "    print(f'RMSE : {r:.4f}')\n",
    "    \n",
    "else:\n",
    "    cnn_model = make_cnn_model(max_len,\n",
    "                           catembs,\n",
    "                           300,\n",
    "                           pretrained_desc,pretrained_title,\n",
    "                           dropout=0.2,\n",
    "                           trainable_embeddings=False, conv_size=128) #If allows train of embedding words, will have to restrict vocab to the train set\n",
    "    Adam = keras.optimizers.Adam(0.001)\n",
    "    cnn_model.compile(optimizer=Adam,loss=keras.losses.sparse_categorical_crossentropy,metrics=['accuracy'])\n",
    "    epochs = 10 #Beware of overfit\n",
    "    cnn_model.fit([X_tr[:,s[0]:s[1]] for s in slices_bounds],\n",
    "              y,\n",
    "              batch_size=512,epochs=epochs,verbose = 0,callbacks=[TQDMNotebookCallback(leave_inner=True)],)"
   ]
  },
  {
   "cell_type": "code",
   "execution_count": 33,
   "metadata": {},
   "outputs": [],
   "source": [
    "guess_param = complete_data[['item_id']].copy()\n",
    "guess_param['Prob_param_top1'] = 0\n",
    "guess_param['Guess_param_top1'] = 0\n",
    "guess_param['Guess_param_top2'] = 0\n",
    "guess_param['Guess_param_top3'] = 0"
   ]
  },
  {
   "cell_type": "code",
   "execution_count": 34,
   "metadata": {},
   "outputs": [],
   "source": [
    "for k in range(41):\n",
    "    X_batch = X[50000*k:50000*(k+1),:]\n",
    "    predictions_param = cnn_model.predict([X_batch[:,s[0]:s[1]] for s in slices_bounds])\n",
    "    guess_param.iloc[50000*k:50000*(k+1),1]=predictions_param.max(axis=1)\n",
    "    guess_param.iloc[50000*k:50000*(k+1),2]=predictions_param.argmax(axis=1)\n",
    "    predictions_param = predictions_param.argsort(axis=1)\n",
    "    guess_param.iloc[50000*k:50000*(k+1),3]=predictions_param[:,-2:-1]\n",
    "    guess_param.iloc[50000*k:50000*(k+1),4]=predictions_param[:,-3:-2]"
   ]
  },
  {
   "cell_type": "code",
   "execution_count": 35,
   "metadata": {},
   "outputs": [
    {
     "data": {
      "text/html": [
       "<div>\n",
       "<style scoped>\n",
       "    .dataframe tbody tr th:only-of-type {\n",
       "        vertical-align: middle;\n",
       "    }\n",
       "\n",
       "    .dataframe tbody tr th {\n",
       "        vertical-align: top;\n",
       "    }\n",
       "\n",
       "    .dataframe thead th {\n",
       "        text-align: right;\n",
       "    }\n",
       "</style>\n",
       "<table border=\"1\" class=\"dataframe\">\n",
       "  <thead>\n",
       "    <tr style=\"text-align: right;\">\n",
       "      <th></th>\n",
       "      <th>item_id</th>\n",
       "      <th>Prob_param_top1</th>\n",
       "      <th>Guess_param_top1</th>\n",
       "      <th>Guess_param_top2</th>\n",
       "      <th>Guess_param_top3</th>\n",
       "    </tr>\n",
       "  </thead>\n",
       "  <tbody>\n",
       "    <tr>\n",
       "      <th>0</th>\n",
       "      <td>b912c3c6a6ad</td>\n",
       "      <td>0.913831</td>\n",
       "      <td>248</td>\n",
       "      <td>99</td>\n",
       "      <td>101</td>\n",
       "    </tr>\n",
       "    <tr>\n",
       "      <th>1</th>\n",
       "      <td>2dac0150717d</td>\n",
       "      <td>0.421783</td>\n",
       "      <td>246</td>\n",
       "      <td>121</td>\n",
       "      <td>252</td>\n",
       "    </tr>\n",
       "    <tr>\n",
       "      <th>2</th>\n",
       "      <td>ba83aefab5dc</td>\n",
       "      <td>0.612330</td>\n",
       "      <td>83</td>\n",
       "      <td>42</td>\n",
       "      <td>208</td>\n",
       "    </tr>\n",
       "    <tr>\n",
       "      <th>3</th>\n",
       "      <td>02996f1dd2ea</td>\n",
       "      <td>0.998906</td>\n",
       "      <td>37</td>\n",
       "      <td>101</td>\n",
       "      <td>99</td>\n",
       "    </tr>\n",
       "    <tr>\n",
       "      <th>4</th>\n",
       "      <td>7c90be56d2ab</td>\n",
       "      <td>0.999996</td>\n",
       "      <td>277</td>\n",
       "      <td>214</td>\n",
       "      <td>242</td>\n",
       "    </tr>\n",
       "  </tbody>\n",
       "</table>\n",
       "</div>"
      ],
      "text/plain": [
       "        item_id  Prob_param_top1  Guess_param_top1  Guess_param_top2  \\\n",
       "0  b912c3c6a6ad         0.913831               248                99   \n",
       "1  2dac0150717d         0.421783               246               121   \n",
       "2  ba83aefab5dc         0.612330                83                42   \n",
       "3  02996f1dd2ea         0.998906                37               101   \n",
       "4  7c90be56d2ab         0.999996               277               214   \n",
       "\n",
       "   Guess_param_top3  \n",
       "0               101  \n",
       "1               252  \n",
       "2               208  \n",
       "3                99  \n",
       "4               242  "
      ]
     },
     "execution_count": 35,
     "metadata": {},
     "output_type": "execute_result"
    }
   ],
   "source": [
    "guess_param.head()"
   ]
  },
  {
   "cell_type": "code",
   "execution_count": 40,
   "metadata": {},
   "outputs": [
    {
     "name": "stderr",
     "output_type": "stream",
     "text": [
      "E:\\Anaconda3\\lib\\site-packages\\sklearn\\preprocessing\\label.py:151: DeprecationWarning: The truth value of an empty array is ambiguous. Returning False, but in future this will result in an error. Use `array.size > 0` to check that an array is not empty.\n",
      "  if diff:\n",
      "E:\\Anaconda3\\lib\\site-packages\\sklearn\\preprocessing\\label.py:151: DeprecationWarning: The truth value of an empty array is ambiguous. Returning False, but in future this will result in an error. Use `array.size > 0` to check that an array is not empty.\n",
      "  if diff:\n",
      "E:\\Anaconda3\\lib\\site-packages\\sklearn\\preprocessing\\label.py:151: DeprecationWarning: The truth value of an empty array is ambiguous. Returning False, but in future this will result in an error. Use `array.size > 0` to check that an array is not empty.\n",
      "  if diff:\n"
     ]
    }
   ],
   "source": [
    "guess_param['Guess_param_top1'] = le.inverse_transform(guess_param['Guess_param_top1'])\n",
    "guess_param['Guess_param_top2'] = le.inverse_transform(guess_param['Guess_param_top2'])\n",
    "guess_param['Guess_param_top3'] = le.inverse_transform(guess_param['Guess_param_top3'])"
   ]
  },
  {
   "cell_type": "code",
   "execution_count": 41,
   "metadata": {},
   "outputs": [],
   "source": [
    "guess_param.to_csv(DATA_PATH+'param_guess.csv',index=False)"
   ]
  },
  {
   "cell_type": "code",
   "execution_count": 42,
   "metadata": {},
   "outputs": [
    {
     "data": {
      "text/plain": [
       "371"
      ]
     },
     "execution_count": 42,
     "metadata": {},
     "output_type": "execute_result"
    }
   ],
   "source": [
    "len(le.classes_)"
   ]
  },
  {
   "cell_type": "code",
   "execution_count": 43,
   "metadata": {},
   "outputs": [],
   "source": [
    "guess_param['real_param_1']=complete_data['param_1']"
   ]
  },
  {
   "cell_type": "code",
   "execution_count": 44,
   "metadata": {},
   "outputs": [
    {
     "data": {
      "text/html": [
       "<div>\n",
       "<style scoped>\n",
       "    .dataframe tbody tr th:only-of-type {\n",
       "        vertical-align: middle;\n",
       "    }\n",
       "\n",
       "    .dataframe tbody tr th {\n",
       "        vertical-align: top;\n",
       "    }\n",
       "\n",
       "    .dataframe thead th {\n",
       "        text-align: right;\n",
       "    }\n",
       "</style>\n",
       "<table border=\"1\" class=\"dataframe\">\n",
       "  <thead>\n",
       "    <tr style=\"text-align: right;\">\n",
       "      <th></th>\n",
       "      <th>item_id</th>\n",
       "      <th>Prob_param_top1</th>\n",
       "      <th>Guess_param_top1</th>\n",
       "      <th>Guess_param_top2</th>\n",
       "      <th>Guess_param_top3</th>\n",
       "      <th>real_param_1</th>\n",
       "    </tr>\n",
       "  </thead>\n",
       "  <tbody>\n",
       "    <tr>\n",
       "      <th>0</th>\n",
       "      <td>b912c3c6a6ad</td>\n",
       "      <td>0.913831</td>\n",
       "      <td>Постельные принадлежности</td>\n",
       "      <td>Детская мебель</td>\n",
       "      <td>Детские коляски</td>\n",
       "      <td>Постельные принадлежности</td>\n",
       "    </tr>\n",
       "    <tr>\n",
       "      <th>1</th>\n",
       "      <td>2dac0150717d</td>\n",
       "      <td>0.421783</td>\n",
       "      <td>Подставки и тумбы</td>\n",
       "      <td>Другое</td>\n",
       "      <td>Предметы интерьера, искусство</td>\n",
       "      <td>Другое</td>\n",
       "    </tr>\n",
       "    <tr>\n",
       "      <th>2</th>\n",
       "      <td>ba83aefab5dc</td>\n",
       "      <td>0.612330</td>\n",
       "      <td>Видео, DVD и Blu-ray плееры</td>\n",
       "      <td>Акустика, колонки, сабвуферы</td>\n",
       "      <td>Музыкальные центры, магнитолы</td>\n",
       "      <td>Видео, DVD и Blu-ray плееры</td>\n",
       "    </tr>\n",
       "    <tr>\n",
       "      <th>3</th>\n",
       "      <td>02996f1dd2ea</td>\n",
       "      <td>0.998906</td>\n",
       "      <td>Автомобильные кресла</td>\n",
       "      <td>Детские коляски</td>\n",
       "      <td>Детская мебель</td>\n",
       "      <td>Автомобильные кресла</td>\n",
       "    </tr>\n",
       "    <tr>\n",
       "      <th>4</th>\n",
       "      <td>7c90be56d2ab</td>\n",
       "      <td>0.999996</td>\n",
       "      <td>С пробегом</td>\n",
       "      <td>Новые</td>\n",
       "      <td>Планшеты</td>\n",
       "      <td>С пробегом</td>\n",
       "    </tr>\n",
       "    <tr>\n",
       "      <th>5</th>\n",
       "      <td>51e0962387f7</td>\n",
       "      <td>0.998053</td>\n",
       "      <td>Автомобильные кресла</td>\n",
       "      <td>Детские коляски</td>\n",
       "      <td>Детская мебель</td>\n",
       "      <td>Автомобильные кресла</td>\n",
       "    </tr>\n",
       "    <tr>\n",
       "      <th>6</th>\n",
       "      <td>c4f260a2b48a</td>\n",
       "      <td>0.907822</td>\n",
       "      <td>Сантехника и сауна</td>\n",
       "      <td>Стройматериалы</td>\n",
       "      <td>Камины и обогреватели</td>\n",
       "      <td>Сантехника и сауна</td>\n",
       "    </tr>\n",
       "    <tr>\n",
       "      <th>7</th>\n",
       "      <td>6b71309d6a8a</td>\n",
       "      <td>0.997049</td>\n",
       "      <td>Женская одежда</td>\n",
       "      <td>Мужская одежда</td>\n",
       "      <td>Аксессуары</td>\n",
       "      <td>Женская одежда</td>\n",
       "    </tr>\n",
       "    <tr>\n",
       "      <th>8</th>\n",
       "      <td>c5b969cb63a2</td>\n",
       "      <td>0.999813</td>\n",
       "      <td>Женская одежда</td>\n",
       "      <td>Мужская одежда</td>\n",
       "      <td>Аксессуары</td>\n",
       "      <td>Женская одежда</td>\n",
       "    </tr>\n",
       "    <tr>\n",
       "      <th>9</th>\n",
       "      <td>b1570962e68c</td>\n",
       "      <td>0.777991</td>\n",
       "      <td>Для мальчиков</td>\n",
       "      <td>Для девочек</td>\n",
       "      <td>Йоркширский терьер</td>\n",
       "      <td>Для девочек</td>\n",
       "    </tr>\n",
       "    <tr>\n",
       "      <th>10</th>\n",
       "      <td>d5480bb4a6e4</td>\n",
       "      <td>0.999532</td>\n",
       "      <td>Сдам</td>\n",
       "      <td>Продам</td>\n",
       "      <td>Сниму</td>\n",
       "      <td>Сдам</td>\n",
       "    </tr>\n",
       "    <tr>\n",
       "      <th>11</th>\n",
       "      <td>86f41f50d8c1</td>\n",
       "      <td>0.977147</td>\n",
       "      <td>Женская одежда</td>\n",
       "      <td>Мужская одежда</td>\n",
       "      <td>Аксессуары</td>\n",
       "      <td>Женская одежда</td>\n",
       "    </tr>\n",
       "    <tr>\n",
       "      <th>12</th>\n",
       "      <td>645237cb3601</td>\n",
       "      <td>0.962026</td>\n",
       "      <td>Товары для школы</td>\n",
       "      <td>Игрушки</td>\n",
       "      <td>Товары для купания</td>\n",
       "      <td>Товары для школы</td>\n",
       "    </tr>\n",
       "    <tr>\n",
       "      <th>13</th>\n",
       "      <td>df2116f34563</td>\n",
       "      <td>0.999980</td>\n",
       "      <td>Мониторы</td>\n",
       "      <td>Комплектующие</td>\n",
       "      <td>Планшеты</td>\n",
       "      <td>Мониторы</td>\n",
       "    </tr>\n",
       "    <tr>\n",
       "      <th>14</th>\n",
       "      <td>a97943ae8158</td>\n",
       "      <td>0.493321</td>\n",
       "      <td>Овчарка</td>\n",
       "      <td>Немецкая овчарка</td>\n",
       "      <td>Другая</td>\n",
       "      <td>Немецкая овчарка</td>\n",
       "    </tr>\n",
       "    <tr>\n",
       "      <th>15</th>\n",
       "      <td>4b6abd0a5921</td>\n",
       "      <td>0.999927</td>\n",
       "      <td>Женская одежда</td>\n",
       "      <td>Аксессуары</td>\n",
       "      <td>Мужская одежда</td>\n",
       "      <td>Женская одежда</td>\n",
       "    </tr>\n",
       "    <tr>\n",
       "      <th>16</th>\n",
       "      <td>7896ef8fe482</td>\n",
       "      <td>0.999999</td>\n",
       "      <td>С пробегом</td>\n",
       "      <td>Новые</td>\n",
       "      <td>Катера и яхты</td>\n",
       "      <td>С пробегом</td>\n",
       "    </tr>\n",
       "    <tr>\n",
       "      <th>17</th>\n",
       "      <td>7882b1e77748</td>\n",
       "      <td>0.955797</td>\n",
       "      <td>Игрушки</td>\n",
       "      <td>Детская мебель</td>\n",
       "      <td>Постельные принадлежности</td>\n",
       "      <td>Игрушки</td>\n",
       "    </tr>\n",
       "    <tr>\n",
       "      <th>18</th>\n",
       "      <td>071e1ed13c5c</td>\n",
       "      <td>0.986295</td>\n",
       "      <td>Женская одежда</td>\n",
       "      <td>Мужская одежда</td>\n",
       "      <td>Аксессуары</td>\n",
       "      <td>Женская одежда</td>\n",
       "    </tr>\n",
       "    <tr>\n",
       "      <th>19</th>\n",
       "      <td>0658628930d4</td>\n",
       "      <td>0.999988</td>\n",
       "      <td>Сниму</td>\n",
       "      <td>Куплю</td>\n",
       "      <td>Сдам</td>\n",
       "      <td>Сниму</td>\n",
       "    </tr>\n",
       "    <tr>\n",
       "      <th>20</th>\n",
       "      <td>ea12aec32ec3</td>\n",
       "      <td>0.999845</td>\n",
       "      <td>Продам</td>\n",
       "      <td>Сдам</td>\n",
       "      <td>Куплю</td>\n",
       "      <td>Продам</td>\n",
       "    </tr>\n",
       "    <tr>\n",
       "      <th>21</th>\n",
       "      <td>838a82cec0a6</td>\n",
       "      <td>0.842130</td>\n",
       "      <td>Женская одежда</td>\n",
       "      <td>Мужская одежда</td>\n",
       "      <td>Аксессуары</td>\n",
       "      <td>Женская одежда</td>\n",
       "    </tr>\n",
       "    <tr>\n",
       "      <th>22</th>\n",
       "      <td>de310e6aae86</td>\n",
       "      <td>0.999997</td>\n",
       "      <td>С пробегом</td>\n",
       "      <td>Новые</td>\n",
       "      <td>Катера и яхты</td>\n",
       "      <td>С пробегом</td>\n",
       "    </tr>\n",
       "    <tr>\n",
       "      <th>23</th>\n",
       "      <td>08b24e170109</td>\n",
       "      <td>0.984349</td>\n",
       "      <td>Для девочек</td>\n",
       "      <td>Для мальчиков</td>\n",
       "      <td>Шарпей</td>\n",
       "      <td>Для девочек</td>\n",
       "    </tr>\n",
       "    <tr>\n",
       "      <th>24</th>\n",
       "      <td>065a4daba35f</td>\n",
       "      <td>0.570336</td>\n",
       "      <td>Грызуны</td>\n",
       "      <td>Рептилии</td>\n",
       "      <td>Другое</td>\n",
       "      <td>NaN</td>\n",
       "    </tr>\n",
       "    <tr>\n",
       "      <th>25</th>\n",
       "      <td>990113ae4f1c</td>\n",
       "      <td>0.983637</td>\n",
       "      <td>Игрушки</td>\n",
       "      <td>Детская мебель</td>\n",
       "      <td>Детские коляски</td>\n",
       "      <td>Игрушки</td>\n",
       "    </tr>\n",
       "    <tr>\n",
       "      <th>26</th>\n",
       "      <td>78164bc09657</td>\n",
       "      <td>0.990540</td>\n",
       "      <td>Текстиль и ковры</td>\n",
       "      <td>Предметы интерьера, искусство</td>\n",
       "      <td>Другое</td>\n",
       "      <td>Текстиль и ковры</td>\n",
       "    </tr>\n",
       "    <tr>\n",
       "      <th>27</th>\n",
       "      <td>fbe29970a8a5</td>\n",
       "      <td>0.988279</td>\n",
       "      <td>Женская одежда</td>\n",
       "      <td>Мужская одежда</td>\n",
       "      <td>Аксессуары</td>\n",
       "      <td>Женская одежда</td>\n",
       "    </tr>\n",
       "    <tr>\n",
       "      <th>28</th>\n",
       "      <td>71d9399b59a2</td>\n",
       "      <td>0.999895</td>\n",
       "      <td>Женская одежда</td>\n",
       "      <td>Аксессуары</td>\n",
       "      <td>Мужская одежда</td>\n",
       "      <td>Женская одежда</td>\n",
       "    </tr>\n",
       "    <tr>\n",
       "      <th>29</th>\n",
       "      <td>4941f0385575</td>\n",
       "      <td>0.810197</td>\n",
       "      <td>Для мальчиков</td>\n",
       "      <td>Для девочек</td>\n",
       "      <td>Прицепы</td>\n",
       "      <td>Для мальчиков</td>\n",
       "    </tr>\n",
       "    <tr>\n",
       "      <th>...</th>\n",
       "      <td>...</td>\n",
       "      <td>...</td>\n",
       "      <td>...</td>\n",
       "      <td>...</td>\n",
       "      <td>...</td>\n",
       "      <td>...</td>\n",
       "    </tr>\n",
       "    <tr>\n",
       "      <th>2011832</th>\n",
       "      <td>df8001ca5897</td>\n",
       "      <td>0.901304</td>\n",
       "      <td>Кровати, диваны и кресла</td>\n",
       "      <td>Другое</td>\n",
       "      <td>Текстиль и ковры</td>\n",
       "      <td>Кровати, диваны и кресла</td>\n",
       "    </tr>\n",
       "    <tr>\n",
       "      <th>2011833</th>\n",
       "      <td>0455281c86fb</td>\n",
       "      <td>0.999881</td>\n",
       "      <td>Няни, сиделки</td>\n",
       "      <td>Уход за животными</td>\n",
       "      <td>Уборка</td>\n",
       "      <td>Няни, сиделки</td>\n",
       "    </tr>\n",
       "    <tr>\n",
       "      <th>2011834</th>\n",
       "      <td>482d3253c9f1</td>\n",
       "      <td>0.789146</td>\n",
       "      <td>Часы</td>\n",
       "      <td>Ювелирные изделия</td>\n",
       "      <td>Бижутерия</td>\n",
       "      <td>Часы</td>\n",
       "    </tr>\n",
       "    <tr>\n",
       "      <th>2011835</th>\n",
       "      <td>9278e7c14cd0</td>\n",
       "      <td>0.999872</td>\n",
       "      <td>Женская одежда</td>\n",
       "      <td>Аксессуары</td>\n",
       "      <td>Мужская одежда</td>\n",
       "      <td>Женская одежда</td>\n",
       "    </tr>\n",
       "    <tr>\n",
       "      <th>2011836</th>\n",
       "      <td>9041d0340b49</td>\n",
       "      <td>0.699126</td>\n",
       "      <td>Для мальчиков</td>\n",
       "      <td>Для девочек</td>\n",
       "      <td>Средства гигиены</td>\n",
       "      <td>Для мальчиков</td>\n",
       "    </tr>\n",
       "    <tr>\n",
       "      <th>2011837</th>\n",
       "      <td>872c382ce446</td>\n",
       "      <td>0.777177</td>\n",
       "      <td>Для мальчиков</td>\n",
       "      <td>Для девочек</td>\n",
       "      <td>Прицепы</td>\n",
       "      <td>Для мальчиков</td>\n",
       "    </tr>\n",
       "    <tr>\n",
       "      <th>2011838</th>\n",
       "      <td>67448ad8941c</td>\n",
       "      <td>0.865023</td>\n",
       "      <td>Бытовые услуги</td>\n",
       "      <td>Другое</td>\n",
       "      <td>Искусство</td>\n",
       "      <td>Бытовые услуги</td>\n",
       "    </tr>\n",
       "    <tr>\n",
       "      <th>2011839</th>\n",
       "      <td>6ffaf4c20469</td>\n",
       "      <td>0.972143</td>\n",
       "      <td>Товары для купания</td>\n",
       "      <td>Игрушки</td>\n",
       "      <td>Детская мебель</td>\n",
       "      <td>Товары для купания</td>\n",
       "    </tr>\n",
       "    <tr>\n",
       "      <th>2011840</th>\n",
       "      <td>acc46dbda733</td>\n",
       "      <td>0.925311</td>\n",
       "      <td>Приборы и аксессуары</td>\n",
       "      <td>Средства гигиены</td>\n",
       "      <td>Косметика</td>\n",
       "      <td>Приборы и аксессуары</td>\n",
       "    </tr>\n",
       "    <tr>\n",
       "      <th>2011841</th>\n",
       "      <td>eb33cd6dac70</td>\n",
       "      <td>0.997366</td>\n",
       "      <td>Женская одежда</td>\n",
       "      <td>Мужская одежда</td>\n",
       "      <td>Аксессуары</td>\n",
       "      <td>Женская одежда</td>\n",
       "    </tr>\n",
       "    <tr>\n",
       "      <th>2011842</th>\n",
       "      <td>f9db673cb425</td>\n",
       "      <td>0.999914</td>\n",
       "      <td>Женская одежда</td>\n",
       "      <td>Аксессуары</td>\n",
       "      <td>Мужская одежда</td>\n",
       "      <td>Женская одежда</td>\n",
       "    </tr>\n",
       "    <tr>\n",
       "      <th>2011843</th>\n",
       "      <td>32727c2ed7e5</td>\n",
       "      <td>0.999093</td>\n",
       "      <td>Монеты</td>\n",
       "      <td>Банкноты</td>\n",
       "      <td>Жетоны, медали, значки</td>\n",
       "      <td>Монеты</td>\n",
       "    </tr>\n",
       "    <tr>\n",
       "      <th>2011844</th>\n",
       "      <td>2e6f289d2676</td>\n",
       "      <td>0.999976</td>\n",
       "      <td>Женская одежда</td>\n",
       "      <td>Аксессуары</td>\n",
       "      <td>Мужская одежда</td>\n",
       "      <td>Женская одежда</td>\n",
       "    </tr>\n",
       "    <tr>\n",
       "      <th>2011845</th>\n",
       "      <td>58fa2c39f791</td>\n",
       "      <td>0.870782</td>\n",
       "      <td>Комплектующие</td>\n",
       "      <td>Аксессуары</td>\n",
       "      <td>Acer</td>\n",
       "      <td>NaN</td>\n",
       "    </tr>\n",
       "    <tr>\n",
       "      <th>2011846</th>\n",
       "      <td>0e1a370c12c7</td>\n",
       "      <td>0.998903</td>\n",
       "      <td>Женская одежда</td>\n",
       "      <td>Мужская одежда</td>\n",
       "      <td>Аксессуары</td>\n",
       "      <td>Женская одежда</td>\n",
       "    </tr>\n",
       "    <tr>\n",
       "      <th>2011847</th>\n",
       "      <td>cc4f7fd3d2f2</td>\n",
       "      <td>0.999084</td>\n",
       "      <td>Стройматериалы</td>\n",
       "      <td>Инструменты</td>\n",
       "      <td>Потолки</td>\n",
       "      <td>Стройматериалы</td>\n",
       "    </tr>\n",
       "    <tr>\n",
       "      <th>2011848</th>\n",
       "      <td>29a342aa8508</td>\n",
       "      <td>0.693763</td>\n",
       "      <td>Промышленное</td>\n",
       "      <td>Другое</td>\n",
       "      <td>Для магазина</td>\n",
       "      <td>Промышленное</td>\n",
       "    </tr>\n",
       "    <tr>\n",
       "      <th>2011849</th>\n",
       "      <td>fce6b0de65f8</td>\n",
       "      <td>0.999685</td>\n",
       "      <td>Женская одежда</td>\n",
       "      <td>Аксессуары</td>\n",
       "      <td>Мужская одежда</td>\n",
       "      <td>Женская одежда</td>\n",
       "    </tr>\n",
       "    <tr>\n",
       "      <th>2011850</th>\n",
       "      <td>dae17c1850b0</td>\n",
       "      <td>0.999990</td>\n",
       "      <td>Сниму</td>\n",
       "      <td>Куплю</td>\n",
       "      <td>Сдам</td>\n",
       "      <td>Сниму</td>\n",
       "    </tr>\n",
       "    <tr>\n",
       "      <th>2011851</th>\n",
       "      <td>549b1c9354e3</td>\n",
       "      <td>0.999300</td>\n",
       "      <td>Мужская одежда</td>\n",
       "      <td>Женская одежда</td>\n",
       "      <td>Аксессуары</td>\n",
       "      <td>Мужская одежда</td>\n",
       "    </tr>\n",
       "    <tr>\n",
       "      <th>2011852</th>\n",
       "      <td>0915772bb21c</td>\n",
       "      <td>0.995087</td>\n",
       "      <td>Женская одежда</td>\n",
       "      <td>Аксессуары</td>\n",
       "      <td>Мужская одежда</td>\n",
       "      <td>Женская одежда</td>\n",
       "    </tr>\n",
       "    <tr>\n",
       "      <th>2011853</th>\n",
       "      <td>d8984ced6639</td>\n",
       "      <td>0.999807</td>\n",
       "      <td>Сдам</td>\n",
       "      <td>Продам</td>\n",
       "      <td>Сниму</td>\n",
       "      <td>Сдам</td>\n",
       "    </tr>\n",
       "    <tr>\n",
       "      <th>2011854</th>\n",
       "      <td>e7c68be28a03</td>\n",
       "      <td>0.821283</td>\n",
       "      <td>Бижутерия</td>\n",
       "      <td>Ювелирные изделия</td>\n",
       "      <td>Часы</td>\n",
       "      <td>Бижутерия</td>\n",
       "    </tr>\n",
       "    <tr>\n",
       "      <th>2011855</th>\n",
       "      <td>a96a4c5ad75a</td>\n",
       "      <td>0.999619</td>\n",
       "      <td>Женская одежда</td>\n",
       "      <td>Мужская одежда</td>\n",
       "      <td>Аксессуары</td>\n",
       "      <td>Женская одежда</td>\n",
       "    </tr>\n",
       "    <tr>\n",
       "      <th>2011856</th>\n",
       "      <td>fdcd9910edf3</td>\n",
       "      <td>0.999995</td>\n",
       "      <td>С пробегом</td>\n",
       "      <td>Новые</td>\n",
       "      <td>Катера и яхты</td>\n",
       "      <td>С пробегом</td>\n",
       "    </tr>\n",
       "    <tr>\n",
       "      <th>2011857</th>\n",
       "      <td>9f2200aed300</td>\n",
       "      <td>0.999138</td>\n",
       "      <td>Nokia</td>\n",
       "      <td>Microsoft</td>\n",
       "      <td>Аксессуары</td>\n",
       "      <td>Nokia</td>\n",
       "    </tr>\n",
       "    <tr>\n",
       "      <th>2011858</th>\n",
       "      <td>70813f518de4</td>\n",
       "      <td>0.508845</td>\n",
       "      <td>Комплектующие</td>\n",
       "      <td>Аксессуары</td>\n",
       "      <td>Samsung</td>\n",
       "      <td>NaN</td>\n",
       "    </tr>\n",
       "    <tr>\n",
       "      <th>2011859</th>\n",
       "      <td>a22a2eeb5dd2</td>\n",
       "      <td>0.999881</td>\n",
       "      <td>Женская одежда</td>\n",
       "      <td>Аксессуары</td>\n",
       "      <td>Мужская одежда</td>\n",
       "      <td>Женская одежда</td>\n",
       "    </tr>\n",
       "    <tr>\n",
       "      <th>2011860</th>\n",
       "      <td>ed7fbb0733c1</td>\n",
       "      <td>0.886756</td>\n",
       "      <td>Ремонт и обслуживание техники</td>\n",
       "      <td>Установка техники</td>\n",
       "      <td>IT, интернет, телеком</td>\n",
       "      <td>Оборудование, производство</td>\n",
       "    </tr>\n",
       "    <tr>\n",
       "      <th>2011861</th>\n",
       "      <td>d374d332992f</td>\n",
       "      <td>0.996706</td>\n",
       "      <td>Инструменты</td>\n",
       "      <td>Садовая техника</td>\n",
       "      <td>Стройматериалы</td>\n",
       "      <td>Инструменты</td>\n",
       "    </tr>\n",
       "  </tbody>\n",
       "</table>\n",
       "<p>2011862 rows × 6 columns</p>\n",
       "</div>"
      ],
      "text/plain": [
       "              item_id  Prob_param_top1               Guess_param_top1  \\\n",
       "0        b912c3c6a6ad         0.913831      Постельные принадлежности   \n",
       "1        2dac0150717d         0.421783              Подставки и тумбы   \n",
       "2        ba83aefab5dc         0.612330    Видео, DVD и Blu-ray плееры   \n",
       "3        02996f1dd2ea         0.998906           Автомобильные кресла   \n",
       "4        7c90be56d2ab         0.999996                     С пробегом   \n",
       "5        51e0962387f7         0.998053           Автомобильные кресла   \n",
       "6        c4f260a2b48a         0.907822             Сантехника и сауна   \n",
       "7        6b71309d6a8a         0.997049                 Женская одежда   \n",
       "8        c5b969cb63a2         0.999813                 Женская одежда   \n",
       "9        b1570962e68c         0.777991                  Для мальчиков   \n",
       "10       d5480bb4a6e4         0.999532                           Сдам   \n",
       "11       86f41f50d8c1         0.977147                 Женская одежда   \n",
       "12       645237cb3601         0.962026               Товары для школы   \n",
       "13       df2116f34563         0.999980                       Мониторы   \n",
       "14       a97943ae8158         0.493321                        Овчарка   \n",
       "15       4b6abd0a5921         0.999927                 Женская одежда   \n",
       "16       7896ef8fe482         0.999999                     С пробегом   \n",
       "17       7882b1e77748         0.955797                        Игрушки   \n",
       "18       071e1ed13c5c         0.986295                 Женская одежда   \n",
       "19       0658628930d4         0.999988                          Сниму   \n",
       "20       ea12aec32ec3         0.999845                         Продам   \n",
       "21       838a82cec0a6         0.842130                 Женская одежда   \n",
       "22       de310e6aae86         0.999997                     С пробегом   \n",
       "23       08b24e170109         0.984349                    Для девочек   \n",
       "24       065a4daba35f         0.570336                        Грызуны   \n",
       "25       990113ae4f1c         0.983637                        Игрушки   \n",
       "26       78164bc09657         0.990540               Текстиль и ковры   \n",
       "27       fbe29970a8a5         0.988279                 Женская одежда   \n",
       "28       71d9399b59a2         0.999895                 Женская одежда   \n",
       "29       4941f0385575         0.810197                  Для мальчиков   \n",
       "...               ...              ...                            ...   \n",
       "2011832  df8001ca5897         0.901304       Кровати, диваны и кресла   \n",
       "2011833  0455281c86fb         0.999881                  Няни, сиделки   \n",
       "2011834  482d3253c9f1         0.789146                           Часы   \n",
       "2011835  9278e7c14cd0         0.999872                 Женская одежда   \n",
       "2011836  9041d0340b49         0.699126                  Для мальчиков   \n",
       "2011837  872c382ce446         0.777177                  Для мальчиков   \n",
       "2011838  67448ad8941c         0.865023                 Бытовые услуги   \n",
       "2011839  6ffaf4c20469         0.972143             Товары для купания   \n",
       "2011840  acc46dbda733         0.925311           Приборы и аксессуары   \n",
       "2011841  eb33cd6dac70         0.997366                 Женская одежда   \n",
       "2011842  f9db673cb425         0.999914                 Женская одежда   \n",
       "2011843  32727c2ed7e5         0.999093                         Монеты   \n",
       "2011844  2e6f289d2676         0.999976                 Женская одежда   \n",
       "2011845  58fa2c39f791         0.870782                  Комплектующие   \n",
       "2011846  0e1a370c12c7         0.998903                 Женская одежда   \n",
       "2011847  cc4f7fd3d2f2         0.999084                 Стройматериалы   \n",
       "2011848  29a342aa8508         0.693763                   Промышленное   \n",
       "2011849  fce6b0de65f8         0.999685                 Женская одежда   \n",
       "2011850  dae17c1850b0         0.999990                          Сниму   \n",
       "2011851  549b1c9354e3         0.999300                 Мужская одежда   \n",
       "2011852  0915772bb21c         0.995087                 Женская одежда   \n",
       "2011853  d8984ced6639         0.999807                           Сдам   \n",
       "2011854  e7c68be28a03         0.821283                      Бижутерия   \n",
       "2011855  a96a4c5ad75a         0.999619                 Женская одежда   \n",
       "2011856  fdcd9910edf3         0.999995                     С пробегом   \n",
       "2011857  9f2200aed300         0.999138                          Nokia   \n",
       "2011858  70813f518de4         0.508845                  Комплектующие   \n",
       "2011859  a22a2eeb5dd2         0.999881                 Женская одежда   \n",
       "2011860  ed7fbb0733c1         0.886756  Ремонт и обслуживание техники   \n",
       "2011861  d374d332992f         0.996706                    Инструменты   \n",
       "\n",
       "                      Guess_param_top2               Guess_param_top3  \\\n",
       "0                       Детская мебель                Детские коляски   \n",
       "1                               Другое  Предметы интерьера, искусство   \n",
       "2         Акустика, колонки, сабвуферы  Музыкальные центры, магнитолы   \n",
       "3                      Детские коляски                 Детская мебель   \n",
       "4                                Новые                       Планшеты   \n",
       "5                      Детские коляски                 Детская мебель   \n",
       "6                       Стройматериалы          Камины и обогреватели   \n",
       "7                       Мужская одежда                     Аксессуары   \n",
       "8                       Мужская одежда                     Аксессуары   \n",
       "9                          Для девочек             Йоркширский терьер   \n",
       "10                              Продам                          Сниму   \n",
       "11                      Мужская одежда                     Аксессуары   \n",
       "12                             Игрушки             Товары для купания   \n",
       "13                       Комплектующие                       Планшеты   \n",
       "14                    Немецкая овчарка                         Другая   \n",
       "15                          Аксессуары                 Мужская одежда   \n",
       "16                               Новые                  Катера и яхты   \n",
       "17                      Детская мебель      Постельные принадлежности   \n",
       "18                      Мужская одежда                     Аксессуары   \n",
       "19                               Куплю                           Сдам   \n",
       "20                                Сдам                          Куплю   \n",
       "21                      Мужская одежда                     Аксессуары   \n",
       "22                               Новые                  Катера и яхты   \n",
       "23                       Для мальчиков                         Шарпей   \n",
       "24                            Рептилии                         Другое   \n",
       "25                      Детская мебель                Детские коляски   \n",
       "26       Предметы интерьера, искусство                         Другое   \n",
       "27                      Мужская одежда                     Аксессуары   \n",
       "28                          Аксессуары                 Мужская одежда   \n",
       "29                         Для девочек                        Прицепы   \n",
       "...                                ...                            ...   \n",
       "2011832                         Другое               Текстиль и ковры   \n",
       "2011833              Уход за животными                         Уборка   \n",
       "2011834              Ювелирные изделия                      Бижутерия   \n",
       "2011835                     Аксессуары                 Мужская одежда   \n",
       "2011836                    Для девочек               Средства гигиены   \n",
       "2011837                    Для девочек                        Прицепы   \n",
       "2011838                         Другое                      Искусство   \n",
       "2011839                        Игрушки                 Детская мебель   \n",
       "2011840               Средства гигиены                      Косметика   \n",
       "2011841                 Мужская одежда                     Аксессуары   \n",
       "2011842                     Аксессуары                 Мужская одежда   \n",
       "2011843                       Банкноты         Жетоны, медали, значки   \n",
       "2011844                     Аксессуары                 Мужская одежда   \n",
       "2011845                     Аксессуары                           Acer   \n",
       "2011846                 Мужская одежда                     Аксессуары   \n",
       "2011847                    Инструменты                        Потолки   \n",
       "2011848                         Другое                   Для магазина   \n",
       "2011849                     Аксессуары                 Мужская одежда   \n",
       "2011850                          Куплю                           Сдам   \n",
       "2011851                 Женская одежда                     Аксессуары   \n",
       "2011852                     Аксессуары                 Мужская одежда   \n",
       "2011853                         Продам                          Сниму   \n",
       "2011854              Ювелирные изделия                           Часы   \n",
       "2011855                 Мужская одежда                     Аксессуары   \n",
       "2011856                          Новые                  Катера и яхты   \n",
       "2011857                      Microsoft                     Аксессуары   \n",
       "2011858                     Аксессуары                        Samsung   \n",
       "2011859                     Аксессуары                 Мужская одежда   \n",
       "2011860              Установка техники          IT, интернет, телеком   \n",
       "2011861                Садовая техника                 Стройматериалы   \n",
       "\n",
       "                        real_param_1  \n",
       "0          Постельные принадлежности  \n",
       "1                             Другое  \n",
       "2        Видео, DVD и Blu-ray плееры  \n",
       "3               Автомобильные кресла  \n",
       "4                         С пробегом  \n",
       "5               Автомобильные кресла  \n",
       "6                 Сантехника и сауна  \n",
       "7                     Женская одежда  \n",
       "8                     Женская одежда  \n",
       "9                        Для девочек  \n",
       "10                              Сдам  \n",
       "11                    Женская одежда  \n",
       "12                  Товары для школы  \n",
       "13                          Мониторы  \n",
       "14                  Немецкая овчарка  \n",
       "15                    Женская одежда  \n",
       "16                        С пробегом  \n",
       "17                           Игрушки  \n",
       "18                    Женская одежда  \n",
       "19                             Сниму  \n",
       "20                            Продам  \n",
       "21                    Женская одежда  \n",
       "22                        С пробегом  \n",
       "23                       Для девочек  \n",
       "24                               NaN  \n",
       "25                           Игрушки  \n",
       "26                  Текстиль и ковры  \n",
       "27                    Женская одежда  \n",
       "28                    Женская одежда  \n",
       "29                     Для мальчиков  \n",
       "...                              ...  \n",
       "2011832     Кровати, диваны и кресла  \n",
       "2011833                Няни, сиделки  \n",
       "2011834                         Часы  \n",
       "2011835               Женская одежда  \n",
       "2011836                Для мальчиков  \n",
       "2011837                Для мальчиков  \n",
       "2011838               Бытовые услуги  \n",
       "2011839           Товары для купания  \n",
       "2011840         Приборы и аксессуары  \n",
       "2011841               Женская одежда  \n",
       "2011842               Женская одежда  \n",
       "2011843                       Монеты  \n",
       "2011844               Женская одежда  \n",
       "2011845                          NaN  \n",
       "2011846               Женская одежда  \n",
       "2011847               Стройматериалы  \n",
       "2011848                 Промышленное  \n",
       "2011849               Женская одежда  \n",
       "2011850                        Сниму  \n",
       "2011851               Мужская одежда  \n",
       "2011852               Женская одежда  \n",
       "2011853                         Сдам  \n",
       "2011854                    Бижутерия  \n",
       "2011855               Женская одежда  \n",
       "2011856                   С пробегом  \n",
       "2011857                        Nokia  \n",
       "2011858                          NaN  \n",
       "2011859               Женская одежда  \n",
       "2011860   Оборудование, производство  \n",
       "2011861                  Инструменты  \n",
       "\n",
       "[2011862 rows x 6 columns]"
      ]
     },
     "execution_count": 44,
     "metadata": {},
     "output_type": "execute_result"
    }
   ],
   "source": [
    "guess_param"
   ]
  },
  {
   "cell_type": "code",
   "execution_count": null,
   "metadata": {},
   "outputs": [],
   "source": []
  }
 ],
 "metadata": {
  "kernelspec": {
   "display_name": "Python 3",
   "language": "python",
   "name": "python3"
  },
  "language_info": {
   "codemirror_mode": {
    "name": "ipython",
    "version": 3
   },
   "file_extension": ".py",
   "mimetype": "text/x-python",
   "name": "python",
   "nbconvert_exporter": "python",
   "pygments_lexer": "ipython3",
   "version": "3.6.5"
  }
 },
 "nbformat": 4,
 "nbformat_minor": 2
}
