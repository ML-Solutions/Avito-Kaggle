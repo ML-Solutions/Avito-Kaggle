{
 "cells": [
  {
   "cell_type": "markdown",
   "metadata": {},
   "source": [
    "Changes:\n",
    "* All categoricals as embedding\n",
    "\n",
    "Things to add :\n",
    "1. Add categoricals\n",
    "    * First as one encoding\n",
    "    * Second as vectorized version based on other variables like price\n",
    "    * Third try to do also encoding of the target (Beware of cross validation)\n",
    "2. Add dense features (This is where to put encodings)\n",
    "    * Dont forget to scale (with train+test)\n",
    "3. Add title features\n",
    "4. Add Regularization !\n",
    "5. Add Emoji detection (character tokenizer)\n",
    "6. Use desc/title features as extra variables in a tree\n",
    "6. Add extra features found in other notebooks\n",
    "\n",
    "Don't forget to normalize.\n",
    "Try SnowballStemmer in Russian\n",
    "\n",
    "CNN 10 epochs:\n",
    "* desc : 0.235\n",
    "* desc + region + pcn : 0.233\n",
    "* desc + region + pcn + cn : 0.231\n",
    "* desc + region + pcn + cn + ut : 0.230\n",
    "* desc + region + pcn + cn + ut + title : 0.227\n",
    "* desc + region + pcn + cn + ut + title + image_top + city : 0.224\n",
    "* desc + region + pcn + cn + ut + title + image_top + city + logprice + price_char : 0.223\n",
    "* desc + region + pcn + cn + ut + title + image_top + city + logprice + price_char + Params : 0.221\n",
    "* desc + region + pcn + cn + ut + title + image_top + city + logprice + price_char + Params + User_id + Weekday : 0.2206\n",
    "* ###1### = desc + region + pcn + cn + ut + title + image_top + city + logprice + price_char + Params + User_id + Param_1 + logItem_seq : 0.2194\n",
    "* ###1### + Encodings : "
   ]
  },
  {
   "cell_type": "code",
   "execution_count": 1,
   "metadata": {},
   "outputs": [
    {
     "name": "stderr",
     "output_type": "stream",
     "text": [
      "E:\\Anaconda3\\lib\\site-packages\\h5py\\__init__.py:36: FutureWarning: Conversion of the second argument of issubdtype from `float` to `np.floating` is deprecated. In future, it will be treated as `np.float64 == np.dtype(float).type`.\n",
      "  from ._conv import register_converters as _register_converters\n",
      "Using TensorFlow backend.\n",
      "E:\\Anaconda3\\lib\\site-packages\\gensim\\utils.py:1197: UserWarning: detected Windows; aliasing chunkize to chunkize_serial\n",
      "  warnings.warn(\"detected Windows; aliasing chunkize to chunkize_serial\")\n"
     ]
    }
   ],
   "source": [
    "import pandas as pd\n",
    "import numpy as np\n",
    "import keras\n",
    "from keras_tqdm import TQDMNotebookCallback\n",
    "import gensim\n",
    "import re\n",
    "from tqdm import tqdm,tqdm_notebook,tqdm_pandas\n",
    "import gc\n",
    "\n",
    "from nltk.corpus import stopwords\n",
    "from nltk.stem.snowball import RussianStemmer\n",
    "import seaborn as sns\n",
    "import matplotlib.pyplot as plt\n",
    "\n",
    "from sklearn.model_selection import train_test_split, KFold\n",
    "from sklearn.preprocessing import OneHotEncoder, LabelEncoder, MinMaxScaler"
   ]
  },
  {
   "cell_type": "code",
   "execution_count": 2,
   "metadata": {},
   "outputs": [],
   "source": [
    "DATA_PATH = 'E:/Kaggle/Avito/'\n",
    "REMOVE_NA_DESC = False"
   ]
  },
  {
   "cell_type": "code",
   "execution_count": 3,
   "metadata": {},
   "outputs": [],
   "source": [
    "num_words = 100000\n",
    "max_len = 150\n",
    "seed = 32"
   ]
  },
  {
   "cell_type": "markdown",
   "metadata": {},
   "source": [
    "## Load word2vec dictionary"
   ]
  },
  {
   "cell_type": "code",
   "execution_count": 4,
   "metadata": {},
   "outputs": [],
   "source": [
    "word2vec = gensim.models.Word2Vec.load(DATA_PATH+'avito300_sg.w2v')"
   ]
  },
  {
   "cell_type": "markdown",
   "metadata": {},
   "source": [
    "## Load Data"
   ]
  },
  {
   "cell_type": "code",
   "execution_count": 5,
   "metadata": {},
   "outputs": [],
   "source": [
    "train = pd.read_csv(DATA_PATH+'train.csv')\n",
    "test = pd.read_csv(DATA_PATH+'test.csv')\n",
    "if REMOVE_NA_DESC:\n",
    "    train=train[train['description'].notnull()]"
   ]
  },
  {
   "cell_type": "code",
   "execution_count": 6,
   "metadata": {},
   "outputs": [],
   "source": [
    "complete_data = pd.concat([train,test],axis=0,ignore_index=True)"
   ]
  },
  {
   "cell_type": "markdown",
   "metadata": {},
   "source": [
    "## Feature Engineering"
   ]
  },
  {
   "cell_type": "code",
   "execution_count": 7,
   "metadata": {},
   "outputs": [],
   "source": [
    "for col_text in ['title','description']:\n",
    "    complete_data[col_text].fillna('thisismissing',inplace=True)\n",
    "    complete_data[col_text] = complete_data[col_text].astype(str)"
   ]
  },
  {
   "cell_type": "markdown",
   "metadata": {},
   "source": [
    "#### Categoricals as One Hot\n",
    "* Need to deal with missing values better.\n",
    "* Deal with low frequency categories and categories not in test set. Either impute it by something close that exists in train or by a new class\n",
    "* Try form of embedding instead"
   ]
  },
  {
   "cell_type": "code",
   "execution_count": 8,
   "metadata": {},
   "outputs": [],
   "source": [
    "categoricals_embs = ['parent_category_name','category_name','image_top_1']"
   ]
  },
  {
   "cell_type": "code",
   "execution_count": 9,
   "metadata": {},
   "outputs": [],
   "source": [
    "catembs = []\n",
    "le=LabelEncoder()\n",
    "for cat in categoricals_embs: #Must deal with cities not in train set\n",
    "    complete_data[cat].fillna(-999,inplace=True)\n",
    "    complete_data[cat] = le.fit_transform(complete_data[cat].astype(str))\n",
    "    catembs.append(complete_data[cat].max()+1)\n",
    "X_categoricals = complete_data[categoricals_embs].values.astype('float32')"
   ]
  },
  {
   "cell_type": "code",
   "execution_count": 10,
   "metadata": {},
   "outputs": [
    {
     "name": "stdout",
     "output_type": "stream",
     "text": [
      "[9, 47, 3064]\n"
     ]
    }
   ],
   "source": [
    "print(catembs) "
   ]
  },
  {
   "cell_type": "markdown",
   "metadata": {},
   "source": [
    "#### Text stuff"
   ]
  },
  {
   "cell_type": "code",
   "execution_count": 11,
   "metadata": {},
   "outputs": [],
   "source": [
    "english_stopwords = set(stopwords.words('english'))\n",
    "russian_stopwords = set(stopwords.words('russian'))\n",
    "russian_stopwords = russian_stopwords.union(english_stopwords)\n",
    "def preprocess(x,stop_words=None):\n",
    "    x = keras.preprocessing.text.text_to_word_sequence(x)\n",
    "    if stop_words:\n",
    "        return [word for word in x if word not in russian_stopwords]\n",
    "    else:\n",
    "        return x"
   ]
  },
  {
   "cell_type": "code",
   "execution_count": 12,
   "metadata": {},
   "outputs": [],
   "source": [
    "def make_token_matrix(data,text_col,num_words,max_len,stop_words=None):\n",
    "    \n",
    "    print('Create Tokenizer...',end=' ')\n",
    "    \n",
    "    texts = data[text_col].astype(str)\n",
    "    tokenizer = keras.preprocessing.text.Tokenizer(num_words=num_words,lower=True)\n",
    "    tokenizer.fit_on_texts(texts)\n",
    "    \n",
    "    print('Preprocess Text...',end=' ')\n",
    "    texts = texts.apply(lambda x: preprocess(x,stop_words))\n",
    "    \n",
    "    print('Create Matrix...',end=' ')\n",
    "    X = tokenizer.texts_to_sequences(texts)\n",
    "    X = keras.preprocessing.sequence.pad_sequences(X,padding='pre',truncating='post',maxlen=max_len)\n",
    "    \n",
    "    print('Done !')\n",
    "    return X,tokenizer"
   ]
  },
  {
   "cell_type": "code",
   "execution_count": 13,
   "metadata": {},
   "outputs": [],
   "source": [
    "complete_data['description'] = complete_data['description'].astype(str)"
   ]
  },
  {
   "cell_type": "code",
   "execution_count": 14,
   "metadata": {},
   "outputs": [
    {
     "name": "stdout",
     "output_type": "stream",
     "text": [
      "Create Tokenizer... Preprocess Text... Create Matrix... Done !\n"
     ]
    }
   ],
   "source": [
    "X_desc, tokenizer_desc = make_token_matrix(complete_data,'description',num_words,max_len,stop_words=russian_stopwords)\n",
    "word2idx = tokenizer_desc.word_index"
   ]
  },
  {
   "cell_type": "code",
   "execution_count": 15,
   "metadata": {},
   "outputs": [],
   "source": [
    "word2idx = tokenizer_desc.word_index\n",
    "idx2word = {i:w for w,i in word2idx.items()}"
   ]
  },
  {
   "cell_type": "code",
   "execution_count": 16,
   "metadata": {},
   "outputs": [
    {
     "name": "stdout",
     "output_type": "stream",
     "text": [
      "кокон сна малыша пользовались меньше месяца цвет серый "
     ]
    },
    {
     "data": {
      "text/plain": [
       "'Кокон для сна малыша,пользовались меньше месяца.цвет серый'"
      ]
     },
     "execution_count": 16,
     "metadata": {},
     "output_type": "execute_result"
    }
   ],
   "source": [
    "for i in X_desc[0]:\n",
    "    if i!=0:\n",
    "        print(idx2word[i],end=' ')\n",
    "complete_data.iloc[0]['description']"
   ]
  },
  {
   "cell_type": "code",
   "execution_count": 17,
   "metadata": {},
   "outputs": [
    {
     "name": "stdout",
     "output_type": "stream",
     "text": [
      "Create Tokenizer... Preprocess Text... Create Matrix... Done !\n"
     ]
    }
   ],
   "source": [
    "X_title, tokenizer_title = make_token_matrix(complete_data,'title',num_words,max_len,stop_words=russian_stopwords)    \n",
    "word2idx_title = tokenizer_title.word_index"
   ]
  },
  {
   "cell_type": "markdown",
   "metadata": {},
   "source": [
    "## Concatenate and Splits"
   ]
  },
  {
   "cell_type": "code",
   "execution_count": 18,
   "metadata": {},
   "outputs": [],
   "source": [
    "slices = [0, \n",
    "          max_len, #Description\n",
    "          max_len+max_len, #Title\n",
    "          *[max_len+max_len+i+1 for i in range(len(catembs))]] #Categoricals as embeding layer \n",
    "\n",
    "slices_bounds = [(slices[i],slices[i+1]) for i,s in enumerate(slices) if i<len(slices)-1]"
   ]
  },
  {
   "cell_type": "code",
   "execution_count": 19,
   "metadata": {},
   "outputs": [
    {
     "data": {
      "text/plain": [
       "[(0, 150), (150, 300), (300, 301), (301, 302), (302, 303)]"
      ]
     },
     "execution_count": 19,
     "metadata": {},
     "output_type": "execute_result"
    }
   ],
   "source": [
    "slices_bounds"
   ]
  },
  {
   "cell_type": "code",
   "execution_count": 20,
   "metadata": {},
   "outputs": [],
   "source": [
    "X = np.concatenate([X_desc,X_title,X_categoricals],axis=1)"
   ]
  },
  {
   "cell_type": "code",
   "execution_count": 21,
   "metadata": {},
   "outputs": [],
   "source": [
    "test_index = complete_data['param_2'].isna()\n",
    "train_index = ~test_index\n",
    "\n",
    "X_tr = X[train_index].astype('float32')\n",
    "X_board = X[test_index].astype('float32')\n",
    "\n",
    "y = complete_data[train_index]['param_2']"
   ]
  },
  {
   "cell_type": "code",
   "execution_count": 22,
   "metadata": {},
   "outputs": [],
   "source": [
    "y = le.fit_transform(y)"
   ]
  },
  {
   "cell_type": "markdown",
   "metadata": {},
   "source": [
    "## Make model"
   ]
  },
  {
   "cell_type": "code",
   "execution_count": 23,
   "metadata": {},
   "outputs": [],
   "source": [
    "def make_pretrain_embedding(w2idx,word2vec,embed_dim,num_words):\n",
    "    unknown_words = []\n",
    "    embeddings = np.zeros((num_words+1,embed_dim))  #0 is a special token\n",
    "    for word,idx in w2idx.items(): #starts at 1    \n",
    "        if idx>num_words:\n",
    "            break \n",
    "        try:\n",
    "            vect = word2vec[word]\n",
    "            embeddings[idx]=vect/np.linalg.norm(vect)\n",
    "        except KeyError:\n",
    "            unknown_words.append(word)\n",
    "    print('Number of words with no embeddings',len(unknown_words))\n",
    "    \n",
    "    return embeddings, unknown_words"
   ]
  },
  {
   "cell_type": "code",
   "execution_count": 24,
   "metadata": {},
   "outputs": [
    {
     "name": "stderr",
     "output_type": "stream",
     "text": [
      "E:\\Anaconda3\\lib\\site-packages\\ipykernel_launcher.py:8: DeprecationWarning: Call to deprecated `__getitem__` (Method will be removed in 4.0.0, use self.wv.__getitem__() instead).\n",
      "  \n"
     ]
    },
    {
     "name": "stdout",
     "output_type": "stream",
     "text": [
      "Number of words with no embeddings 211\n",
      "Number of words with no embeddings 7831\n"
     ]
    }
   ],
   "source": [
    "pretrained_desc, unknown_words1 = make_pretrain_embedding(word2idx,word2vec,300,num_words)\n",
    "pretrained_title, unknown_words2 = make_pretrain_embedding(word2idx_title,word2vec,300,num_words)\n",
    "#pretrained_params = make_pretrain_embedding(word2idx_params,word2vec,300,num_words)"
   ]
  },
  {
   "cell_type": "code",
   "execution_count": 25,
   "metadata": {},
   "outputs": [
    {
     "data": {
      "text/plain": [
       "276"
      ]
     },
     "execution_count": 25,
     "metadata": {},
     "output_type": "execute_result"
    }
   ],
   "source": [
    "y.max()"
   ]
  },
  {
   "cell_type": "code",
   "execution_count": 28,
   "metadata": {},
   "outputs": [],
   "source": [
    "def make_cnn_model(desc_len,\n",
    "                   catembs,\n",
    "                   embed_dim,\n",
    "                   pretrained_desc,pretrained_title,#pretrained_params,\n",
    "                   dropout=0,\n",
    "                   trainable_embeddings=False,\n",
    "                   conv_size=128):\n",
    "    \n",
    "    desc_input = keras.layers.Input(shape=(desc_len,))\n",
    "    title_input = keras.layers.Input(shape=(desc_len,))\n",
    "    \n",
    "    #Description part\n",
    "    embedded = keras.layers.Embedding(input_dim=pretrained_desc.shape[0],\n",
    "                                      output_dim=embed_dim,\n",
    "                                      input_length=max_len,\n",
    "                                      weights=[pretrained_desc],\n",
    "                                      trainable=trainable_embeddings)(desc_input)\n",
    "    \n",
    "    embedded = keras.layers.SpatialDropout1D(dropout+0.1)(embedded)\n",
    "    desc_features = keras.layers.CuDNNGRU(64,return_sequences=False)(embedded)\n",
    "    \n",
    "    #Title\n",
    "    embedded_title = keras.layers.Embedding(input_dim=pretrained_title.shape[0],\n",
    "                                      output_dim=embed_dim,\n",
    "                                      input_length=max_len,\n",
    "                                      weights=[pretrained_title],\n",
    "                                      trainable=trainable_embeddings)(title_input)\n",
    "    \n",
    "    embedded_title = keras.layers.SpatialDropout1D(dropout+0.1)(embedded_title)\n",
    "    title_features = keras.layers.CuDNNGRU(64,return_sequences=False)(embedded_title)\n",
    "    \n",
    "    #Categoricals    \n",
    "    cat_embs_inputs = []\n",
    "    cat_embs_embeded = []\n",
    "    for i in range(len(catembs)):\n",
    "        cat_embs_inputs.append(keras.layers.Input(shape=(1,)))\n",
    "        cat_embs_embeded.append(keras.layers.Embedding(input_dim=catembs[i],\n",
    "                                                      output_dim=16,\n",
    "                                                      input_length=1,trainable=True)(cat_embs_inputs[i]))\n",
    "    \n",
    "    cat_emb_features = keras.layers.Concatenate()(cat_embs_embeded)\n",
    "    cat_emb_features = keras.layers.Flatten()(cat_emb_features)\n",
    "    cat_emb_features = keras.layers.Dropout(dropout)(cat_emb_features)\n",
    "    cat_emb_features = keras.layers.Dense(128,activation='relu')(cat_emb_features)\n",
    "    cat_emb_features = keras.layers.Dropout(dropout)(cat_emb_features)\n",
    "    cat_emb_features = keras.layers.Dense(32,activation='relu')(cat_emb_features)\n",
    "    \n",
    "    #Concatenate Features\n",
    "    X = keras.layers.Concatenate()([cat_emb_features,desc_features,title_features])\n",
    "    X = keras.layers.Dropout(dropout+0.1)(X)\n",
    "    X = keras.layers.Dense(256,activation='relu')(X)\n",
    "    X = keras.layers.Dropout(dropout)(X)\n",
    "    X = keras.layers.Dense(128,activation='relu')(X)\n",
    "    X = keras.layers.BatchNormalization()(X)\n",
    "    \n",
    "    y_hat = keras.layers.Dense(277,activation='softmax')(X)\n",
    "    \n",
    "    cnn_model = keras.Model(inputs=[desc_input,title_input,*cat_embs_inputs],outputs=y_hat)\n",
    "    \n",
    "    return cnn_model"
   ]
  },
  {
   "cell_type": "code",
   "execution_count": 30,
   "metadata": {},
   "outputs": [
    {
     "data": {
      "application/vnd.jupyter.widget-view+json": {
       "model_id": "aa4d64c55c694659b1ee5e37bbd3cdc4",
       "version_major": 2,
       "version_minor": 0
      },
      "text/plain": [
       "HBox(children=(IntProgress(value=0, description='Training', max=9), HTML(value='')))"
      ]
     },
     "metadata": {},
     "output_type": "display_data"
    },
    {
     "data": {
      "application/vnd.jupyter.widget-view+json": {
       "model_id": "9ca6be3baa5c4b23a7398b41f819671c",
       "version_major": 2,
       "version_minor": 0
      },
      "text/plain": [
       "HBox(children=(IntProgress(value=0, description='Epoch 0', max=1124091), HTML(value='')))"
      ]
     },
     "metadata": {},
     "output_type": "display_data"
    },
    {
     "data": {
      "application/vnd.jupyter.widget-view+json": {
       "model_id": "07679554e9f24cba99f0311f482e85ad",
       "version_major": 2,
       "version_minor": 0
      },
      "text/plain": [
       "HBox(children=(IntProgress(value=0, description='Epoch 1', max=1124091), HTML(value='')))"
      ]
     },
     "metadata": {},
     "output_type": "display_data"
    },
    {
     "data": {
      "application/vnd.jupyter.widget-view+json": {
       "model_id": "0b2483d0f5ef45d0a02812f278c4a8ac",
       "version_major": 2,
       "version_minor": 0
      },
      "text/plain": [
       "HBox(children=(IntProgress(value=0, description='Epoch 2', max=1124091), HTML(value='')))"
      ]
     },
     "metadata": {},
     "output_type": "display_data"
    },
    {
     "data": {
      "application/vnd.jupyter.widget-view+json": {
       "model_id": "a649365a4c784474a451f2b52c0ee13d",
       "version_major": 2,
       "version_minor": 0
      },
      "text/plain": [
       "HBox(children=(IntProgress(value=0, description='Epoch 3', max=1124091), HTML(value='')))"
      ]
     },
     "metadata": {},
     "output_type": "display_data"
    },
    {
     "data": {
      "application/vnd.jupyter.widget-view+json": {
       "model_id": "16b14d3acb6b4da5b845cf7ae27167c6",
       "version_major": 2,
       "version_minor": 0
      },
      "text/plain": [
       "HBox(children=(IntProgress(value=0, description='Epoch 4', max=1124091), HTML(value='')))"
      ]
     },
     "metadata": {},
     "output_type": "display_data"
    },
    {
     "data": {
      "application/vnd.jupyter.widget-view+json": {
       "model_id": "3046bf5e206f44f5b91b0c462d43f33d",
       "version_major": 2,
       "version_minor": 0
      },
      "text/plain": [
       "HBox(children=(IntProgress(value=0, description='Epoch 5', max=1124091), HTML(value='')))"
      ]
     },
     "metadata": {},
     "output_type": "display_data"
    },
    {
     "data": {
      "application/vnd.jupyter.widget-view+json": {
       "model_id": "772f116b6afe4a7784c3d1da415d484f",
       "version_major": 2,
       "version_minor": 0
      },
      "text/plain": [
       "HBox(children=(IntProgress(value=0, description='Epoch 6', max=1124091), HTML(value='')))"
      ]
     },
     "metadata": {},
     "output_type": "display_data"
    },
    {
     "data": {
      "application/vnd.jupyter.widget-view+json": {
       "model_id": "0bd8b0373fb544b8b85a2c1d8a1d69bf",
       "version_major": 2,
       "version_minor": 0
      },
      "text/plain": [
       "HBox(children=(IntProgress(value=0, description='Epoch 7', max=1124091), HTML(value='')))"
      ]
     },
     "metadata": {},
     "output_type": "display_data"
    },
    {
     "data": {
      "application/vnd.jupyter.widget-view+json": {
       "model_id": "045a9c902be84bb2a48000d93263d842",
       "version_major": 2,
       "version_minor": 0
      },
      "text/plain": [
       "HBox(children=(IntProgress(value=0, description='Epoch 8', max=1124091), HTML(value='')))"
      ]
     },
     "metadata": {},
     "output_type": "display_data"
    }
   ],
   "source": [
    "gc.collect()\n",
    "np.random.seed(seed)\n",
    "VALID=False\n",
    "if VALID:\n",
    "    X_tr_tr, X_val, y_tr, y_val = train_test_split(X_tr,y,test_size=0.1,random_state=seed)\n",
    "    keras.backend.clear_session() #Reset   \n",
    "    cnn_model = make_cnn_model(max_len,\n",
    "                               catembs,\n",
    "                               300,\n",
    "                               pretrained_desc,pretrained_title,\n",
    "                               dropout=0.2,\n",
    "                               trainable_embeddings=False, conv_size=128) #If allows train of embedding words, will have to restrict vocab to the train set\n",
    "    Adam = keras.optimizers.Adam(0.001)\n",
    "    cnn_model.compile(optimizer=Adam,loss=keras.losses.sparse_categorical_crossentropy,metrics=['accuracy'])\n",
    "    epochs = 9 #Beware of overfit\n",
    "    cnn_model.fit([X_tr_tr[:,s[0]:s[1]] for s in slices_bounds],\n",
    "              y_tr,\n",
    "              validation_data=([X_val[:,s[0]:s[1]] for s in slices_bounds], y_val),\n",
    "              batch_size=512,epochs=epochs,verbose = 0,callbacks=[TQDMNotebookCallback(leave_inner=True)],)\n",
    "    predictions = cnn_model.predict([X_val[:,s[0]:s[1]] for s in slices_bounds]).flatten()\n",
    "    \n",
    "else:\n",
    "    cnn_model = make_cnn_model(max_len,\n",
    "                           catembs,\n",
    "                           300,\n",
    "                           pretrained_desc,pretrained_title,\n",
    "                           dropout=0.2,\n",
    "                           trainable_embeddings=False, conv_size=128) #If allows train of embedding words, will have to restrict vocab to the train set\n",
    "    Adam = keras.optimizers.Adam(0.001)\n",
    "    cnn_model.compile(optimizer=Adam,loss=keras.losses.sparse_categorical_crossentropy,metrics=['accuracy'])\n",
    "    epochs = 9 #Beware of overfit\n",
    "    cnn_model.fit([X_tr[:,s[0]:s[1]] for s in slices_bounds],\n",
    "              y,\n",
    "              batch_size=512,epochs=epochs,verbose = 0,callbacks=[TQDMNotebookCallback(leave_inner=True)],)"
   ]
  },
  {
   "cell_type": "code",
   "execution_count": 31,
   "metadata": {},
   "outputs": [],
   "source": [
    "guess_param2 = complete_data[['item_id']].copy()\n",
    "guess_param2['Prob_param2_top1'] = 0\n",
    "guess_param2['Guess_param2_top1'] = 0\n",
    "guess_param2['Guess_param2_top2'] = 0\n",
    "guess_param2['Guess_param2_top3'] = 0"
   ]
  },
  {
   "cell_type": "code",
   "execution_count": 32,
   "metadata": {},
   "outputs": [],
   "source": [
    "for k in range(41):\n",
    "    X_batch = X[50000*k:50000*(k+1),:]\n",
    "    predictions_param = cnn_model.predict([X_batch[:,s[0]:s[1]] for s in slices_bounds])\n",
    "    guess_param2.iloc[50000*k:50000*(k+1),1]=predictions_param.max(axis=1)\n",
    "    guess_param2.iloc[50000*k:50000*(k+1),2]=predictions_param.argmax(axis=1)\n",
    "    predictions_param = predictions_param.argsort(axis=1)\n",
    "    guess_param2.iloc[50000*k:50000*(k+1),3]=predictions_param[:,-2:-1]\n",
    "    guess_param2.iloc[50000*k:50000*(k+1),4]=predictions_param[:,-3:-2]"
   ]
  },
  {
   "cell_type": "code",
   "execution_count": 33,
   "metadata": {},
   "outputs": [
    {
     "data": {
      "text/html": [
       "<div>\n",
       "<style scoped>\n",
       "    .dataframe tbody tr th:only-of-type {\n",
       "        vertical-align: middle;\n",
       "    }\n",
       "\n",
       "    .dataframe tbody tr th {\n",
       "        vertical-align: top;\n",
       "    }\n",
       "\n",
       "    .dataframe thead th {\n",
       "        text-align: right;\n",
       "    }\n",
       "</style>\n",
       "<table border=\"1\" class=\"dataframe\">\n",
       "  <thead>\n",
       "    <tr style=\"text-align: right;\">\n",
       "      <th></th>\n",
       "      <th>item_id</th>\n",
       "      <th>Prob_param2_top1</th>\n",
       "      <th>Guess_param2_top1</th>\n",
       "      <th>Guess_param2_top2</th>\n",
       "      <th>Guess_param2_top3</th>\n",
       "    </tr>\n",
       "  </thead>\n",
       "  <tbody>\n",
       "    <tr>\n",
       "      <th>0</th>\n",
       "      <td>b912c3c6a6ad</td>\n",
       "      <td>0.639570</td>\n",
       "      <td>146</td>\n",
       "      <td>256</td>\n",
       "      <td>126</td>\n",
       "    </tr>\n",
       "    <tr>\n",
       "      <th>1</th>\n",
       "      <td>2dac0150717d</td>\n",
       "      <td>0.337309</td>\n",
       "      <td>184</td>\n",
       "      <td>272</td>\n",
       "      <td>146</td>\n",
       "    </tr>\n",
       "    <tr>\n",
       "      <th>2</th>\n",
       "      <td>ba83aefab5dc</td>\n",
       "      <td>0.275816</td>\n",
       "      <td>133</td>\n",
       "      <td>267</td>\n",
       "      <td>158</td>\n",
       "    </tr>\n",
       "    <tr>\n",
       "      <th>3</th>\n",
       "      <td>02996f1dd2ea</td>\n",
       "      <td>0.346080</td>\n",
       "      <td>146</td>\n",
       "      <td>197</td>\n",
       "      <td>126</td>\n",
       "    </tr>\n",
       "    <tr>\n",
       "      <th>4</th>\n",
       "      <td>7c90be56d2ab</td>\n",
       "      <td>1.000000</td>\n",
       "      <td>123</td>\n",
       "      <td>258</td>\n",
       "      <td>148</td>\n",
       "    </tr>\n",
       "  </tbody>\n",
       "</table>\n",
       "</div>"
      ],
      "text/plain": [
       "        item_id  Prob_param2_top1  Guess_param2_top1  Guess_param2_top2  \\\n",
       "0  b912c3c6a6ad          0.639570                146                256   \n",
       "1  2dac0150717d          0.337309                184                272   \n",
       "2  ba83aefab5dc          0.275816                133                267   \n",
       "3  02996f1dd2ea          0.346080                146                197   \n",
       "4  7c90be56d2ab          1.000000                123                258   \n",
       "\n",
       "   Guess_param2_top3  \n",
       "0                126  \n",
       "1                146  \n",
       "2                158  \n",
       "3                126  \n",
       "4                148  "
      ]
     },
     "execution_count": 33,
     "metadata": {},
     "output_type": "execute_result"
    }
   ],
   "source": [
    "guess_param2.head()"
   ]
  },
  {
   "cell_type": "code",
   "execution_count": 34,
   "metadata": {},
   "outputs": [
    {
     "name": "stderr",
     "output_type": "stream",
     "text": [
      "E:\\Anaconda3\\lib\\site-packages\\sklearn\\preprocessing\\label.py:151: DeprecationWarning: The truth value of an empty array is ambiguous. Returning False, but in future this will result in an error. Use `array.size > 0` to check that an array is not empty.\n",
      "  if diff:\n",
      "E:\\Anaconda3\\lib\\site-packages\\sklearn\\preprocessing\\label.py:151: DeprecationWarning: The truth value of an empty array is ambiguous. Returning False, but in future this will result in an error. Use `array.size > 0` to check that an array is not empty.\n",
      "  if diff:\n",
      "E:\\Anaconda3\\lib\\site-packages\\sklearn\\preprocessing\\label.py:151: DeprecationWarning: The truth value of an empty array is ambiguous. Returning False, but in future this will result in an error. Use `array.size > 0` to check that an array is not empty.\n",
      "  if diff:\n"
     ]
    }
   ],
   "source": [
    "guess_param2['Guess_param2_top1'] = le.inverse_transform(guess_param2['Guess_param2_top1'])\n",
    "guess_param2['Guess_param2_top2'] = le.inverse_transform(guess_param2['Guess_param2_top2'])\n",
    "guess_param2['Guess_param2_top3'] = le.inverse_transform(guess_param2['Guess_param2_top3'])"
   ]
  },
  {
   "cell_type": "code",
   "execution_count": 35,
   "metadata": {},
   "outputs": [],
   "source": [
    "guess_param2.to_csv(DATA_PATH+'param2_guess.csv',index=False)"
   ]
  },
  {
   "cell_type": "code",
   "execution_count": 36,
   "metadata": {},
   "outputs": [
    {
     "data": {
      "text/plain": [
       "277"
      ]
     },
     "execution_count": 36,
     "metadata": {},
     "output_type": "execute_result"
    }
   ],
   "source": [
    "len(le.classes_)"
   ]
  },
  {
   "cell_type": "code",
   "execution_count": 37,
   "metadata": {},
   "outputs": [],
   "source": [
    "guess_param2['real_param_2']=complete_data['param_2']"
   ]
  },
  {
   "cell_type": "code",
   "execution_count": 38,
   "metadata": {},
   "outputs": [
    {
     "data": {
      "text/html": [
       "<div>\n",
       "<style scoped>\n",
       "    .dataframe tbody tr th:only-of-type {\n",
       "        vertical-align: middle;\n",
       "    }\n",
       "\n",
       "    .dataframe tbody tr th {\n",
       "        vertical-align: top;\n",
       "    }\n",
       "\n",
       "    .dataframe thead th {\n",
       "        text-align: right;\n",
       "    }\n",
       "</style>\n",
       "<table border=\"1\" class=\"dataframe\">\n",
       "  <thead>\n",
       "    <tr style=\"text-align: right;\">\n",
       "      <th></th>\n",
       "      <th>item_id</th>\n",
       "      <th>Prob_param2_top1</th>\n",
       "      <th>Guess_param2_top1</th>\n",
       "      <th>Guess_param2_top2</th>\n",
       "      <th>Guess_param2_top3</th>\n",
       "      <th>real_param_2</th>\n",
       "    </tr>\n",
       "  </thead>\n",
       "  <tbody>\n",
       "    <tr>\n",
       "      <th>0</th>\n",
       "      <td>b912c3c6a6ad</td>\n",
       "      <td>0.639570</td>\n",
       "      <td>Другое</td>\n",
       "      <td>Трикотаж</td>\n",
       "      <td>Верхняя одежда</td>\n",
       "      <td>NaN</td>\n",
       "    </tr>\n",
       "    <tr>\n",
       "      <th>1</th>\n",
       "      <td>2dac0150717d</td>\n",
       "      <td>0.337309</td>\n",
       "      <td>Мелкая кухонная техника</td>\n",
       "      <td>Швейные машины</td>\n",
       "      <td>Другое</td>\n",
       "      <td>NaN</td>\n",
       "    </tr>\n",
       "    <tr>\n",
       "      <th>2</th>\n",
       "      <td>ba83aefab5dc</td>\n",
       "      <td>0.275816</td>\n",
       "      <td>Гарнитуры и наушники</td>\n",
       "      <td>Чехлы и плёнки</td>\n",
       "      <td>Кабели и адаптеры</td>\n",
       "      <td>NaN</td>\n",
       "    </tr>\n",
       "    <tr>\n",
       "      <th>3</th>\n",
       "      <td>02996f1dd2ea</td>\n",
       "      <td>0.346080</td>\n",
       "      <td>Другое</td>\n",
       "      <td>Обувь</td>\n",
       "      <td>Верхняя одежда</td>\n",
       "      <td>NaN</td>\n",
       "    </tr>\n",
       "    <tr>\n",
       "      <th>4</th>\n",
       "      <td>7c90be56d2ab</td>\n",
       "      <td>1.000000</td>\n",
       "      <td>ВАЗ (LADA)</td>\n",
       "      <td>УАЗ</td>\n",
       "      <td>ЗАЗ</td>\n",
       "      <td>ВАЗ (LADA)</td>\n",
       "    </tr>\n",
       "    <tr>\n",
       "      <th>5</th>\n",
       "      <td>51e0962387f7</td>\n",
       "      <td>0.844751</td>\n",
       "      <td>Обувь</td>\n",
       "      <td>Другое</td>\n",
       "      <td>Верхняя одежда</td>\n",
       "      <td>NaN</td>\n",
       "    </tr>\n",
       "    <tr>\n",
       "      <th>6</th>\n",
       "      <td>c4f260a2b48a</td>\n",
       "      <td>0.559704</td>\n",
       "      <td>Обогреватели</td>\n",
       "      <td>Кондиционеры</td>\n",
       "      <td>Вентиляторы</td>\n",
       "      <td>NaN</td>\n",
       "    </tr>\n",
       "    <tr>\n",
       "      <th>7</th>\n",
       "      <td>6b71309d6a8a</td>\n",
       "      <td>0.929585</td>\n",
       "      <td>Джинсы</td>\n",
       "      <td>Брюки</td>\n",
       "      <td>Другое</td>\n",
       "      <td>Джинсы</td>\n",
       "    </tr>\n",
       "    <tr>\n",
       "      <th>8</th>\n",
       "      <td>c5b969cb63a2</td>\n",
       "      <td>0.980456</td>\n",
       "      <td>Платья и юбки</td>\n",
       "      <td>Другое</td>\n",
       "      <td>Свадебные платья</td>\n",
       "      <td>Платья и юбки</td>\n",
       "    </tr>\n",
       "    <tr>\n",
       "      <th>9</th>\n",
       "      <td>b1570962e68c</td>\n",
       "      <td>0.998524</td>\n",
       "      <td>Обувь</td>\n",
       "      <td>Другое</td>\n",
       "      <td>Верхняя одежда</td>\n",
       "      <td>Обувь</td>\n",
       "    </tr>\n",
       "    <tr>\n",
       "      <th>10</th>\n",
       "      <td>d5480bb4a6e4</td>\n",
       "      <td>0.999996</td>\n",
       "      <td>На длительный срок</td>\n",
       "      <td>1</td>\n",
       "      <td>Посуточно</td>\n",
       "      <td>На длительный срок</td>\n",
       "    </tr>\n",
       "    <tr>\n",
       "      <th>11</th>\n",
       "      <td>86f41f50d8c1</td>\n",
       "      <td>0.911005</td>\n",
       "      <td>Джинсы</td>\n",
       "      <td>Брюки</td>\n",
       "      <td>Другое</td>\n",
       "      <td>Джинсы</td>\n",
       "    </tr>\n",
       "    <tr>\n",
       "      <th>12</th>\n",
       "      <td>645237cb3601</td>\n",
       "      <td>0.632108</td>\n",
       "      <td>Верхняя одежда</td>\n",
       "      <td>Другое</td>\n",
       "      <td>Трикотаж</td>\n",
       "      <td>NaN</td>\n",
       "    </tr>\n",
       "    <tr>\n",
       "      <th>13</th>\n",
       "      <td>df2116f34563</td>\n",
       "      <td>0.310026</td>\n",
       "      <td>Блоки питания</td>\n",
       "      <td>Процессоры</td>\n",
       "      <td>Контроллеры</td>\n",
       "      <td>NaN</td>\n",
       "    </tr>\n",
       "    <tr>\n",
       "      <th>14</th>\n",
       "      <td>a97943ae8158</td>\n",
       "      <td>0.372336</td>\n",
       "      <td>Обувь</td>\n",
       "      <td>Другое</td>\n",
       "      <td>Верхняя одежда</td>\n",
       "      <td>NaN</td>\n",
       "    </tr>\n",
       "    <tr>\n",
       "      <th>15</th>\n",
       "      <td>4b6abd0a5921</td>\n",
       "      <td>0.990383</td>\n",
       "      <td>Платья и юбки</td>\n",
       "      <td>Другое</td>\n",
       "      <td>Свадебные платья</td>\n",
       "      <td>Платья и юбки</td>\n",
       "    </tr>\n",
       "    <tr>\n",
       "      <th>16</th>\n",
       "      <td>7896ef8fe482</td>\n",
       "      <td>1.000000</td>\n",
       "      <td>Chevrolet</td>\n",
       "      <td>Vortex</td>\n",
       "      <td>BYD</td>\n",
       "      <td>Chevrolet</td>\n",
       "    </tr>\n",
       "    <tr>\n",
       "      <th>17</th>\n",
       "      <td>7882b1e77748</td>\n",
       "      <td>0.752277</td>\n",
       "      <td>Другое</td>\n",
       "      <td>Обувь</td>\n",
       "      <td>Платья и юбки</td>\n",
       "      <td>NaN</td>\n",
       "    </tr>\n",
       "    <tr>\n",
       "      <th>18</th>\n",
       "      <td>071e1ed13c5c</td>\n",
       "      <td>0.998798</td>\n",
       "      <td>Верхняя одежда</td>\n",
       "      <td>Другое</td>\n",
       "      <td>Пиджаки и костюмы</td>\n",
       "      <td>Верхняя одежда</td>\n",
       "    </tr>\n",
       "    <tr>\n",
       "      <th>19</th>\n",
       "      <td>0658628930d4</td>\n",
       "      <td>0.998014</td>\n",
       "      <td>Коттедж</td>\n",
       "      <td>Дом</td>\n",
       "      <td>Таунхаус</td>\n",
       "      <td>Коттедж</td>\n",
       "    </tr>\n",
       "    <tr>\n",
       "      <th>20</th>\n",
       "      <td>ea12aec32ec3</td>\n",
       "      <td>0.999502</td>\n",
       "      <td>2</td>\n",
       "      <td>На длительный срок</td>\n",
       "      <td>3</td>\n",
       "      <td>2</td>\n",
       "    </tr>\n",
       "    <tr>\n",
       "      <th>21</th>\n",
       "      <td>838a82cec0a6</td>\n",
       "      <td>0.660280</td>\n",
       "      <td>Другое</td>\n",
       "      <td>Верхняя одежда</td>\n",
       "      <td>Трикотаж</td>\n",
       "      <td>Верхняя одежда</td>\n",
       "    </tr>\n",
       "    <tr>\n",
       "      <th>22</th>\n",
       "      <td>de310e6aae86</td>\n",
       "      <td>1.000000</td>\n",
       "      <td>Ford</td>\n",
       "      <td>Lexus</td>\n",
       "      <td>Hyundai</td>\n",
       "      <td>Ford</td>\n",
       "    </tr>\n",
       "    <tr>\n",
       "      <th>23</th>\n",
       "      <td>08b24e170109</td>\n",
       "      <td>0.998564</td>\n",
       "      <td>Обувь</td>\n",
       "      <td>Другое</td>\n",
       "      <td>Верхняя одежда</td>\n",
       "      <td>Обувь</td>\n",
       "    </tr>\n",
       "    <tr>\n",
       "      <th>24</th>\n",
       "      <td>065a4daba35f</td>\n",
       "      <td>0.603466</td>\n",
       "      <td>Другое</td>\n",
       "      <td>Верхняя одежда</td>\n",
       "      <td>Трикотаж</td>\n",
       "      <td>NaN</td>\n",
       "    </tr>\n",
       "    <tr>\n",
       "      <th>25</th>\n",
       "      <td>990113ae4f1c</td>\n",
       "      <td>0.555645</td>\n",
       "      <td>Другое</td>\n",
       "      <td>Платья и юбки</td>\n",
       "      <td>Обувь</td>\n",
       "      <td>NaN</td>\n",
       "    </tr>\n",
       "    <tr>\n",
       "      <th>26</th>\n",
       "      <td>78164bc09657</td>\n",
       "      <td>0.352201</td>\n",
       "      <td>Мелкая кухонная техника</td>\n",
       "      <td>Швейные машины</td>\n",
       "      <td>Бритвы и триммеры</td>\n",
       "      <td>NaN</td>\n",
       "    </tr>\n",
       "    <tr>\n",
       "      <th>27</th>\n",
       "      <td>fbe29970a8a5</td>\n",
       "      <td>0.993919</td>\n",
       "      <td>Обувь</td>\n",
       "      <td>Другое</td>\n",
       "      <td>Верхняя одежда</td>\n",
       "      <td>Обувь</td>\n",
       "    </tr>\n",
       "    <tr>\n",
       "      <th>28</th>\n",
       "      <td>71d9399b59a2</td>\n",
       "      <td>0.961618</td>\n",
       "      <td>Платья и юбки</td>\n",
       "      <td>Другое</td>\n",
       "      <td>Свадебные платья</td>\n",
       "      <td>Платья и юбки</td>\n",
       "    </tr>\n",
       "    <tr>\n",
       "      <th>29</th>\n",
       "      <td>4941f0385575</td>\n",
       "      <td>0.802262</td>\n",
       "      <td>Комбинезоны и боди</td>\n",
       "      <td>Трикотаж</td>\n",
       "      <td>Верхняя одежда</td>\n",
       "      <td>Другое</td>\n",
       "    </tr>\n",
       "    <tr>\n",
       "      <th>...</th>\n",
       "      <td>...</td>\n",
       "      <td>...</td>\n",
       "      <td>...</td>\n",
       "      <td>...</td>\n",
       "      <td>...</td>\n",
       "      <td>...</td>\n",
       "    </tr>\n",
       "    <tr>\n",
       "      <th>2011832</th>\n",
       "      <td>df8001ca5897</td>\n",
       "      <td>0.416160</td>\n",
       "      <td>Мелкая кухонная техника</td>\n",
       "      <td>Термометры и метеостанции</td>\n",
       "      <td>Холодильники и морозильные камеры</td>\n",
       "      <td>NaN</td>\n",
       "    </tr>\n",
       "    <tr>\n",
       "      <th>2011833</th>\n",
       "      <td>0455281c86fb</td>\n",
       "      <td>0.161743</td>\n",
       "      <td>Консультирование</td>\n",
       "      <td>Другое</td>\n",
       "      <td>СПА-услуги, здоровье</td>\n",
       "      <td>NaN</td>\n",
       "    </tr>\n",
       "    <tr>\n",
       "      <th>2011834</th>\n",
       "      <td>482d3253c9f1</td>\n",
       "      <td>0.496033</td>\n",
       "      <td>Обувь</td>\n",
       "      <td>Другое</td>\n",
       "      <td>Верхняя одежда</td>\n",
       "      <td>NaN</td>\n",
       "    </tr>\n",
       "    <tr>\n",
       "      <th>2011835</th>\n",
       "      <td>9278e7c14cd0</td>\n",
       "      <td>0.988080</td>\n",
       "      <td>Платья и юбки</td>\n",
       "      <td>Другое</td>\n",
       "      <td>Свадебные платья</td>\n",
       "      <td>Платья и юбки</td>\n",
       "    </tr>\n",
       "    <tr>\n",
       "      <th>2011836</th>\n",
       "      <td>9041d0340b49</td>\n",
       "      <td>0.905877</td>\n",
       "      <td>Верхняя одежда</td>\n",
       "      <td>Трикотаж</td>\n",
       "      <td>Другое</td>\n",
       "      <td>Верхняя одежда</td>\n",
       "    </tr>\n",
       "    <tr>\n",
       "      <th>2011837</th>\n",
       "      <td>872c382ce446</td>\n",
       "      <td>0.998485</td>\n",
       "      <td>Обувь</td>\n",
       "      <td>Другое</td>\n",
       "      <td>Верхняя одежда</td>\n",
       "      <td>Обувь</td>\n",
       "    </tr>\n",
       "    <tr>\n",
       "      <th>2011838</th>\n",
       "      <td>67448ad8941c</td>\n",
       "      <td>0.981414</td>\n",
       "      <td>Пошив и ремонт одежды</td>\n",
       "      <td>Ювелирные услуги</td>\n",
       "      <td>Сборка и ремонт мебели</td>\n",
       "      <td>Пошив и ремонт одежды</td>\n",
       "    </tr>\n",
       "    <tr>\n",
       "      <th>2011839</th>\n",
       "      <td>6ffaf4c20469</td>\n",
       "      <td>0.683923</td>\n",
       "      <td>Другое</td>\n",
       "      <td>Верхняя одежда</td>\n",
       "      <td>Комбинезоны и боди</td>\n",
       "      <td>NaN</td>\n",
       "    </tr>\n",
       "    <tr>\n",
       "      <th>2011840</th>\n",
       "      <td>acc46dbda733</td>\n",
       "      <td>0.803415</td>\n",
       "      <td>Другое</td>\n",
       "      <td>Обувь</td>\n",
       "      <td>Верхняя одежда</td>\n",
       "      <td>NaN</td>\n",
       "    </tr>\n",
       "    <tr>\n",
       "      <th>2011841</th>\n",
       "      <td>eb33cd6dac70</td>\n",
       "      <td>0.999005</td>\n",
       "      <td>Обувь</td>\n",
       "      <td>Другое</td>\n",
       "      <td>Верхняя одежда</td>\n",
       "      <td>Обувь</td>\n",
       "    </tr>\n",
       "    <tr>\n",
       "      <th>2011842</th>\n",
       "      <td>f9db673cb425</td>\n",
       "      <td>0.985972</td>\n",
       "      <td>Платья и юбки</td>\n",
       "      <td>Другое</td>\n",
       "      <td>Свадебные платья</td>\n",
       "      <td>Платья и юбки</td>\n",
       "    </tr>\n",
       "    <tr>\n",
       "      <th>2011843</th>\n",
       "      <td>32727c2ed7e5</td>\n",
       "      <td>0.771240</td>\n",
       "      <td>Обувь</td>\n",
       "      <td>Другое</td>\n",
       "      <td>Верхняя одежда</td>\n",
       "      <td>NaN</td>\n",
       "    </tr>\n",
       "    <tr>\n",
       "      <th>2011844</th>\n",
       "      <td>2e6f289d2676</td>\n",
       "      <td>0.962617</td>\n",
       "      <td>Платья и юбки</td>\n",
       "      <td>Свадебные платья</td>\n",
       "      <td>Другое</td>\n",
       "      <td>Платья и юбки</td>\n",
       "    </tr>\n",
       "    <tr>\n",
       "      <th>2011845</th>\n",
       "      <td>58fa2c39f791</td>\n",
       "      <td>0.346890</td>\n",
       "      <td>Корпусы</td>\n",
       "      <td>Запчасти</td>\n",
       "      <td>Материнские платы</td>\n",
       "      <td>NaN</td>\n",
       "    </tr>\n",
       "    <tr>\n",
       "      <th>2011846</th>\n",
       "      <td>0e1a370c12c7</td>\n",
       "      <td>0.998002</td>\n",
       "      <td>Обувь</td>\n",
       "      <td>Другое</td>\n",
       "      <td>Верхняя одежда</td>\n",
       "      <td>Обувь</td>\n",
       "    </tr>\n",
       "    <tr>\n",
       "      <th>2011847</th>\n",
       "      <td>cc4f7fd3d2f2</td>\n",
       "      <td>0.456636</td>\n",
       "      <td>Плиты</td>\n",
       "      <td>Обогреватели</td>\n",
       "      <td>Строительство домов, коттеджей</td>\n",
       "      <td>NaN</td>\n",
       "    </tr>\n",
       "    <tr>\n",
       "      <th>2011848</th>\n",
       "      <td>29a342aa8508</td>\n",
       "      <td>0.320266</td>\n",
       "      <td>Обогреватели</td>\n",
       "      <td>Кондиционеры</td>\n",
       "      <td>Термометры и метеостанции</td>\n",
       "      <td>NaN</td>\n",
       "    </tr>\n",
       "    <tr>\n",
       "      <th>2011849</th>\n",
       "      <td>fce6b0de65f8</td>\n",
       "      <td>0.983446</td>\n",
       "      <td>Верхняя одежда</td>\n",
       "      <td>Другое</td>\n",
       "      <td>Пиджаки и костюмы</td>\n",
       "      <td>Верхняя одежда</td>\n",
       "    </tr>\n",
       "    <tr>\n",
       "      <th>2011850</th>\n",
       "      <td>dae17c1850b0</td>\n",
       "      <td>0.978637</td>\n",
       "      <td>На длительный срок</td>\n",
       "      <td>Посуточно</td>\n",
       "      <td>2</td>\n",
       "      <td>На длительный срок</td>\n",
       "    </tr>\n",
       "    <tr>\n",
       "      <th>2011851</th>\n",
       "      <td>549b1c9354e3</td>\n",
       "      <td>0.995903</td>\n",
       "      <td>Обувь</td>\n",
       "      <td>Другое</td>\n",
       "      <td>Верхняя одежда</td>\n",
       "      <td>Обувь</td>\n",
       "    </tr>\n",
       "    <tr>\n",
       "      <th>2011852</th>\n",
       "      <td>0915772bb21c</td>\n",
       "      <td>0.255287</td>\n",
       "      <td>Рубашки и блузки</td>\n",
       "      <td>Трикотаж</td>\n",
       "      <td>Платья и юбки</td>\n",
       "      <td>Рубашки и блузки</td>\n",
       "    </tr>\n",
       "    <tr>\n",
       "      <th>2011853</th>\n",
       "      <td>d8984ced6639</td>\n",
       "      <td>0.999988</td>\n",
       "      <td>На длительный срок</td>\n",
       "      <td>1</td>\n",
       "      <td>Посуточно</td>\n",
       "      <td>На длительный срок</td>\n",
       "    </tr>\n",
       "    <tr>\n",
       "      <th>2011854</th>\n",
       "      <td>e7c68be28a03</td>\n",
       "      <td>0.624659</td>\n",
       "      <td>Свадебные платья</td>\n",
       "      <td>Другое</td>\n",
       "      <td>Платья и юбки</td>\n",
       "      <td>NaN</td>\n",
       "    </tr>\n",
       "    <tr>\n",
       "      <th>2011855</th>\n",
       "      <td>a96a4c5ad75a</td>\n",
       "      <td>0.987321</td>\n",
       "      <td>Платья и юбки</td>\n",
       "      <td>Другое</td>\n",
       "      <td>Свадебные платья</td>\n",
       "      <td>Платья и юбки</td>\n",
       "    </tr>\n",
       "    <tr>\n",
       "      <th>2011856</th>\n",
       "      <td>fdcd9910edf3</td>\n",
       "      <td>1.000000</td>\n",
       "      <td>Chevrolet</td>\n",
       "      <td>Vortex</td>\n",
       "      <td>BYD</td>\n",
       "      <td>Chevrolet</td>\n",
       "    </tr>\n",
       "    <tr>\n",
       "      <th>2011857</th>\n",
       "      <td>9f2200aed300</td>\n",
       "      <td>0.598765</td>\n",
       "      <td>Запчасти</td>\n",
       "      <td>Чехлы и плёнки</td>\n",
       "      <td>Аккумуляторы</td>\n",
       "      <td>NaN</td>\n",
       "    </tr>\n",
       "    <tr>\n",
       "      <th>2011858</th>\n",
       "      <td>70813f518de4</td>\n",
       "      <td>0.207543</td>\n",
       "      <td>Другое</td>\n",
       "      <td>Корпусы</td>\n",
       "      <td>Жёсткие диски</td>\n",
       "      <td>NaN</td>\n",
       "    </tr>\n",
       "    <tr>\n",
       "      <th>2011859</th>\n",
       "      <td>a22a2eeb5dd2</td>\n",
       "      <td>0.987690</td>\n",
       "      <td>Платья и юбки</td>\n",
       "      <td>Другое</td>\n",
       "      <td>Трикотаж</td>\n",
       "      <td>Платья и юбки</td>\n",
       "    </tr>\n",
       "    <tr>\n",
       "      <th>2011860</th>\n",
       "      <td>ed7fbb0733c1</td>\n",
       "      <td>0.661815</td>\n",
       "      <td>Крупная бытовая техника</td>\n",
       "      <td>Монтаж и обслуживание оборудования</td>\n",
       "      <td>Мелкая бытовая техника</td>\n",
       "      <td>Монтаж и обслуживание оборудования</td>\n",
       "    </tr>\n",
       "    <tr>\n",
       "      <th>2011861</th>\n",
       "      <td>d374d332992f</td>\n",
       "      <td>0.513923</td>\n",
       "      <td>Швейные машины</td>\n",
       "      <td>Стиральные машины</td>\n",
       "      <td>Обогреватели</td>\n",
       "      <td>NaN</td>\n",
       "    </tr>\n",
       "  </tbody>\n",
       "</table>\n",
       "<p>2011862 rows × 6 columns</p>\n",
       "</div>"
      ],
      "text/plain": [
       "              item_id  Prob_param2_top1        Guess_param2_top1  \\\n",
       "0        b912c3c6a6ad          0.639570                   Другое   \n",
       "1        2dac0150717d          0.337309  Мелкая кухонная техника   \n",
       "2        ba83aefab5dc          0.275816     Гарнитуры и наушники   \n",
       "3        02996f1dd2ea          0.346080                   Другое   \n",
       "4        7c90be56d2ab          1.000000               ВАЗ (LADA)   \n",
       "5        51e0962387f7          0.844751                    Обувь   \n",
       "6        c4f260a2b48a          0.559704             Обогреватели   \n",
       "7        6b71309d6a8a          0.929585                   Джинсы   \n",
       "8        c5b969cb63a2          0.980456            Платья и юбки   \n",
       "9        b1570962e68c          0.998524                    Обувь   \n",
       "10       d5480bb4a6e4          0.999996       На длительный срок   \n",
       "11       86f41f50d8c1          0.911005                   Джинсы   \n",
       "12       645237cb3601          0.632108           Верхняя одежда   \n",
       "13       df2116f34563          0.310026            Блоки питания   \n",
       "14       a97943ae8158          0.372336                    Обувь   \n",
       "15       4b6abd0a5921          0.990383            Платья и юбки   \n",
       "16       7896ef8fe482          1.000000                Chevrolet   \n",
       "17       7882b1e77748          0.752277                   Другое   \n",
       "18       071e1ed13c5c          0.998798           Верхняя одежда   \n",
       "19       0658628930d4          0.998014                  Коттедж   \n",
       "20       ea12aec32ec3          0.999502                        2   \n",
       "21       838a82cec0a6          0.660280                   Другое   \n",
       "22       de310e6aae86          1.000000                     Ford   \n",
       "23       08b24e170109          0.998564                    Обувь   \n",
       "24       065a4daba35f          0.603466                   Другое   \n",
       "25       990113ae4f1c          0.555645                   Другое   \n",
       "26       78164bc09657          0.352201  Мелкая кухонная техника   \n",
       "27       fbe29970a8a5          0.993919                    Обувь   \n",
       "28       71d9399b59a2          0.961618            Платья и юбки   \n",
       "29       4941f0385575          0.802262       Комбинезоны и боди   \n",
       "...               ...               ...                      ...   \n",
       "2011832  df8001ca5897          0.416160  Мелкая кухонная техника   \n",
       "2011833  0455281c86fb          0.161743         Консультирование   \n",
       "2011834  482d3253c9f1          0.496033                    Обувь   \n",
       "2011835  9278e7c14cd0          0.988080            Платья и юбки   \n",
       "2011836  9041d0340b49          0.905877           Верхняя одежда   \n",
       "2011837  872c382ce446          0.998485                    Обувь   \n",
       "2011838  67448ad8941c          0.981414    Пошив и ремонт одежды   \n",
       "2011839  6ffaf4c20469          0.683923                   Другое   \n",
       "2011840  acc46dbda733          0.803415                   Другое   \n",
       "2011841  eb33cd6dac70          0.999005                    Обувь   \n",
       "2011842  f9db673cb425          0.985972            Платья и юбки   \n",
       "2011843  32727c2ed7e5          0.771240                    Обувь   \n",
       "2011844  2e6f289d2676          0.962617            Платья и юбки   \n",
       "2011845  58fa2c39f791          0.346890                  Корпусы   \n",
       "2011846  0e1a370c12c7          0.998002                    Обувь   \n",
       "2011847  cc4f7fd3d2f2          0.456636                    Плиты   \n",
       "2011848  29a342aa8508          0.320266             Обогреватели   \n",
       "2011849  fce6b0de65f8          0.983446           Верхняя одежда   \n",
       "2011850  dae17c1850b0          0.978637       На длительный срок   \n",
       "2011851  549b1c9354e3          0.995903                    Обувь   \n",
       "2011852  0915772bb21c          0.255287         Рубашки и блузки   \n",
       "2011853  d8984ced6639          0.999988       На длительный срок   \n",
       "2011854  e7c68be28a03          0.624659         Свадебные платья   \n",
       "2011855  a96a4c5ad75a          0.987321            Платья и юбки   \n",
       "2011856  fdcd9910edf3          1.000000                Chevrolet   \n",
       "2011857  9f2200aed300          0.598765                 Запчасти   \n",
       "2011858  70813f518de4          0.207543                   Другое   \n",
       "2011859  a22a2eeb5dd2          0.987690            Платья и юбки   \n",
       "2011860  ed7fbb0733c1          0.661815  Крупная бытовая техника   \n",
       "2011861  d374d332992f          0.513923           Швейные машины   \n",
       "\n",
       "                          Guess_param2_top2  \\\n",
       "0                                  Трикотаж   \n",
       "1                            Швейные машины   \n",
       "2                            Чехлы и плёнки   \n",
       "3                                     Обувь   \n",
       "4                                       УАЗ   \n",
       "5                                    Другое   \n",
       "6                              Кондиционеры   \n",
       "7                                     Брюки   \n",
       "8                                    Другое   \n",
       "9                                    Другое   \n",
       "10                                        1   \n",
       "11                                    Брюки   \n",
       "12                                   Другое   \n",
       "13                               Процессоры   \n",
       "14                                   Другое   \n",
       "15                                   Другое   \n",
       "16                                   Vortex   \n",
       "17                                    Обувь   \n",
       "18                                   Другое   \n",
       "19                                      Дом   \n",
       "20                       На длительный срок   \n",
       "21                           Верхняя одежда   \n",
       "22                                    Lexus   \n",
       "23                                   Другое   \n",
       "24                           Верхняя одежда   \n",
       "25                            Платья и юбки   \n",
       "26                           Швейные машины   \n",
       "27                                   Другое   \n",
       "28                                   Другое   \n",
       "29                                 Трикотаж   \n",
       "...                                     ...   \n",
       "2011832           Термометры и метеостанции   \n",
       "2011833                              Другое   \n",
       "2011834                              Другое   \n",
       "2011835                              Другое   \n",
       "2011836                            Трикотаж   \n",
       "2011837                              Другое   \n",
       "2011838                    Ювелирные услуги   \n",
       "2011839                      Верхняя одежда   \n",
       "2011840                               Обувь   \n",
       "2011841                              Другое   \n",
       "2011842                              Другое   \n",
       "2011843                              Другое   \n",
       "2011844                    Свадебные платья   \n",
       "2011845                            Запчасти   \n",
       "2011846                              Другое   \n",
       "2011847                        Обогреватели   \n",
       "2011848                        Кондиционеры   \n",
       "2011849                              Другое   \n",
       "2011850                           Посуточно   \n",
       "2011851                              Другое   \n",
       "2011852                            Трикотаж   \n",
       "2011853                                   1   \n",
       "2011854                              Другое   \n",
       "2011855                              Другое   \n",
       "2011856                              Vortex   \n",
       "2011857                      Чехлы и плёнки   \n",
       "2011858                             Корпусы   \n",
       "2011859                              Другое   \n",
       "2011860  Монтаж и обслуживание оборудования   \n",
       "2011861                   Стиральные машины   \n",
       "\n",
       "                         Guess_param2_top3                        real_param_2  \n",
       "0                           Верхняя одежда                                 NaN  \n",
       "1                                   Другое                                 NaN  \n",
       "2                        Кабели и адаптеры                                 NaN  \n",
       "3                           Верхняя одежда                                 NaN  \n",
       "4                                      ЗАЗ                          ВАЗ (LADA)  \n",
       "5                           Верхняя одежда                                 NaN  \n",
       "6                              Вентиляторы                                 NaN  \n",
       "7                                   Другое                              Джинсы  \n",
       "8                         Свадебные платья                       Платья и юбки  \n",
       "9                           Верхняя одежда                               Обувь  \n",
       "10                               Посуточно                  На длительный срок  \n",
       "11                                  Другое                              Джинсы  \n",
       "12                                Трикотаж                                 NaN  \n",
       "13                             Контроллеры                                 NaN  \n",
       "14                          Верхняя одежда                                 NaN  \n",
       "15                        Свадебные платья                       Платья и юбки  \n",
       "16                                     BYD                           Chevrolet  \n",
       "17                           Платья и юбки                                 NaN  \n",
       "18                       Пиджаки и костюмы                      Верхняя одежда  \n",
       "19                                Таунхаус                             Коттедж  \n",
       "20                                       3                                   2  \n",
       "21                                Трикотаж                      Верхняя одежда  \n",
       "22                                 Hyundai                                Ford  \n",
       "23                          Верхняя одежда                               Обувь  \n",
       "24                                Трикотаж                                 NaN  \n",
       "25                                   Обувь                                 NaN  \n",
       "26                       Бритвы и триммеры                                 NaN  \n",
       "27                          Верхняя одежда                               Обувь  \n",
       "28                        Свадебные платья                       Платья и юбки  \n",
       "29                          Верхняя одежда                              Другое  \n",
       "...                                    ...                                 ...  \n",
       "2011832  Холодильники и морозильные камеры                                 NaN  \n",
       "2011833               СПА-услуги, здоровье                                 NaN  \n",
       "2011834                     Верхняя одежда                                 NaN  \n",
       "2011835                   Свадебные платья                       Платья и юбки  \n",
       "2011836                             Другое                      Верхняя одежда  \n",
       "2011837                     Верхняя одежда                               Обувь  \n",
       "2011838             Сборка и ремонт мебели               Пошив и ремонт одежды  \n",
       "2011839                 Комбинезоны и боди                                 NaN  \n",
       "2011840                     Верхняя одежда                                 NaN  \n",
       "2011841                     Верхняя одежда                               Обувь  \n",
       "2011842                   Свадебные платья                       Платья и юбки  \n",
       "2011843                     Верхняя одежда                                 NaN  \n",
       "2011844                             Другое                       Платья и юбки  \n",
       "2011845                  Материнские платы                                 NaN  \n",
       "2011846                     Верхняя одежда                               Обувь  \n",
       "2011847     Строительство домов, коттеджей                                 NaN  \n",
       "2011848          Термометры и метеостанции                                 NaN  \n",
       "2011849                  Пиджаки и костюмы                      Верхняя одежда  \n",
       "2011850                                  2                  На длительный срок  \n",
       "2011851                     Верхняя одежда                               Обувь  \n",
       "2011852                      Платья и юбки                    Рубашки и блузки  \n",
       "2011853                          Посуточно                  На длительный срок  \n",
       "2011854                      Платья и юбки                                 NaN  \n",
       "2011855                   Свадебные платья                       Платья и юбки  \n",
       "2011856                                BYD                           Chevrolet  \n",
       "2011857                       Аккумуляторы                                 NaN  \n",
       "2011858                      Жёсткие диски                                 NaN  \n",
       "2011859                           Трикотаж                       Платья и юбки  \n",
       "2011860             Мелкая бытовая техника  Монтаж и обслуживание оборудования  \n",
       "2011861                       Обогреватели                                 NaN  \n",
       "\n",
       "[2011862 rows x 6 columns]"
      ]
     },
     "execution_count": 38,
     "metadata": {},
     "output_type": "execute_result"
    }
   ],
   "source": [
    "guess_param2"
   ]
  },
  {
   "cell_type": "code",
   "execution_count": null,
   "metadata": {},
   "outputs": [],
   "source": []
  }
 ],
 "metadata": {
  "kernelspec": {
   "display_name": "Python 3",
   "language": "python",
   "name": "python3"
  },
  "language_info": {
   "codemirror_mode": {
    "name": "ipython",
    "version": 3
   },
   "file_extension": ".py",
   "mimetype": "text/x-python",
   "name": "python",
   "nbconvert_exporter": "python",
   "pygments_lexer": "ipython3",
   "version": "3.6.5"
  }
 },
 "nbformat": 4,
 "nbformat_minor": 2
}
