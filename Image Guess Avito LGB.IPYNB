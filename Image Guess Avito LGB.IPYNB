{
 "cells": [
  {
   "cell_type": "markdown",
   "metadata": {},
   "source": [
    "Base : 0.2228"
   ]
  },
  {
   "cell_type": "code",
   "execution_count": 1,
   "metadata": {},
   "outputs": [],
   "source": [
    "import pandas as pd\n",
    "import numpy as np\n",
    "from scipy.sparse import hstack, csr_matrix\n",
    "import re\n",
    "import string\n",
    "from time import time\n",
    "import gc\n",
    "pd.options.display.max_columns = 999\n",
    "\n",
    "import lightgbm as lgb\n",
    "from sklearn.model_selection import train_test_split, KFold, ShuffleSplit\n",
    "from sklearn.preprocessing import LabelEncoder\n",
    "from sklearn.metrics import mean_squared_error\n",
    "\n",
    "from sklearn.feature_extraction.text import CountVectorizer, TfidfVectorizer\n",
    "from nltk.corpus import stopwords\n",
    "from nltk.stem.snowball import RussianStemmer\n",
    "from sklearn.decomposition import TruncatedSVD\n",
    "\n",
    "import seaborn as sns\n",
    "import matplotlib.pyplot as plt\n",
    "plt.style.use('dark_background')"
   ]
  },
  {
   "cell_type": "code",
   "execution_count": 2,
   "metadata": {},
   "outputs": [],
   "source": [
    "def downcast_dtypes(df):\n",
    "    '''\n",
    "        Changes column types in the dataframe: \n",
    "                \n",
    "        `float64` type to `float32`\n",
    "        `int64`   type to `int32`\n",
    "    '''\n",
    "    \n",
    "    # Select columns to downcast\n",
    "    float_cols = [c for c in df if df[c].dtype == \"float64\"]\n",
    "    int_cols =   [c for c in df if df[c].dtype == \"int64\"]\n",
    "    \n",
    "    # Downcast\n",
    "    df[float_cols] = df[float_cols].astype(np.float32)\n",
    "    df[int_cols]   = df[int_cols].astype(np.int32)\n",
    "    \n",
    "    return df"
   ]
  },
  {
   "cell_type": "markdown",
   "metadata": {},
   "source": [
    "## Parameters"
   ]
  },
  {
   "cell_type": "code",
   "execution_count": 3,
   "metadata": {},
   "outputs": [],
   "source": [
    "DATA_PATH = ''\n",
    "DATA_PATH = 'E:/Kaggle/Avito/'\n",
    "DATA_IMAGE_PATH = DATA_PATH + 'images//'"
   ]
  },
  {
   "cell_type": "code",
   "execution_count": 4,
   "metadata": {},
   "outputs": [],
   "source": [
    "seed = 32\n",
    "VALID = False #Whether or not the notebook should run a validation\n",
    "n_components_title = 25 #best between 20 and 30\n",
    "colnames_svdtitle = ['svd_title_'+str(x) for x in range(n_components_title)]\n",
    "n_components_desc = 40 #best between 35 and 50\n",
    "colnames_svddesc = ['svd_desc_'+str(x) for x in range(n_components_desc)]\n",
    "\n",
    "REMOVE_MISSING_DESC = False\n",
    "ENCODING = True\n",
    "\n",
    "min_class_encode = 100 #How many items a class must have to be eligible for target encoding\n",
    "min_class_cat = 31 #How many items a class must have to keep its separate class\n",
    "STEM = True"
   ]
  },
  {
   "cell_type": "markdown",
   "metadata": {},
   "source": [
    "## Load data\n",
    "complete_data is a concatenate of both dataset + some translations"
   ]
  },
  {
   "cell_type": "code",
   "execution_count": 5,
   "metadata": {},
   "outputs": [],
   "source": [
    "train = pd.read_csv(DATA_PATH+'train.csv')\n",
    "test = pd.read_csv(DATA_PATH+'test.csv')\n",
    "complete_data = pd.concat([train,test],axis=0,ignore_index=True)\n",
    "\n",
    "guess_image = pd.read_csv(DATA_PATH+'image_guess.csv')\n",
    "complete_data = pd.merge(complete_data,guess_image)"
   ]
  },
  {
   "cell_type": "code",
   "execution_count": 6,
   "metadata": {},
   "outputs": [],
   "source": [
    "if STEM:\n",
    "    complete_data_stemmed = pd.read_csv(DATA_PATH+'stemmed_text.csv')\n",
    "    complete_data = pd.concat([complete_data,complete_data_stemmed.drop('item_id',axis=1)],axis=1)"
   ]
  },
  {
   "cell_type": "code",
   "execution_count": 7,
   "metadata": {},
   "outputs": [
    {
     "data": {
      "text/html": [
       "<div>\n",
       "<style scoped>\n",
       "    .dataframe tbody tr th:only-of-type {\n",
       "        vertical-align: middle;\n",
       "    }\n",
       "\n",
       "    .dataframe tbody tr th {\n",
       "        vertical-align: top;\n",
       "    }\n",
       "\n",
       "    .dataframe thead th {\n",
       "        text-align: right;\n",
       "    }\n",
       "</style>\n",
       "<table border=\"1\" class=\"dataframe\">\n",
       "  <thead>\n",
       "    <tr style=\"text-align: right;\">\n",
       "      <th></th>\n",
       "      <th>activation_date</th>\n",
       "      <th>category_name</th>\n",
       "      <th>city</th>\n",
       "      <th>deal_probability</th>\n",
       "      <th>description</th>\n",
       "      <th>image</th>\n",
       "      <th>image_top_1</th>\n",
       "      <th>item_id</th>\n",
       "      <th>item_seq_number</th>\n",
       "      <th>param_1</th>\n",
       "      <th>param_2</th>\n",
       "      <th>param_3</th>\n",
       "      <th>parent_category_name</th>\n",
       "      <th>price</th>\n",
       "      <th>region</th>\n",
       "      <th>title</th>\n",
       "      <th>user_id</th>\n",
       "      <th>user_type</th>\n",
       "      <th>Prob_image_top1</th>\n",
       "      <th>Guess_image_top1</th>\n",
       "      <th>Guess_image_top2</th>\n",
       "      <th>Guess_image_top3</th>\n",
       "      <th>stemmed_description</th>\n",
       "      <th>stemmed_title</th>\n",
       "      <th>stemmed_params</th>\n",
       "    </tr>\n",
       "  </thead>\n",
       "  <tbody>\n",
       "    <tr>\n",
       "      <th>0</th>\n",
       "      <td>2017-03-28</td>\n",
       "      <td>Товары для детей и игрушки</td>\n",
       "      <td>Екатеринбург</td>\n",
       "      <td>0.12789</td>\n",
       "      <td>Кокон для сна малыша,пользовались меньше месяц...</td>\n",
       "      <td>d10c7e016e03247a3bf2d13348fe959fe6f436c1caf64c...</td>\n",
       "      <td>1008.0</td>\n",
       "      <td>b912c3c6a6ad</td>\n",
       "      <td>2</td>\n",
       "      <td>Постельные принадлежности</td>\n",
       "      <td>NaN</td>\n",
       "      <td>NaN</td>\n",
       "      <td>Личные вещи</td>\n",
       "      <td>400.0</td>\n",
       "      <td>Свердловская область</td>\n",
       "      <td>Кокоби(кокон для сна)</td>\n",
       "      <td>e00f8ff2eaf9</td>\n",
       "      <td>Private</td>\n",
       "      <td>0.805290</td>\n",
       "      <td>1008</td>\n",
       "      <td>1009</td>\n",
       "      <td>75</td>\n",
       "      <td>кокон для сна малыш пользова меньш месяц цвет сер</td>\n",
       "      <td>кокоб кокон для сна</td>\n",
       "      <td>постельн принадлежностинанна</td>\n",
       "    </tr>\n",
       "    <tr>\n",
       "      <th>1</th>\n",
       "      <td>2017-03-26</td>\n",
       "      <td>Мебель и интерьер</td>\n",
       "      <td>Самара</td>\n",
       "      <td>0.00000</td>\n",
       "      <td>Стойка для одежды, под вешалки. С бутика.</td>\n",
       "      <td>79c9392cc51a9c81c6eb91eceb8e552171db39d7142700...</td>\n",
       "      <td>692.0</td>\n",
       "      <td>2dac0150717d</td>\n",
       "      <td>19</td>\n",
       "      <td>Другое</td>\n",
       "      <td>NaN</td>\n",
       "      <td>NaN</td>\n",
       "      <td>Для дома и дачи</td>\n",
       "      <td>3000.0</td>\n",
       "      <td>Самарская область</td>\n",
       "      <td>Стойка для Одежды</td>\n",
       "      <td>39aeb48f0017</td>\n",
       "      <td>Private</td>\n",
       "      <td>0.403171</td>\n",
       "      <td>1522</td>\n",
       "      <td>1496</td>\n",
       "      <td>1489</td>\n",
       "      <td>стойк для одежд под вешалк с бутик</td>\n",
       "      <td>стойк для одежд</td>\n",
       "      <td>другоенанна</td>\n",
       "    </tr>\n",
       "    <tr>\n",
       "      <th>2</th>\n",
       "      <td>2017-03-20</td>\n",
       "      <td>Аудио и видео</td>\n",
       "      <td>Ростов-на-Дону</td>\n",
       "      <td>0.43177</td>\n",
       "      <td>В хорошем состоянии, домашний кинотеатр с blu ...</td>\n",
       "      <td>b7f250ee3f39e1fedd77c141f273703f4a9be59db4b48a...</td>\n",
       "      <td>3032.0</td>\n",
       "      <td>ba83aefab5dc</td>\n",
       "      <td>9</td>\n",
       "      <td>Видео, DVD и Blu-ray плееры</td>\n",
       "      <td>NaN</td>\n",
       "      <td>NaN</td>\n",
       "      <td>Бытовая электроника</td>\n",
       "      <td>4000.0</td>\n",
       "      <td>Ростовская область</td>\n",
       "      <td>Philips bluray</td>\n",
       "      <td>91e2f88dd6e3</td>\n",
       "      <td>Private</td>\n",
       "      <td>0.670797</td>\n",
       "      <td>3042</td>\n",
       "      <td>3039</td>\n",
       "      <td>3040</td>\n",
       "      <td>в хорош состоян домашн кинотеатр с blu ra usb ...</td>\n",
       "      <td>philips blura</td>\n",
       "      <td>виде dvd и blu ra плеерынанна</td>\n",
       "    </tr>\n",
       "    <tr>\n",
       "      <th>3</th>\n",
       "      <td>2017-03-25</td>\n",
       "      <td>Товары для детей и игрушки</td>\n",
       "      <td>Набережные Челны</td>\n",
       "      <td>0.80323</td>\n",
       "      <td>Продам кресло от0-25кг</td>\n",
       "      <td>e6ef97e0725637ea84e3d203e82dadb43ed3cc0a1c8413...</td>\n",
       "      <td>796.0</td>\n",
       "      <td>02996f1dd2ea</td>\n",
       "      <td>286</td>\n",
       "      <td>Автомобильные кресла</td>\n",
       "      <td>NaN</td>\n",
       "      <td>NaN</td>\n",
       "      <td>Личные вещи</td>\n",
       "      <td>2200.0</td>\n",
       "      <td>Татарстан</td>\n",
       "      <td>Автокресло</td>\n",
       "      <td>bf5cccea572d</td>\n",
       "      <td>Company</td>\n",
       "      <td>0.903954</td>\n",
       "      <td>796</td>\n",
       "      <td>1133</td>\n",
       "      <td>1442</td>\n",
       "      <td>прод кресл от0 25кг</td>\n",
       "      <td>автокресл</td>\n",
       "      <td>автомобильн креслананна</td>\n",
       "    </tr>\n",
       "    <tr>\n",
       "      <th>4</th>\n",
       "      <td>2017-03-16</td>\n",
       "      <td>Автомобили</td>\n",
       "      <td>Волгоград</td>\n",
       "      <td>0.20797</td>\n",
       "      <td>Все вопросы по телефону.</td>\n",
       "      <td>54a687a3a0fc1d68aed99bdaaf551c5c70b761b16fd0a2...</td>\n",
       "      <td>2264.0</td>\n",
       "      <td>7c90be56d2ab</td>\n",
       "      <td>3</td>\n",
       "      <td>С пробегом</td>\n",
       "      <td>ВАЗ (LADA)</td>\n",
       "      <td>2110</td>\n",
       "      <td>Транспорт</td>\n",
       "      <td>40000.0</td>\n",
       "      <td>Волгоградская область</td>\n",
       "      <td>ВАЗ 2110, 2003</td>\n",
       "      <td>ef50846afc0b</td>\n",
       "      <td>Private</td>\n",
       "      <td>0.414640</td>\n",
       "      <td>1108</td>\n",
       "      <td>2264</td>\n",
       "      <td>2262</td>\n",
       "      <td>все вопрос по телефон</td>\n",
       "      <td>ваз 2110 2003</td>\n",
       "      <td>с пробегомваз lad 2110</td>\n",
       "    </tr>\n",
       "  </tbody>\n",
       "</table>\n",
       "</div>"
      ],
      "text/plain": [
       "  activation_date               category_name              city  \\\n",
       "0      2017-03-28  Товары для детей и игрушки      Екатеринбург   \n",
       "1      2017-03-26           Мебель и интерьер            Самара   \n",
       "2      2017-03-20               Аудио и видео    Ростов-на-Дону   \n",
       "3      2017-03-25  Товары для детей и игрушки  Набережные Челны   \n",
       "4      2017-03-16                  Автомобили         Волгоград   \n",
       "\n",
       "   deal_probability                                        description  \\\n",
       "0           0.12789  Кокон для сна малыша,пользовались меньше месяц...   \n",
       "1           0.00000          Стойка для одежды, под вешалки. С бутика.   \n",
       "2           0.43177  В хорошем состоянии, домашний кинотеатр с blu ...   \n",
       "3           0.80323                             Продам кресло от0-25кг   \n",
       "4           0.20797                           Все вопросы по телефону.   \n",
       "\n",
       "                                               image  image_top_1  \\\n",
       "0  d10c7e016e03247a3bf2d13348fe959fe6f436c1caf64c...       1008.0   \n",
       "1  79c9392cc51a9c81c6eb91eceb8e552171db39d7142700...        692.0   \n",
       "2  b7f250ee3f39e1fedd77c141f273703f4a9be59db4b48a...       3032.0   \n",
       "3  e6ef97e0725637ea84e3d203e82dadb43ed3cc0a1c8413...        796.0   \n",
       "4  54a687a3a0fc1d68aed99bdaaf551c5c70b761b16fd0a2...       2264.0   \n",
       "\n",
       "        item_id  item_seq_number                      param_1     param_2  \\\n",
       "0  b912c3c6a6ad                2    Постельные принадлежности         NaN   \n",
       "1  2dac0150717d               19                       Другое         NaN   \n",
       "2  ba83aefab5dc                9  Видео, DVD и Blu-ray плееры         NaN   \n",
       "3  02996f1dd2ea              286         Автомобильные кресла         NaN   \n",
       "4  7c90be56d2ab                3                   С пробегом  ВАЗ (LADA)   \n",
       "\n",
       "  param_3 parent_category_name    price                 region  \\\n",
       "0     NaN          Личные вещи    400.0   Свердловская область   \n",
       "1     NaN      Для дома и дачи   3000.0      Самарская область   \n",
       "2     NaN  Бытовая электроника   4000.0     Ростовская область   \n",
       "3     NaN          Личные вещи   2200.0              Татарстан   \n",
       "4    2110            Транспорт  40000.0  Волгоградская область   \n",
       "\n",
       "                   title       user_id user_type  Prob_image_top1  \\\n",
       "0  Кокоби(кокон для сна)  e00f8ff2eaf9   Private         0.805290   \n",
       "1      Стойка для Одежды  39aeb48f0017   Private         0.403171   \n",
       "2         Philips bluray  91e2f88dd6e3   Private         0.670797   \n",
       "3             Автокресло  bf5cccea572d   Company         0.903954   \n",
       "4         ВАЗ 2110, 2003  ef50846afc0b   Private         0.414640   \n",
       "\n",
       "   Guess_image_top1  Guess_image_top2  Guess_image_top3  \\\n",
       "0              1008              1009                75   \n",
       "1              1522              1496              1489   \n",
       "2              3042              3039              3040   \n",
       "3               796              1133              1442   \n",
       "4              1108              2264              2262   \n",
       "\n",
       "                                 stemmed_description        stemmed_title  \\\n",
       "0  кокон для сна малыш пользова меньш месяц цвет сер  кокоб кокон для сна   \n",
       "1                 стойк для одежд под вешалк с бутик      стойк для одежд   \n",
       "2  в хорош состоян домашн кинотеатр с blu ra usb ...        philips blura   \n",
       "3                                прод кресл от0 25кг            автокресл   \n",
       "4                              все вопрос по телефон        ваз 2110 2003   \n",
       "\n",
       "                  stemmed_params  \n",
       "0   постельн принадлежностинанна  \n",
       "1                    другоенанна  \n",
       "2  виде dvd и blu ra плеерынанна  \n",
       "3        автомобильн креслананна  \n",
       "4         с пробегомваз lad 2110  "
      ]
     },
     "execution_count": 7,
     "metadata": {},
     "output_type": "execute_result"
    }
   ],
   "source": [
    "complete_data.head()"
   ]
  },
  {
   "cell_type": "markdown",
   "metadata": {},
   "source": [
    "## Feature engineering"
   ]
  },
  {
   "cell_type": "code",
   "execution_count": 8,
   "metadata": {},
   "outputs": [],
   "source": [
    "complete_data['missing_param_1'] = complete_data['param_1'].isnull().astype(int)\n",
    "complete_data['missing_param_2'] = complete_data['param_2'].isnull().astype(int)\n",
    "complete_data['missing_param_3'] = complete_data['param_3'].isnull().astype(int)\n",
    "complete_data['missing_desc'] = complete_data['description'].isnull().astype(int)\n",
    "complete_data['missing_price'] = complete_data['price'].isnull().astype(int)\n",
    "complete_data['missing_image'] = complete_data['image'].isnull().astype(int)"
   ]
  },
  {
   "cell_type": "code",
   "execution_count": 9,
   "metadata": {},
   "outputs": [],
   "source": [
    "complete_data['activation_date']=pd.to_datetime(complete_data['activation_date'])\n",
    "complete_data['activation_weekday']=complete_data['activation_date'].dt.weekday"
   ]
  },
  {
   "cell_type": "code",
   "execution_count": 10,
   "metadata": {},
   "outputs": [],
   "source": [
    "complete_data['user_counts']=complete_data.groupby(['user_id'])['item_id'].transform('count')\n",
    "complete_data['user_counts_bin']=pd.qcut(complete_data['user_counts'],5,duplicates='drop',labels=range(4)) #one duplicate. #This feature often appears not useful"
   ]
  },
  {
   "cell_type": "code",
   "execution_count": 11,
   "metadata": {},
   "outputs": [],
   "source": [
    "common_users = set(train['user_id']).intersection(set(test['user_id']))\n",
    "temp = train.groupby(['user_id'],as_index=False).agg({'item_id':'count'}).rename(columns={'item_id':'count_item'})\n",
    "big_users = set(temp[temp['count_item']>=min_class_cat]['user_id'])\n",
    "\n",
    "complete_data['user_id'] = np.where(complete_data['user_id'].isin(common_users),\n",
    "                                    np.where(complete_data['user_id'].isin(big_users),\n",
    "                                             complete_data['user_id'],'SmallUser'),'NotCommonUser') #This is why an embedding of the user is useful"
   ]
  },
  {
   "cell_type": "code",
   "execution_count": 12,
   "metadata": {},
   "outputs": [],
   "source": [
    "complete_data['log_price']=np.log(1+complete_data['price'])"
   ]
  },
  {
   "cell_type": "code",
   "execution_count": 13,
   "metadata": {},
   "outputs": [],
   "source": [
    "complete_data['region_mean_price'] = complete_data.groupby(['region'])['log_price'].transform('mean').fillna(-999)\n",
    "complete_data['region_category_mean_price'] = complete_data.groupby(['region','category_name'])['log_price'].transform('mean').fillna(-999)\n",
    "complete_data['region_image_mean_price'] = complete_data.groupby(['region','image_top_1'])['log_price'].transform('mean').fillna(-999)\n",
    "complete_data['region_image_diff_price'] = complete_data['log_price']-complete_data['region_image_mean_price']"
   ]
  },
  {
   "cell_type": "code",
   "execution_count": 14,
   "metadata": {},
   "outputs": [],
   "source": [
    "complete_data['city_counts']=complete_data.groupby(['city'])['item_id'].transform('count')\n",
    "complete_data['city_counts_bin']=pd.qcut(complete_data['city_counts'],5,duplicates='drop',labels=range(5))"
   ]
  },
  {
   "cell_type": "code",
   "execution_count": 15,
   "metadata": {},
   "outputs": [],
   "source": [
    "common_cities = set(train['city']).intersection(set(test['city']))\n",
    "temp = train.groupby(['city'],as_index=False).agg({'item_id':'count'}).rename(columns={'item_id':'count_item'})\n",
    "big_cities = set(temp[temp['count_item']>=min_class_cat]['city'])\n",
    "\n",
    "complete_data['city'] = np.where(complete_data['city'].isin(common_cities),\n",
    "                                  np.where(complete_data['city'].isin(big_cities),\n",
    "                                           complete_data['city'],'SmallCity'),'NotCommonCity')"
   ]
  },
  {
   "cell_type": "code",
   "execution_count": 16,
   "metadata": {},
   "outputs": [],
   "source": [
    "complete_data['city_mean_price'] = complete_data.groupby(['city'])['log_price'].transform('mean')\n",
    "complete_data['city_category_mean_price'] = complete_data.groupby(['city','category_name'])['log_price'].transform('mean')\n",
    "complete_data['city_image_mean_price'] = complete_data.groupby(['city','image_top_1'])['log_price'].transform('mean')\n",
    "complete_data['city_image_diff_price'] = complete_data['log_price']-complete_data['city_image_mean_price']"
   ]
  },
  {
   "cell_type": "code",
   "execution_count": 17,
   "metadata": {},
   "outputs": [],
   "source": [
    "#If useful, add additional prices information"
   ]
  },
  {
   "cell_type": "code",
   "execution_count": 18,
   "metadata": {},
   "outputs": [],
   "source": [
    "complete_data['price'].fillna(-999,inplace=True)\n",
    "complete_data['log_price'].fillna(-999,inplace=True)\n",
    "complete_data['price_10']=np.where(complete_data['price']>=0, (complete_data['price'].astype(int)//10).astype(str).apply(lambda x: x[-1]),-999).astype(int)\n",
    "complete_data['price_100']=np.where(complete_data['price']>=0, (complete_data['price'].astype(int)//100).astype(str).apply(lambda x: x[-1]),-999).astype(int)\n",
    "complete_data['price_1000']=np.where(complete_data['price']>=0, (complete_data['price'].astype(int)//1000).astype(str).apply(lambda x: x[-1]),-999).astype(int)\n",
    "complete_data['price_10000']=np.where(complete_data['price']>=0, (complete_data['price'].astype(int)//10000).astype(str).apply(lambda x: x[-1]),-999).astype(int)\n",
    "complete_data['price_100000']=np.where(complete_data['price']>=0, (complete_data['price'].astype(int)//100000).astype(str).apply(lambda x: x[-1]),-999).astype(int)\n",
    "#complete_data['start_100']=np.where(complete_data['price']>=100, np.where(complete_data['price'].astype(int)-complete_data['price'].astype(int)//100*100 < 50, 1 , 0) ,-999)\n",
    "#complete_data['start_1000']=np.where(complete_data['price']>=1000, np.where(complete_data['price'].astype(int)-complete_data['price'].astype(int)//1000*1000 < 500, 1 , 0) ,-999)\n",
    "#complete_data['start_10000']=np.where(complete_data['price']>=10000, np.where(complete_data['price'].astype(int)-complete_data['price'].astype(int)//10000*10000 < 5000, 1 , 0) ,-999)\n",
    "#complete_data['start_100000']=np.where(complete_data['price']>=100000, np.where(complete_data['price'].astype(int)-complete_data['price'].astype(int)//100000*100000 < 50000, 1 , 0) ,-999)\n",
    "complete_data['number_of_0']=np.where(complete_data['price']>=100, complete_data['price'].astype(int).astype(str).apply(lambda x: x.count('0')),-999)\n",
    "complete_data['length_price']=np.where(complete_data['price']>=100, complete_data['price'].astype(int).astype(str).apply(len),-999)\n",
    "complete_data['diff_of_0']=np.where(complete_data['price']>=100,complete_data['length_price']-complete_data['number_of_0'],-999)"
   ]
  },
  {
   "cell_type": "code",
   "execution_count": 19,
   "metadata": {},
   "outputs": [],
   "source": [
    "complete_data['log_item_seq']=np.log(1+complete_data['item_seq_number'])"
   ]
  },
  {
   "cell_type": "code",
   "execution_count": 20,
   "metadata": {},
   "outputs": [],
   "source": [
    "complete_data['image_top_1'].fillna(-999,inplace=True)\n",
    "train['image_top_1'].fillna(-999,inplace=True)\n",
    "test['image_top_1'].fillna(-999,inplace=True)\n",
    "new_image_top = set(test['image_top_1'])-set(train['image_top_1'])\n",
    "complete_data['image_top_1']=np.where(complete_data['image_top_1'].isin(new_image_top),\n",
    "                                      -999,complete_data['image_top_1']) #should actually select the closest image class"
   ]
  },
  {
   "cell_type": "code",
   "execution_count": 21,
   "metadata": {},
   "outputs": [
    {
     "ename": "ValueError",
     "evalue": "Buffer dtype mismatch, expected 'Python object' but got 'long long'",
     "output_type": "error",
     "traceback": [
      "\u001b[1;31m---------------------------------------------------------------------------\u001b[0m",
      "\u001b[1;31mValueError\u001b[0m                                Traceback (most recent call last)",
      "\u001b[1;31mValueError\u001b[0m: Buffer dtype mismatch, expected 'Python object' but got 'long long'"
     ]
    },
    {
     "name": "stderr",
     "output_type": "stream",
     "text": [
      "Exception ignored in: 'pandas._libs.lib.is_bool_array'\n",
      "ValueError: Buffer dtype mismatch, expected 'Python object' but got 'long long'\n"
     ]
    },
    {
     "ename": "ValueError",
     "evalue": "Buffer dtype mismatch, expected 'Python object' but got 'long long'",
     "output_type": "error",
     "traceback": [
      "\u001b[1;31m---------------------------------------------------------------------------\u001b[0m",
      "\u001b[1;31mValueError\u001b[0m                                Traceback (most recent call last)",
      "\u001b[1;31mValueError\u001b[0m: Buffer dtype mismatch, expected 'Python object' but got 'long long'"
     ]
    },
    {
     "name": "stderr",
     "output_type": "stream",
     "text": [
      "Exception ignored in: 'pandas._libs.lib.is_bool_array'\n",
      "ValueError: Buffer dtype mismatch, expected 'Python object' but got 'long long'\n"
     ]
    }
   ],
   "source": [
    "heatmatrix = pd.crosstab(train['image_top_1'],train['category_name'])\n",
    "rows = heatmatrix.index\n",
    "columns = heatmatrix.columns\n",
    "heatmatrix = heatmatrix.values / np.sum(heatmatrix.values,axis=1,keepdims=True) #Normalize\n",
    "heatmatrix = pd.DataFrame(heatmatrix,index=rows,columns=columns)\n",
    "values = []\n",
    "for image_top_1 in heatmatrix.index:\n",
    "    for category in heatmatrix.columns:\n",
    "        values.append([image_top_1,category,heatmatrix.loc[image_top_1,category]])\n",
    "matrix_long = pd.DataFrame(values,columns=['image_top_1','category_name','heatmatrix_value'])\n",
    "complete_data = complete_data.merge(matrix_long,how='left',on=['image_top_1','category_name'])\n",
    "complete_data['heatmatrix_value'].fillna(-999,inplace=True)\n",
    "#Number of classes in category\n",
    "class_counts = (heatmatrix>0).sum(axis=0)\n",
    "class_max = heatmatrix.max(axis=0)\n",
    "class_mean = heatmatrix.mean(axis=0)\n",
    "complete_data['class_category_counts'] = complete_data['category_name'].map(class_counts)\n",
    "complete_data['class_category_max'] = complete_data['category_name'].map(class_max)\n",
    "complete_data['class_category_mean'] = complete_data['category_name'].map(class_mean)"
   ]
  },
  {
   "cell_type": "code",
   "execution_count": 22,
   "metadata": {},
   "outputs": [],
   "source": [
    "uppercase_regex = re.compile(r'[A-ZА-Я]')\n",
    "symbols_regex = re.compile(r'[^a-zA-ZА-Я0-9а-я]')\n",
    "digits_regex = re.compile(r'[0-9]')"
   ]
  },
  {
   "cell_type": "code",
   "execution_count": 23,
   "metadata": {},
   "outputs": [],
   "source": [
    "punct = set(string.punctuation)"
   ]
  },
  {
   "cell_type": "code",
   "execution_count": 24,
   "metadata": {},
   "outputs": [],
   "source": [
    "emoji = set()\n",
    "for s in complete_data['title'].fillna('').astype(str):\n",
    "    for c in s:\n",
    "        if c.isdigit() or c.isalpha() or c.isalnum() or c.isspace() or c in punct:\n",
    "            continue\n",
    "        emoji.add(c)\n",
    "\n",
    "for s in complete_data['description'].fillna('').astype(str):\n",
    "    for c in str(s):\n",
    "        if c.isdigit() or c.isalpha() or c.isalnum() or c.isspace() or c in punct:\n",
    "            continue\n",
    "        emoji.add(c)"
   ]
  },
  {
   "cell_type": "code",
   "execution_count": 25,
   "metadata": {},
   "outputs": [],
   "source": [
    "complete_data['title_number_uppercase'] = complete_data['title'].str.count(uppercase_regex)\n",
    "complete_data['title_number_symbols'] = complete_data['title'].str.count(symbols_regex)\n",
    "complete_data['title_number_digits'] = complete_data['title'].str.count(digits_regex)\n",
    "complete_data['title_len_chars'] = complete_data['title'].apply(lambda x: len(str(x)))\n",
    "complete_data['title_len_words'] = complete_data['title'].str.split().apply(lambda x: len(str(x)))\n",
    "complete_data['title_unique'] = complete_data['title'].str.split().apply(lambda x: len(set(str(x))))\n",
    "complete_data['share_unique_title'] = complete_data['title_unique']/complete_data['title_len_words']\n",
    "complete_data['title_number_emo'] = complete_data['title'].fillna('').apply(lambda x: sum(c in emoji for c in x))\n",
    "complete_data['r_title_emo'] = complete_data['title_number_emo']/(complete_data['title_len_chars']+1)"
   ]
  },
  {
   "cell_type": "code",
   "execution_count": 26,
   "metadata": {},
   "outputs": [],
   "source": [
    "#Do that before filling missings\n",
    "complete_data['desc_number_uppercase'] = complete_data['description'].str.count(uppercase_regex)\n",
    "complete_data['desc_number_symbols'] = complete_data['description'].str.count(symbols_regex)\n",
    "complete_data['desc_number_digits'] = complete_data['description'].str.count(digits_regex) #should do similar stuff for param\n",
    "complete_data['desc_len_char']=complete_data['description'].apply(lambda x: len(str(x)))\n",
    "complete_data['desc_len_words']=complete_data['description'].str.split().apply(lambda x: len(str(x)))\n",
    "complete_data['desc_unique'] = complete_data['description'].str.split().apply(lambda x: len(set(str(x))))\n",
    "complete_data['share_unique_desc'] = complete_data['desc_unique']/complete_data['desc_len_words']\n",
    "complete_data['desc_number_emo'] = complete_data['description'].fillna('').apply(lambda x: sum(c in emoji for c in x))\n",
    "complete_data['desc_rows'] = complete_data['description'].astype(str).apply(lambda x: x.count('/\\n'))\n",
    "complete_data['r_desc_emo'] = complete_data['desc_number_emo']/(complete_data['desc_len_char']+1)\n",
    "complete_data['r_title_desc'] = complete_data['title_len_chars']/(complete_data['desc_len_char']+1)"
   ]
  },
  {
   "cell_type": "code",
   "execution_count": 27,
   "metadata": {},
   "outputs": [],
   "source": [
    "complete_data['desc_number_uppercase'].fillna(-999,inplace=True)\n",
    "complete_data['desc_number_symbols'].fillna(-999,inplace=True)\n",
    "complete_data['desc_number_digits'].fillna(-999,inplace=True)\n",
    "complete_data['desc_len_char'].fillna(-999,inplace=True)\n",
    "complete_data['desc_len_words'].fillna(-999,inplace=True)\n",
    "complete_data['desc_unique'].fillna(-999,inplace=True)\n",
    "complete_data['share_unique_desc'].fillna(-999,inplace=True)\n",
    "complete_data['desc_number_emo'].fillna(-999,inplace=True)\n",
    "complete_data['desc_rows'].fillna(-999,inplace=True)\n",
    "complete_data['r_desc_emo'].fillna(-999,inplace=True)\n",
    "complete_data['r_title_desc'].fillna(-999,inplace=True)"
   ]
  },
  {
   "cell_type": "code",
   "execution_count": 28,
   "metadata": {},
   "outputs": [],
   "source": [
    "test_title = set(complete_data[complete_data['deal_probability'].isna()]['title'])\n",
    "train_title = set(complete_data[complete_data['deal_probability'].notnull()]['title'])\n",
    "title_to_include = test_title.intersection(train_title)\n",
    "complete_data['title_clean']=np.where(complete_data['title'].isin(title_to_include),complete_data['title'],'Other')"
   ]
  },
  {
   "cell_type": "code",
   "execution_count": 29,
   "metadata": {},
   "outputs": [],
   "source": [
    "complete_data['param_1'] = complete_data['param_1'].astype(str)\n",
    "complete_data['param_2'] = complete_data['param_2'].astype(str)\n",
    "complete_data['param_3'] = complete_data['param_3'].astype(str)\n",
    "complete_data['params'] = complete_data['param_1']+complete_data['param_2']+complete_data['param_3']\n",
    "#Need to clean this variable"
   ]
  },
  {
   "cell_type": "code",
   "execution_count": 30,
   "metadata": {},
   "outputs": [],
   "source": [
    "test_params = set(complete_data[complete_data['deal_probability'].isna()]['params'])\n",
    "train_params = set(complete_data[complete_data['deal_probability'].notnull()]['params'])\n",
    "params_to_include = test_params.intersection(train_params)\n",
    "complete_data['params_clean']=np.where(complete_data['params'].isin(params_to_include),complete_data['params'],'Other')"
   ]
  },
  {
   "cell_type": "code",
   "execution_count": 31,
   "metadata": {},
   "outputs": [],
   "source": [
    "#Can also add loop to do something else than mean encoding\n",
    "#Need to redo it inside the cross validation\n",
    "if ENCODING:\n",
    "    vars_target_encode = ['region', 'user_type', 'category_name', 'parent_category_name','image_top_1','city']#,'user_id']\n",
    "    global_average = train['deal_probability'].mean()\n",
    "\n",
    "    for var in vars_target_encode:\n",
    "        common = set(train[var]).intersection(set(test[var]))\n",
    "        temp = train.groupby([var],as_index=False).agg({'item_id':'count'}).rename(columns={'item_id':'count_item'})\n",
    "        big = set(temp[temp['count_item']>=min_class_encode][var])\n",
    "\n",
    "        #Encode using running sum\n",
    "        cumsum = complete_data.groupby([var])['deal_probability'].cumsum()-complete_data['deal_probability']\n",
    "        cumcnt = complete_data.groupby([var])['deal_probability'].cumcount()\n",
    "        complete_data[var+'_encoding']=cumsum/cumcnt\n",
    "        complete_data[var+'_encoding'].fillna(global_average,inplace=True)\n",
    "        complete_data[var+'_encoding'] = np.where(complete_data[var].isin(common), #Dont encode missing in test set, dont encode too few items in class:\n",
    "                                          np.where(complete_data[var].isin(big),\n",
    "                                                   complete_data[var+'_encoding'],global_average),global_average)"
   ]
  },
  {
   "cell_type": "code",
   "execution_count": 32,
   "metadata": {},
   "outputs": [],
   "source": [
    "if STEM:\n",
    "    complete_data['description']=complete_data['stemmed_description']\n",
    "    complete_data['title']=complete_data['stemmed_title']\n",
    "    complete_data['params']=complete_data['stemmed_params']\n",
    "    del complete_data['stemmed_description']\n",
    "    del complete_data['stemmed_title']\n",
    "    del complete_data['stemmed_params']"
   ]
  },
  {
   "cell_type": "code",
   "execution_count": 33,
   "metadata": {},
   "outputs": [],
   "source": [
    "texts = ['description','title','params']\n",
    "for col in texts:\n",
    "    complete_data[col]=complete_data[col].astype(str).fillna('thisismissing').str.lower()"
   ]
  },
  {
   "cell_type": "code",
   "execution_count": 34,
   "metadata": {},
   "outputs": [
    {
     "name": "stdout",
     "output_type": "stream",
     "text": [
      "(2011862, 17000)\n"
     ]
    }
   ],
   "source": [
    "#Make sparse TFIDF matrixes here (or count)\n",
    "english_stopwords = set(stopwords.words('english'))\n",
    "russian_stopwords = set(stopwords.words('russian'))\n",
    "russian_stopwords = russian_stopwords.union(english_stopwords)\n",
    "tfidf_desc = TfidfVectorizer(lowercase=True,analyzer='word',\n",
    "                             stop_words=russian_stopwords,token_pattern=r'\\w+',\n",
    "                             max_features=17000,\n",
    "                             ngram_range=(1,2),dtype=np.float32,norm='l2',smooth_idf=False,sublinear_tf=True,min_df=2)\n",
    "X_desc = tfidf_desc.fit_transform(complete_data['description'])\n",
    "print(X_desc.shape)"
   ]
  },
  {
   "cell_type": "code",
   "execution_count": 35,
   "metadata": {},
   "outputs": [],
   "source": [
    "wordVectTitle = CountVectorizer(lowercase=True,analyzer='word',\n",
    "                             stop_words=russian_stopwords,token_pattern=r'\\w+',\n",
    "                             ngram_range=(1,2), #max_features=50000,\n",
    "                             dtype=np.float32,min_df=2)\n",
    "title_sparse = wordVectTitle.fit_transform(complete_data['title'])"
   ]
  },
  {
   "cell_type": "code",
   "execution_count": 36,
   "metadata": {},
   "outputs": [],
   "source": [
    "wordVectParams = CountVectorizer(lowercase=True,analyzer='word',\n",
    "                             stop_words=russian_stopwords,token_pattern=r'\\w+',\n",
    "                             ngram_range=(1,2),dtype=np.float32,min_df=2)\n",
    "params_sparse = wordVectParams.fit_transform(complete_data['params'])"
   ]
  },
  {
   "cell_type": "code",
   "execution_count": 37,
   "metadata": {},
   "outputs": [],
   "source": [
    "complete_data['corrected_image_top_1']=np.where(complete_data['image_top_1']==-999,\n",
    "                                                complete_data['Guess_image_top1'],complete_data['image_top_1'])"
   ]
  },
  {
   "cell_type": "markdown",
   "metadata": {},
   "source": [
    "## Make variable lists"
   ]
  },
  {
   "cell_type": "code",
   "execution_count": 38,
   "metadata": {},
   "outputs": [],
   "source": [
    "#Standard variables\n",
    "categoricals = ['region','city','activation_weekday','user_type','user_id','parent_category_name','category_name',#'image_top_1',\n",
    "               'param_1','param_2','param_3','params_clean','title_clean'] \n",
    "numericals = ['log_price','log_item_seq']\n",
    "\n",
    "#New variables\n",
    "categoricals += ['user_counts_bin','city_counts_bin']\n",
    "categoricals += ['corrected_image_top_1','Guess_image_top2','Guess_image_top3']#,'Guess_image_top1',]\n",
    "numericals += ['user_counts','city_counts']\n",
    "numericals += ['region_mean_price','region_category_mean_price','region_image_mean_price','region_image_diff_price']\n",
    "numericals += ['city_mean_price','city_category_mean_price','city_image_mean_price','city_image_diff_price']\n",
    "numericals += ['price_10','price_100','price_1000','price_10000']#,'price_100000']\n",
    "#,'start_100','start_1000','start_10000','start_100000','number_of_0','length_price','diff_of_0']\n",
    "numericals += ['heatmatrix_value','class_category_counts'] #,'class_category_max','class_category_mean']\n",
    "numericals += ['title_number_uppercase', 'title_number_symbols','title_number_digits','title_len_chars','title_len_words','title_unique','share_unique_title']\n",
    "numericals += ['desc_number_uppercase', 'desc_number_symbols','desc_number_digits','desc_len_char','desc_len_words','desc_unique','share_unique_desc']\n",
    "numericals += ['r_title_desc','desc_rows'] #['title_number_emo','r_title_emo','desc_number_emo',r_desc_emo']\n",
    "numericals += ['Prob_image_top1']\n",
    "#numericals += [x+'_encoding' for x in vars_target_encode]"
   ]
  },
  {
   "cell_type": "code",
   "execution_count": 39,
   "metadata": {},
   "outputs": [
    {
     "data": {
      "text/plain": [
       "activation_date                       0\n",
       "category_name                         0\n",
       "city                                  0\n",
       "deal_probability                 508438\n",
       "description                           0\n",
       "image                            155197\n",
       "image_top_1                           0\n",
       "item_id                               0\n",
       "item_seq_number                       0\n",
       "param_1                               0\n",
       "param_2                               0\n",
       "param_3                               0\n",
       "parent_category_name                  0\n",
       "price                                 0\n",
       "region                                0\n",
       "title                                 0\n",
       "user_id                               0\n",
       "user_type                             0\n",
       "Prob_image_top1                       0\n",
       "Guess_image_top1                      0\n",
       "Guess_image_top2                      0\n",
       "Guess_image_top3                      0\n",
       "missing_param_1                       0\n",
       "missing_param_2                       0\n",
       "missing_param_3                       0\n",
       "missing_desc                          0\n",
       "missing_price                         0\n",
       "missing_image                         0\n",
       "activation_weekday                    0\n",
       "user_counts                           0\n",
       "                                  ...  \n",
       "title_number_uppercase                0\n",
       "title_number_symbols                  0\n",
       "title_number_digits                   0\n",
       "title_len_chars                       0\n",
       "title_len_words                       0\n",
       "title_unique                          0\n",
       "share_unique_title                    0\n",
       "title_number_emo                      0\n",
       "r_title_emo                           0\n",
       "desc_number_uppercase                 0\n",
       "desc_number_symbols                   0\n",
       "desc_number_digits                    0\n",
       "desc_len_char                         0\n",
       "desc_len_words                        0\n",
       "desc_unique                           0\n",
       "share_unique_desc                     0\n",
       "desc_number_emo                       0\n",
       "desc_rows                             0\n",
       "r_desc_emo                            0\n",
       "r_title_desc                          0\n",
       "title_clean                           0\n",
       "params                                0\n",
       "params_clean                          0\n",
       "region_encoding                       0\n",
       "user_type_encoding                    0\n",
       "category_name_encoding                0\n",
       "parent_category_name_encoding         0\n",
       "image_top_1_encoding                  0\n",
       "city_encoding                         0\n",
       "corrected_image_top_1                 0\n",
       "Length: 85, dtype: int64"
      ]
     },
     "execution_count": 39,
     "metadata": {},
     "output_type": "execute_result"
    }
   ],
   "source": [
    "#Sanity check\n",
    "complete_data.isnull().sum()"
   ]
  },
  {
   "cell_type": "markdown",
   "metadata": {},
   "source": [
    "## Split and make matrixes"
   ]
  },
  {
   "cell_type": "code",
   "execution_count": 40,
   "metadata": {},
   "outputs": [],
   "source": [
    "le = LabelEncoder()\n",
    "for col in categoricals:\n",
    "    complete_data[col] = le.fit_transform(complete_data[col].astype(str))"
   ]
  },
  {
   "cell_type": "code",
   "execution_count": 41,
   "metadata": {},
   "outputs": [],
   "source": [
    "complete_data = downcast_dtypes(complete_data)"
   ]
  },
  {
   "cell_type": "code",
   "execution_count": 42,
   "metadata": {},
   "outputs": [],
   "source": [
    "train = complete_data[complete_data['deal_probability'].notnull()].copy()\n",
    "test = complete_data[complete_data['deal_probability'].isna()].copy()"
   ]
  },
  {
   "cell_type": "code",
   "execution_count": 43,
   "metadata": {},
   "outputs": [],
   "source": [
    "features = categoricals + numericals\n",
    "\n",
    "X = hstack([csr_matrix(train[features].values.astype('float32')),\n",
    "            X_desc[:len(train)],\n",
    "            title_sparse[:len(train)],\n",
    "            params_sparse[:len(train)]],format='csr')\n",
    "\n",
    "X_test = hstack([csr_matrix(test[features].values.astype('float32')),\n",
    "            X_desc[len(train):],\n",
    "            title_sparse[len(train):],\n",
    "            params_sparse[len(train):]],format='csr')"
   ]
  },
  {
   "cell_type": "code",
   "execution_count": 44,
   "metadata": {},
   "outputs": [],
   "source": [
    "y = train['deal_probability'].values"
   ]
  },
  {
   "cell_type": "markdown",
   "metadata": {},
   "source": [
    "### Model"
   ]
  },
  {
   "cell_type": "code",
   "execution_count": 45,
   "metadata": {},
   "outputs": [],
   "source": [
    "lgb_params = {'learning_rate':0.019,\n",
    "              'task':'train',\n",
    "              'boosting_type':'gbdt',\n",
    "              'metric':'rmse',\n",
    "              'objective':'regression',\n",
    "              'num_leaves':250,\n",
    "              #'max_depth':12,\n",
    "              'feature_fraction': 0.50,\n",
    "              'bagging_fraction': 0.70,\n",
    "              'verbose':0,\n",
    "              'n_estimators':10000,\n",
    "              'random_state':seed,\n",
    "              'num_threads':4 #Put to 4 if you are leaving computer\n",
    "              }\n",
    "\n",
    "if not VALID:\n",
    "    lgb_params['n_estimators']=2421"
   ]
  },
  {
   "cell_type": "markdown",
   "metadata": {},
   "source": [
    "## Validation Scheme"
   ]
  },
  {
   "cell_type": "code",
   "execution_count": 46,
   "metadata": {},
   "outputs": [],
   "source": [
    "#kf = KFold(5,shuffle=True,random_state=seed)\n",
    "kf = ShuffleSplit(n_splits=1,test_size=0.1)"
   ]
  },
  {
   "cell_type": "code",
   "execution_count": 47,
   "metadata": {},
   "outputs": [
    {
     "name": "stdout",
     "output_type": "stream",
     "text": [
      "377372\n"
     ]
    }
   ],
   "source": [
    "feature_names=features + ['desc_'+ x for x in tfidf_desc.get_feature_names()] + ['title_' + x for x in wordVectTitle.get_feature_names()]+['params'+x for x in  wordVectParams.get_feature_names()]\n",
    "print(len(feature_names))"
   ]
  },
  {
   "cell_type": "code",
   "execution_count": 48,
   "metadata": {},
   "outputs": [
    {
     "name": "stderr",
     "output_type": "stream",
     "text": [
      "E:\\Anaconda3\\lib\\site-packages\\lightgbm\\engine.py:99: UserWarning: Found `n_estimators` in params. Will use it instead of argument\n",
      "  warnings.warn(\"Found `{}` in params. Will use it instead of argument\".format(alias))\n"
     ]
    },
    {
     "name": "stdout",
     "output_type": "stream",
     "text": [
      "73.0 Minutes\n"
     ]
    }
   ],
   "source": [
    "feature_importances_split = []\n",
    "feature_importances_gain = []\n",
    "if VALID:\n",
    "    i=0\n",
    "    rmse=[]\n",
    "    n_trees =[]\n",
    "    for train_idx, test_idx in kf.split(X,y):\n",
    "        start = time()\n",
    "        \n",
    "        lgtrain = lgb.Dataset(X[train_idx], y[train_idx],\n",
    "                    feature_name=feature_names,\n",
    "                    categorical_feature = categoricals)\n",
    "        lgvalid = lgb.Dataset(X[test_idx], y[test_idx],\n",
    "                    feature_name=feature_names,\n",
    "                    categorical_feature = categoricals)\n",
    "        \n",
    "        lgb_model = lgb.train(lgb_params,lgtrain,early_stopping_rounds=75,verbose_eval=50,num_boost_round=lgb_params['n_estimators'],\n",
    "                      valid_sets=[lgtrain, lgvalid],\n",
    "                      valid_names=['train','valid'],\n",
    "                      feature_name=feature_names,\n",
    "                      categorical_feature=categoricals)\n",
    "\n",
    "        rmse.append(mean_squared_error(y[test_idx],lgb_model.predict(X[test_idx]).clip(0.0,1.0))**0.5)\n",
    "        \n",
    "        n_trees.append(lgb_model.best_iteration)\n",
    "        feature_importances_split.append(lgb_model.feature_importance(importance_type='split'))\n",
    "        feature_importances_gain.append(lgb_model.feature_importance(importance_type='gain'))\n",
    "        \n",
    "        print('Fold',str(i),'RMSE is',rmse[i])\n",
    "        print(lgb_model.best_iteration)\n",
    "        i+=1\n",
    "        print((time()-start)//60,'Minutes')\n",
    "    avg_rmse = sum(rmse)/len(rmse)\n",
    "    avg_trees = sum(n_trees)//len(n_trees)\n",
    "    print('Average RMSE',avg_rmse,'Average Trees',avg_trees)\n",
    "else:\n",
    "        start = time()\n",
    "        lgtrain = lgb.Dataset(X, y,\n",
    "                    feature_name=feature_names,\n",
    "                    categorical_feature = categoricals)\n",
    "        \n",
    "        lgb_model = lgb.train(lgb_params,lgtrain,verbose_eval=50,num_boost_round=lgb_params['n_estimators'],\n",
    "                      feature_name=feature_names,\n",
    "                      categorical_feature=categoricals)\n",
    "        \n",
    "        feature_importances_split.append(lgb_model.feature_importance(importance_type='split'))\n",
    "        feature_importances_gain.append(lgb_model.feature_importance(importance_type='gain'))\n",
    "        print((time()-start)//60,'Minutes')"
   ]
  },
  {
   "cell_type": "markdown",
   "metadata": {},
   "source": [
    "## Predictions"
   ]
  },
  {
   "cell_type": "code",
   "execution_count": 49,
   "metadata": {},
   "outputs": [],
   "source": [
    "predictions = lgb_model.predict(X_test)"
   ]
  },
  {
   "cell_type": "code",
   "execution_count": 50,
   "metadata": {},
   "outputs": [],
   "source": [
    "if VALID:\n",
    "    avg_rmse = sum(rmse)/len(rmse)"
   ]
  },
  {
   "cell_type": "code",
   "execution_count": 51,
   "metadata": {},
   "outputs": [],
   "source": [
    "test['deal_probability']=predictions.clip(0.0,1.0)\n",
    "if VALID:\n",
    "    test[['item_id','deal_probability']].to_csv(DATA_PATH+f'{avg_rmse:.4f}_'+'Predictions_LGB.csv',index=False)\n",
    "else:\n",
    "    test[['item_id','deal_probability']].to_csv(DATA_PATH+'Predictions_LGB_image_guess.csv',index=False)"
   ]
  },
  {
   "cell_type": "code",
   "execution_count": 52,
   "metadata": {},
   "outputs": [],
   "source": [
    "feature_importances_split = np.stack(feature_importances_split).mean(axis=0)\n",
    "feature_importances_gain = np.stack(feature_importances_gain).mean(axis=0)\n",
    "importances = pd.DataFrame({'Name':feature_names,\n",
    "                  'Gain':list(feature_importances_gain),\n",
    "                 'Split':list(feature_importances_split)})"
   ]
  },
  {
   "cell_type": "code",
   "execution_count": 53,
   "metadata": {},
   "outputs": [
    {
     "data": {
      "image/png": "[encoded data removed]",
      "text/plain": [
       "<Figure size 864x1512 with 1 Axes>"
      ]
     },
     "metadata": {},
     "output_type": "display_data"
    }
   ],
   "source": [
    "feature_sort = 'Split'\n",
    "importances = importances.sort_values(feature_sort,ascending=False)\n",
    "plt.figure(figsize=(12,21))\n",
    "sns.barplot(x=feature_sort, y='Name',data=importances[:100])\n",
    "plt.show()"
   ]
  },
  {
   "cell_type": "code",
   "execution_count": 54,
   "metadata": {},
   "outputs": [
    {
     "data": {
      "image/png": "[encoded data removed]",
      "text/plain": [
       "<Figure size 864x1512 with 1 Axes>"
      ]
     },
     "metadata": {},
     "output_type": "display_data"
    }
   ],
   "source": [
    "plt.figure(figsize=(12,21))\n",
    "sns.barplot(x='Split', y='Name',data=importances[importances.Name.isin(features)])\n",
    "plt.show()"
   ]
  },
  {
   "cell_type": "code",
   "execution_count": null,
   "metadata": {},
   "outputs": [],
   "source": []
  }
 ],
 "metadata": {
  "kernelspec": {
   "display_name": "Python 3",
   "language": "python",
   "name": "python3"
  },
  "language_info": {
   "codemirror_mode": {
    "name": "ipython",
    "version": 3
   },
   "file_extension": ".py",
   "mimetype": "text/x-python",
   "name": "python",
   "nbconvert_exporter": "python",
   "pygments_lexer": "ipython3",
   "version": "3.6.5"
  }
 },
 "nbformat": 4,
 "nbformat_minor": 2
}
