{
 "cells": [
  {
   "cell_type": "code",
   "execution_count": 1,
   "metadata": {},
   "outputs": [
    {
     "name": "stderr",
     "output_type": "stream",
     "text": [
      "E:\\Anaconda3\\lib\\site-packages\\h5py\\__init__.py:36: FutureWarning: Conversion of the second argument of issubdtype from `float` to `np.floating` is deprecated. In future, it will be treated as `np.float64 == np.dtype(float).type`.\n",
      "  from ._conv import register_converters as _register_converters\n",
      "Using TensorFlow backend.\n"
     ]
    }
   ],
   "source": [
    "import os\n",
    "\n",
    "import numpy as np\n",
    "import pandas as pd\n",
    "from keras.preprocessing import image\n",
    "import keras.applications.resnet50 as resnet50\n",
    "import keras.applications.xception as xception\n",
    "import keras.applications.inception_v3 as inception_v3"
   ]
  },
  {
   "cell_type": "code",
   "execution_count": 2,
   "metadata": {},
   "outputs": [],
   "source": [
    "resnet_model = resnet50.ResNet50(weights='imagenet')\n",
    "inception_model = inception_v3.InceptionV3(weights='imagenet')\n",
    "xception_model = xception.Xception(weights='imagenet')"
   ]
  },
  {
   "cell_type": "code",
   "execution_count": 3,
   "metadata": {},
   "outputs": [],
   "source": [
    "from PIL import Image\n",
    "import cv2\n",
    "\n",
    "def image_classify(model, pak, img, top_n=1):\n",
    "    \"\"\"Classify image and return top matches.\"\"\"\n",
    "    target_size = (224, 224)\n",
    "    if img.size != target_size:\n",
    "        img = img.resize(target_size)\n",
    "    x = image.img_to_array(img)\n",
    "    x = np.expand_dims(x, axis=0)\n",
    "    x = pak.preprocess_input(x)\n",
    "    preds = model.predict(x)\n",
    "    return pak.decode_predictions(preds, top=3)\n",
    "\n",
    "\n",
    "def classify_and_plot(image_path):\n",
    "    \"\"\"Classify an image with different models.\n",
    "    Plot it and its predicitons.\n",
    "    \"\"\"\n",
    "    img = Image.open(image_path)\n",
    "    resnet_preds = image_classify(resnet_model, resnet50, img)\n",
    "    xception_preds = image_classify(xception_model, xception, img)\n",
    "    inception_preds = image_classify(inception_model, inception_v3, img)\n",
    "    preds_arr = [('Resnet50', resnet_preds), ('xception', xception_preds), ('Inception', inception_preds)]\n",
    "    return (img, preds_arr)"
   ]
  },
  {
   "cell_type": "code",
   "execution_count": 4,
   "metadata": {},
   "outputs": [],
   "source": [
    "image_files = [x.path for x in os.scandir('E:/Kaggle/Avito/Images0')]"
   ]
  },
  {
   "cell_type": "code",
   "execution_count": 5,
   "metadata": {},
   "outputs": [
    {
     "name": "stdout",
     "output_type": "stream",
     "text": [
      "['iPod', 'hand-held_computer', 'cellular_telephone', 0.31853566, 0.1416138, 0.09922744, 'hand-held_computer', 'screen', 'oscilloscope', 0.98155826, 0.008925793, 0.0031165234, 'monitor', 'desktop_computer', 'hand-held_computer', 0.3118162, 0.28669664, 0.21826982]\n"
     ]
    }
   ],
   "source": [
    "from collections import Counter\n",
    "from pprint import pprint\n",
    "\n",
    "import pandas as pd\n",
    "import numpy as np\n",
    "\n",
    "import matplotlib.pyplot as plt\n",
    "%matplotlib inline\n",
    "\n",
    "def get_data_from_image(dat):\n",
    "    scores1 = [i[1] for i in dat[1][0][1][0]]\n",
    "    labels1 = [i[2] for i in dat[1][0][1][0]]\n",
    "    scores2 = [i[1] for i in dat[1][1][1][0]]\n",
    "    labels2 = [i[2] for i in dat[1][1][1][0]]\n",
    "    scores3 = [i[1] for i in dat[1][2][1][0]]\n",
    "    labels3 = [i[2] for i in dat[1][2][1][0]]\n",
    "    df = scores1 + labels1 + scores2 + labels2 + scores3 + labels3\n",
    "    return df\n",
    "\n",
    "dat = classify_and_plot(image_files[0])\n",
    "df = get_data_from_image(dat)\n",
    "print(df)"
   ]
  },
  {
   "cell_type": "code",
   "execution_count": 6,
   "metadata": {},
   "outputs": [],
   "source": [
    "import tqdm"
   ]
  },
  {
   "cell_type": "code",
   "execution_count": 15,
   "metadata": {},
   "outputs": [
    {
     "name": "stderr",
     "output_type": "stream",
     "text": [
      "100%|████████████████████████████████████████████████████████████████████████| 278169/278169 [4:10:59<00:00, 18.47it/s]\n"
     ]
    },
    {
     "name": "stdout",
     "output_type": "stream",
     "text": [
      "Wall time: 4h 10min 59s\n"
     ]
    }
   ],
   "source": [
    "%%time\n",
    "predictions = []\n",
    "for i in tqdm.trange(len(image_files)):\n",
    "    try:\n",
    "        dat = classify_and_plot(image_files[i])\n",
    "        df = [image_files[i][24:-4]]+get_data_from_image(dat)\n",
    "        predictions.append(df)\n",
    "    except:\n",
    "        predictions.append([image_files[i][24:-4]]+\n",
    "                           [None,None,None,None,None,None,None,None,None,None,None,None,None,None,None,None,None,None])"
   ]
  },
  {
   "cell_type": "code",
   "execution_count": 16,
   "metadata": {},
   "outputs": [],
   "source": [
    "df = pd.DataFrame(predictions,columns=['image','Res50_label1','Res50_label2','Res50_label3','Res50_score1','Res50_score2','Res50_score3',\n",
    "                                       'Xcept_label1','Xcept_label2','Xcept_label3','Xcept_score1','Xcept_score2','Xcept_score3',\n",
    "                                       'Incept_label1','Incept_label2','Incept_label3','Incept_score1','Incept_score2','Incept_score3'])"
   ]
  },
  {
   "cell_type": "code",
   "execution_count": 17,
   "metadata": {},
   "outputs": [],
   "source": [
    "df.to_csv('E:/Kaggle/Avito/Image_preds0.csv',index=False)"
   ]
  },
  {
   "cell_type": "code",
   "execution_count": null,
   "metadata": {},
   "outputs": [],
   "source": []
  },
  {
   "cell_type": "code",
   "execution_count": 18,
   "metadata": {},
   "outputs": [],
   "source": [
    "image_files = [x.path for x in os.scandir('E:/Kaggle/Avito/Images1')]"
   ]
  },
  {
   "cell_type": "code",
   "execution_count": 19,
   "metadata": {},
   "outputs": [
    {
     "name": "stderr",
     "output_type": "stream",
     "text": [
      "100%|████████████████████████████████████████████████████████████████████████| 278167/278167 [4:03:21<00:00, 19.05it/s]\n"
     ]
    },
    {
     "name": "stdout",
     "output_type": "stream",
     "text": [
      "Wall time: 4h 3min 25s\n"
     ]
    }
   ],
   "source": [
    "%%time\n",
    "predictions = []\n",
    "for i in tqdm.trange(len(image_files)):\n",
    "    try:\n",
    "        dat = classify_and_plot(image_files[i])\n",
    "        df = [image_files[i][24:-4]]+get_data_from_image(dat)\n",
    "        predictions.append(df)\n",
    "    except:\n",
    "        predictions.append([image_files[i][24:-4]]+\n",
    "                           [None,None,None,None,None,None,None,None,None,None,None,None,None,None,None,None,None,None])\n",
    "df = pd.DataFrame(predictions,columns=['image','Res50_label1','Res50_label2','Res50_label3','Res50_score1','Res50_score2','Res50_score3',\n",
    "                                       'Xcept_label1','Xcept_label2','Xcept_label3','Xcept_score1','Xcept_score2','Xcept_score3',\n",
    "                                       'Incept_label1','Incept_label2','Incept_label3','Incept_score1','Incept_score2','Incept_score3'])\n",
    "df.to_csv('E:/Kaggle/Avito/Image_preds1.csv',index=False)"
   ]
  },
  {
   "cell_type": "code",
   "execution_count": null,
   "metadata": {},
   "outputs": [],
   "source": []
  },
  {
   "cell_type": "code",
   "execution_count": 20,
   "metadata": {},
   "outputs": [],
   "source": [
    "image_files = [x.path for x in os.scandir('E:/Kaggle/Avito/Images2')]"
   ]
  },
  {
   "cell_type": "code",
   "execution_count": 21,
   "metadata": {},
   "outputs": [
    {
     "name": "stderr",
     "output_type": "stream",
     "text": [
      "100%|████████████████████████████████████████████████████████████████████████| 278168/278168 [3:58:58<00:00, 19.40it/s]\n"
     ]
    },
    {
     "name": "stdout",
     "output_type": "stream",
     "text": [
      "Wall time: 3h 59min 2s\n"
     ]
    }
   ],
   "source": [
    "%%time\n",
    "predictions = []\n",
    "for i in tqdm.trange(len(image_files)):\n",
    "    try:\n",
    "        dat = classify_and_plot(image_files[i])\n",
    "        df = [image_files[i][24:-4]]+get_data_from_image(dat)\n",
    "        predictions.append(df)\n",
    "    except:\n",
    "        predictions.append([image_files[i][24:-4]]+\n",
    "                           [None,None,None,None,None,None,None,None,None,None,None,None,None,None,None,None,None,None])\n",
    "df = pd.DataFrame(predictions,columns=['image','Res50_label1','Res50_label2','Res50_label3','Res50_score1','Res50_score2','Res50_score3',\n",
    "                                       'Xcept_label1','Xcept_label2','Xcept_label3','Xcept_score1','Xcept_score2','Xcept_score3',\n",
    "                                       'Incept_label1','Incept_label2','Incept_label3','Incept_score1','Incept_score2','Incept_score3'])\n",
    "df.to_csv('E:/Kaggle/Avito/Image_preds2.csv',index=False)"
   ]
  },
  {
   "cell_type": "code",
   "execution_count": null,
   "metadata": {},
   "outputs": [],
   "source": []
  },
  {
   "cell_type": "code",
   "execution_count": 22,
   "metadata": {},
   "outputs": [],
   "source": [
    "image_files = [x.path for x in os.scandir('E:/Kaggle/Avito/Images3')]"
   ]
  },
  {
   "cell_type": "code",
   "execution_count": 23,
   "metadata": {},
   "outputs": [
    {
     "name": "stderr",
     "output_type": "stream",
     "text": [
      "100%|████████████████████████████████████████████████████████████████████████| 278167/278167 [4:00:14<00:00, 19.30it/s]\n"
     ]
    },
    {
     "name": "stdout",
     "output_type": "stream",
     "text": [
      "Wall time: 4h 18s\n"
     ]
    }
   ],
   "source": [
    "%%time\n",
    "predictions = []\n",
    "for i in tqdm.trange(len(image_files)):\n",
    "    try:\n",
    "        dat = classify_and_plot(image_files[i])\n",
    "        df = [image_files[i][24:-4]]+get_data_from_image(dat)\n",
    "        predictions.append(df)\n",
    "    except:\n",
    "        predictions.append([image_files[i][24:-4]]+\n",
    "                           [None,None,None,None,None,None,None,None,None,None,None,None,None,None,None,None,None,None])\n",
    "df = pd.DataFrame(predictions,columns=['image','Res50_label1','Res50_label2','Res50_label3','Res50_score1','Res50_score2','Res50_score3',\n",
    "                                       'Xcept_label1','Xcept_label2','Xcept_label3','Xcept_score1','Xcept_score2','Xcept_score3',\n",
    "                                       'Incept_label1','Incept_label2','Incept_label3','Incept_score1','Incept_score2','Incept_score3'])\n",
    "df.to_csv('E:/Kaggle/Avito/Image_preds3.csv',index=False)"
   ]
  },
  {
   "cell_type": "code",
   "execution_count": null,
   "metadata": {},
   "outputs": [],
   "source": []
  },
  {
   "cell_type": "code",
   "execution_count": 24,
   "metadata": {},
   "outputs": [],
   "source": [
    "image_files = [x.path for x in os.scandir('E:/Kaggle/Avito/Images4')]"
   ]
  },
  {
   "cell_type": "code",
   "execution_count": 25,
   "metadata": {},
   "outputs": [
    {
     "name": "stderr",
     "output_type": "stream",
     "text": [
      "100%|████████████████████████████████████████████████████████████████████████| 278167/278167 [4:09:15<00:00, 18.60it/s]\n"
     ]
    },
    {
     "name": "stdout",
     "output_type": "stream",
     "text": [
      "Wall time: 4h 9min 20s\n"
     ]
    }
   ],
   "source": [
    "%%time\n",
    "predictions = []\n",
    "for i in tqdm.trange(len(image_files)):\n",
    "    try:\n",
    "        dat = classify_and_plot(image_files[i])\n",
    "        df = [image_files[i][24:-4]]+get_data_from_image(dat)\n",
    "        predictions.append(df)\n",
    "    except:\n",
    "        predictions.append([image_files[i][24:-4]]+\n",
    "                           [None,None,None,None,None,None,None,None,None,None,None,None,None,None,None,None,None,None])\n",
    "df = pd.DataFrame(predictions,columns=['image','Res50_label1','Res50_label2','Res50_label3','Res50_score1','Res50_score2','Res50_score3',\n",
    "                                       'Xcept_label1','Xcept_label2','Xcept_label3','Xcept_score1','Xcept_score2','Xcept_score3',\n",
    "                                       'Incept_label1','Incept_label2','Incept_label3','Incept_score1','Incept_score2','Incept_score3'])\n",
    "df.to_csv('E:/Kaggle/Avito/Image_preds4.csv',index=False)"
   ]
  },
  {
   "cell_type": "code",
   "execution_count": null,
   "metadata": {},
   "outputs": [],
   "source": []
  },
  {
   "cell_type": "code",
   "execution_count": 7,
   "metadata": {},
   "outputs": [],
   "source": [
    "image_files = [x.path for x in os.scandir('E:/Kaggle/Avito/imagestest/data/competition_files/test_jpg')]"
   ]
  },
  {
   "cell_type": "code",
   "execution_count": null,
   "metadata": {},
   "outputs": [
    {
     "name": "stderr",
     "output_type": "stream",
     "text": [
      "  5%|███▉                                                                     | 25189/465829 [24:33<7:09:38, 17.09it/s]"
     ]
    }
   ],
   "source": [
    "%%time\n",
    "predictions = []\n",
    "for i in tqdm.trange(len(image_files)):\n",
    "    try:\n",
    "        dat = classify_and_plot(image_files[i])\n",
    "        df = [image_files[i][59:-4]]+get_data_from_image(dat)\n",
    "        predictions.append(df)\n",
    "    except:\n",
    "        predictions.append([image_files[i][24:-4]]+\n",
    "                           [None,None,None,None,None,None,None,None,None,None,None,None,None,None,None,None,None,None])\n",
    "df = pd.DataFrame(predictions,columns=['image','Res50_label1','Res50_label2','Res50_label3','Res50_score1','Res50_score2','Res50_score3',\n",
    "                                       'Xcept_label1','Xcept_label2','Xcept_label3','Xcept_score1','Xcept_score2','Xcept_score3',\n",
    "                                       'Incept_label1','Incept_label2','Incept_label3','Incept_score1','Incept_score2','Incept_score3'])\n",
    "df.to_csv('E:/Kaggle/Avito/Image_predstest.csv',index=False)"
   ]
  },
  {
   "cell_type": "code",
   "execution_count": null,
   "metadata": {},
   "outputs": [],
   "source": []
  }
 ],
 "metadata": {
  "kernelspec": {
   "display_name": "Python 3",
   "language": "python",
   "name": "python3"
  },
  "language_info": {
   "codemirror_mode": {
    "name": "ipython",
    "version": 3
   },
   "file_extension": ".py",
   "mimetype": "text/x-python",
   "name": "python",
   "nbconvert_exporter": "python",
   "pygments_lexer": "ipython3",
   "version": "3.6.5"
  }
 },
 "nbformat": 4,
 "nbformat_minor": 2
}
